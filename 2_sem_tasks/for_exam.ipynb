{
 "cells": [
  {
   "cell_type": "markdown",
   "id": "abc7399b-fe31-43e7-bec0-f650ae4ff8bc",
   "metadata": {
    "jp-MarkdownHeadingCollapsed": true
   },
   "source": [
    "# Класс"
   ]
  },
  {
   "cell_type": "markdown",
   "id": "acdf2f92-644b-47bd-86ed-0f83a7ecf4ae",
   "metadata": {},
   "source": [
    "№1 Опишите класс Animal, заданный видом, возрастом и весом. Включите в описание класса методы: вывода информации о животном на экран, проверки, является ли животное взрослым (возраст больше 3 лет), и свойство, позволяющее установить цвет животного."
   ]
  },
  {
   "cell_type": "code",
   "execution_count": 2,
   "id": "34a42d52-1009-4036-b62b-155d529c1395",
   "metadata": {},
   "outputs": [],
   "source": [
    "class Animal:\n",
    "    def __init__(self, species, age, weight):\n",
    "        self.species = species\n",
    "        self.age = age\n",
    "        self.weight = weight\n",
    "        self.color = None\n",
    "    \n",
    "    def display_info(self):\n",
    "        info_ = f\"Вид: {self.species}\\nВозраст: {self.age}\\nВес: {self.weight}\"\n",
    "        \n",
    "        print(info_ + f\"\\nЦвет: {self.color}\" if self.color is not None else info_)\n",
    "    \n",
    "    def is_adult(self):\n",
    "        return \"Да\" if self.age > 3 else \"Нет\"\n",
    "    \n",
    "    @property\n",
    "    def color_(self):\n",
    "        return self.color\n",
    "    \n",
    "    @color_.setter\n",
    "    def color_(self, color):\n",
    "        self.color = color"
   ]
  },
  {
   "cell_type": "code",
   "execution_count": 3,
   "id": "a7f8d46b-5c74-4c36-9930-634dab03e9a1",
   "metadata": {},
   "outputs": [],
   "source": [
    "animal_1 = Animal('a', 4, 40)"
   ]
  },
  {
   "cell_type": "code",
   "execution_count": 4,
   "id": "d376dbf1-51c3-4daf-aaa6-aafe100c10ac",
   "metadata": {},
   "outputs": [
    {
     "name": "stdout",
     "output_type": "stream",
     "text": [
      "Вид: a\n",
      "Возраст: 4\n",
      "Вес: 40\n"
     ]
    }
   ],
   "source": [
    "animal_1.display_info()"
   ]
  },
  {
   "cell_type": "code",
   "execution_count": 6,
   "id": "4cf66f05-6dd7-4c11-a724-497d9a3ac699",
   "metadata": {},
   "outputs": [],
   "source": [
    "animal_1.color = \"b\""
   ]
  },
  {
   "cell_type": "code",
   "execution_count": 7,
   "id": "91984af1-fddc-4cfa-b7bf-4b92103a5f27",
   "metadata": {},
   "outputs": [
    {
     "name": "stdout",
     "output_type": "stream",
     "text": [
      "Вид: a\n",
      "Возраст: 4\n",
      "Вес: 40\n",
      "Цвет: b\n"
     ]
    }
   ],
   "source": [
    "animal_1.display_info()"
   ]
  },
  {
   "cell_type": "markdown",
   "id": "27becf00-6308-40bc-b521-512438558352",
   "metadata": {},
   "source": [
    "№2 Опишите класс Movie, заданный названием, режиссером, годом выпуска и продолжительностью. Включите в описание класса методы: вывода информации о фильме на экран, проверки, является ли фильм длинным (продолжительность больше 2 часов), и свойство, позволяющее установить жанр фильма."
   ]
  },
  {
   "cell_type": "code",
   "execution_count": 20,
   "id": "a4b76ade-c191-4ce8-a4bf-a588d64c7022",
   "metadata": {},
   "outputs": [],
   "source": [
    "class Movie:\n",
    "    def __init__(self, title, director, year, duration):\n",
    "        self.title = title\n",
    "        self.director = director\n",
    "        self.year = year\n",
    "        self.duration = duration\n",
    "        self.genre = None\n",
    "    \n",
    "    def display_info(self):\n",
    "        info_ = f\"Title: {self.title}\\nDirector: {self.director}\\nYear: {self.year}\\nDuration: {self.duration}\"\n",
    "        \n",
    "        print(info_ + f\"\\nGenre: {self.genre}\" if self.genre is not None else info_)\n",
    "    \n",
    "    def is_long(self):\n",
    "        print(\"Yes\" if self.duration > 2 else \"No\")\n",
    "    \n",
    "    @property\n",
    "    def genre_(self):\n",
    "        return self.genre\n",
    "    \n",
    "    @genre_.setter\n",
    "    def genre_(self, genre):\n",
    "        self.genre = genre"
   ]
  },
  {
   "cell_type": "code",
   "execution_count": 21,
   "id": "26142930-f962-440a-8024-54fd0887322d",
   "metadata": {},
   "outputs": [],
   "source": [
    "movie_1 = Movie('a', 'b', 2333, 2)"
   ]
  },
  {
   "cell_type": "code",
   "execution_count": 22,
   "id": "06563373-b395-4375-a66e-3d595860f456",
   "metadata": {},
   "outputs": [
    {
     "name": "stdout",
     "output_type": "stream",
     "text": [
      "Title: a\n",
      "Director: b\n",
      "Year: 2333\n",
      "Duration: 2\n"
     ]
    }
   ],
   "source": [
    "movie_1.display_info()"
   ]
  },
  {
   "cell_type": "code",
   "execution_count": 23,
   "id": "4762b66a-9b2f-4cf5-b211-aeb8a2e1f1cd",
   "metadata": {},
   "outputs": [
    {
     "name": "stdout",
     "output_type": "stream",
     "text": [
      "No\n"
     ]
    }
   ],
   "source": [
    "movie_1.is_long()"
   ]
  },
  {
   "cell_type": "code",
   "execution_count": 24,
   "id": "af9bb325-10f2-4dc2-b2ca-6ca124def372",
   "metadata": {},
   "outputs": [],
   "source": [
    "movie_1.genre = 'c'"
   ]
  },
  {
   "cell_type": "code",
   "execution_count": 25,
   "id": "d4c02a0c-a0a1-4905-91dd-64aa5655f6b7",
   "metadata": {},
   "outputs": [
    {
     "name": "stdout",
     "output_type": "stream",
     "text": [
      "Title: a\n",
      "Director: b\n",
      "Year: 2333\n",
      "Duration: 2\n",
      "Genre: c\n"
     ]
    }
   ],
   "source": [
    "movie_1.display_info()"
   ]
  },
  {
   "cell_type": "markdown",
   "id": "bcb14a03-7b43-4786-9caa-1574d98ac59d",
   "metadata": {},
   "source": [
    "№3 Опишите класс Student, заданный фамилией, именем, возрастом и сред-ним баллом. Включите в описание класса методы: вывода информации о студенте на экран, проверки, является ли студент отличником (средний балл больше 4.5), и свойство, позволяющее установить факультет, на котором учится студент."
   ]
  },
  {
   "cell_type": "code",
   "execution_count": 26,
   "id": "2d12e246-107a-49e3-bb2a-dbb68797877b",
   "metadata": {},
   "outputs": [],
   "source": [
    "class Student:\n",
    "    def __init__(self, last_name, name, age, gpa):\n",
    "        self.last_name = last_name\n",
    "        self.name = name\n",
    "        self.age = age\n",
    "        self.gpa = gpa\n",
    "        self.faculty = None\n",
    "    \n",
    "    def display_info(self):\n",
    "        info_ = f\"Last name: {self.last_name}\\nName: {self.name}\\nAge: {self.age}\\nGPA: {self.gpa}\"\n",
    "        \n",
    "        print(info_ + f\"\\nFaculty: {self.faculty}\" if self.faculty is not None else info_)\n",
    "\n",
    "    def is_ex_st(self):\n",
    "        print(\"Yes\" if self.gpa > 4.5 else \"No\")\n",
    "    \n",
    "    @property\n",
    "    def faculty_(self):\n",
    "        return self.faculty\n",
    "    \n",
    "    @faculty_.setter\n",
    "    def faculty_(self, faculty):\n",
    "        self.faculty = faculty"
   ]
  },
  {
   "cell_type": "code",
   "execution_count": 30,
   "id": "e7781127-7b05-436f-bc43-73026de23393",
   "metadata": {},
   "outputs": [],
   "source": [
    "student_1 = Student('a', 'b', 21, 4.4)"
   ]
  },
  {
   "cell_type": "code",
   "execution_count": 31,
   "id": "f49b571e-43a1-4ecf-b2bf-a9cb8a42e867",
   "metadata": {},
   "outputs": [
    {
     "name": "stdout",
     "output_type": "stream",
     "text": [
      "Last name: a\n",
      "Name: b\n",
      "Age: 21\n",
      "GPA: 4.4\n"
     ]
    }
   ],
   "source": [
    "student_1.display_info()"
   ]
  },
  {
   "cell_type": "code",
   "execution_count": 32,
   "id": "78cd6745-1470-422d-b3d2-657bdaa45622",
   "metadata": {},
   "outputs": [
    {
     "name": "stdout",
     "output_type": "stream",
     "text": [
      "No\n"
     ]
    }
   ],
   "source": [
    "student_1.is_ex_st()"
   ]
  },
  {
   "cell_type": "code",
   "execution_count": 33,
   "id": "bbcfc9ab-b6ea-46d7-9ab5-81ae6399ce54",
   "metadata": {},
   "outputs": [],
   "source": [
    "student_1.faculty = \"c\""
   ]
  },
  {
   "cell_type": "code",
   "execution_count": 34,
   "id": "bbb6c147-242b-4a0a-b0e6-8c049ca328e3",
   "metadata": {},
   "outputs": [
    {
     "name": "stdout",
     "output_type": "stream",
     "text": [
      "Last name: a\n",
      "Name: b\n",
      "Age: 21\n",
      "GPA: 4.4\n",
      "Faculty: c\n"
     ]
    }
   ],
   "source": [
    "student_1.display_info()"
   ]
  },
  {
   "cell_type": "markdown",
   "id": "fac39885-a56e-4201-ae97-79d310de9cc3",
   "metadata": {},
   "source": [
    "№4 Опишите класс BankAccount, заданный номером счета, балансом и вла-дельцем. Включите в описание класса методы: вывода информации о банковском счете на экран, проверки, достаточно ли денег на счете для выполнения операции, и свойство, позволяющее установить тип валюты, в которой открыт счет."
   ]
  },
  {
   "cell_type": "code",
   "execution_count": 35,
   "id": "ca18af6a-59b8-4e74-bea2-27164718e73b",
   "metadata": {},
   "outputs": [],
   "source": [
    "class BankAccount:\n",
    "    def __init__(self, acc_number, balance, owner):\n",
    "        self.acc_number = acc_number\n",
    "        self.balance = balance\n",
    "        self.owner = owner\n",
    "        self.currency = None\n",
    "    \n",
    "    def display_info(self):\n",
    "        info_ = f\"Account number: {self.acc_number}\\nBalance: {self.balance}\\nOwner: {self.owner}\"\n",
    "        \n",
    "        print(info_ + f\"\\nCurrency: {self.currency}\" if self.currency is not None else info_)\n",
    "    \n",
    "    def is_enough_money(self, amount):\n",
    "        print(\"Yes\" if self.balance >= amount else \"No\")\n",
    "    \n",
    "    @property\n",
    "    def currency_(self):\n",
    "        return self.currency\n",
    "    \n",
    "    @currency_.setter\n",
    "    def currency_(self, currency):\n",
    "        self.currency = currency"
   ]
  },
  {
   "cell_type": "code",
   "execution_count": 36,
   "id": "020459cc-3a69-4b43-9474-d7e319fa7e57",
   "metadata": {},
   "outputs": [],
   "source": [
    "bank_acc_1 = BankAccount('a', 120, 'b')"
   ]
  },
  {
   "cell_type": "code",
   "execution_count": 37,
   "id": "d269885f-c4f3-46d2-b50c-0003f4786b81",
   "metadata": {},
   "outputs": [
    {
     "name": "stdout",
     "output_type": "stream",
     "text": [
      "Account number: a\n",
      "Balance: 120\n",
      "Owner: b\n"
     ]
    }
   ],
   "source": [
    "bank_acc_1.display_info()"
   ]
  },
  {
   "cell_type": "code",
   "execution_count": 39,
   "id": "8c214d63-d01a-42e0-a196-e17ee1492267",
   "metadata": {},
   "outputs": [
    {
     "name": "stdout",
     "output_type": "stream",
     "text": [
      "No\n"
     ]
    }
   ],
   "source": [
    "bank_acc_1.is_enough_money(180)"
   ]
  },
  {
   "cell_type": "code",
   "execution_count": 40,
   "id": "7449164a-382f-481a-bf73-5a4f10d2ac95",
   "metadata": {},
   "outputs": [],
   "source": [
    "bank_acc_1.currency = \"KZT\" "
   ]
  },
  {
   "cell_type": "code",
   "execution_count": 41,
   "id": "441bdb3c-e06b-4340-a8ee-5203d28b49fd",
   "metadata": {},
   "outputs": [
    {
     "name": "stdout",
     "output_type": "stream",
     "text": [
      "Account number: a\n",
      "Balance: 120\n",
      "Owner: b\n",
      "Currency: KZT\n"
     ]
    }
   ],
   "source": [
    "bank_acc_1.display_info()"
   ]
  },
  {
   "cell_type": "markdown",
   "id": "49213e29-6667-46f1-a8d8-ba8cbbebe236",
   "metadata": {},
   "source": [
    "№5 Опишите класс Recipe, заданный названием, списком ингредиентов и шагами приготовления. Включите в описание класса методы: вывода информации о рецепте на экран, проверки, есть ли все ингредиенты для приготовления блюда, и свойство, позволяющее установить тип кухни (например, итальянская, японская и т. д.)."
   ]
  },
  {
   "cell_type": "code",
   "execution_count": 69,
   "id": "dceb434b-cdae-4941-b7d2-d455351a0e57",
   "metadata": {},
   "outputs": [],
   "source": [
    "class Recipe:\n",
    "    def __init__(self, name, ing_list, steps):\n",
    "        self.name = name\n",
    "        self.ing_list = ing_list\n",
    "        self.steps = steps\n",
    "        self.cuisine = None\n",
    "    \n",
    "    def display_info(self):\n",
    "        info_ = f\"Name: {self.name}\\nIngredients:\"\n",
    "        \n",
    "        for ing in self.ing_list:\n",
    "            info_ += f\"\\n- {ing}\"\n",
    "        \n",
    "        info_ += f\"\\nSteps:\"\n",
    "        \n",
    "        for step in self.steps:\n",
    "            info_ += f\"\\n {step}\"\n",
    "        \n",
    "        print(info_ + f\"\\nCuisine: {self.cuisine}\" if self.cuisine is not None else info_)\n",
    "    \n",
    "    def is_all_ing(self, ing_list_2):\n",
    "        return sorted(self.ing_list) == sorted(ing_list_2)\n",
    "    \n",
    "    @property\n",
    "    def cuisine_(self):\n",
    "        return self.cuisine\n",
    "    \n",
    "    @cuisine_.setter\n",
    "    def cuisine_(self, cuisine):\n",
    "        self.cuisine = cuisine"
   ]
  },
  {
   "cell_type": "code",
   "execution_count": 70,
   "id": "c25590d0-7e0f-4f00-a098-898c14159926",
   "metadata": {},
   "outputs": [],
   "source": [
    "recipe_1 = Recipe('a', ['qwerty', 'abc', 'ggg', 'rtb'], ['a', 'b', 'c'])"
   ]
  },
  {
   "cell_type": "code",
   "execution_count": 71,
   "id": "3e8a8f98-77a7-4d1e-bd35-85fa3559e3a0",
   "metadata": {},
   "outputs": [
    {
     "name": "stdout",
     "output_type": "stream",
     "text": [
      "Name: a\n",
      "Ingredients:\n",
      "- qwerty\n",
      "- abc\n",
      "- ggg\n",
      "- rtb\n",
      "Steps:\n",
      " a\n",
      " b\n",
      " c\n"
     ]
    }
   ],
   "source": [
    "recipe_1.display_info()"
   ]
  },
  {
   "cell_type": "code",
   "execution_count": 72,
   "id": "00b5bcbb-64ab-4746-b69b-4b4ccd4399d1",
   "metadata": {},
   "outputs": [
    {
     "data": {
      "text/plain": [
       "False"
      ]
     },
     "execution_count": 72,
     "metadata": {},
     "output_type": "execute_result"
    }
   ],
   "source": [
    "recipe_1.is_all_ing(['qwerty', 'abc', 'ggg', 'fwrrwr'])"
   ]
  },
  {
   "cell_type": "code",
   "execution_count": 73,
   "id": "b9aa5def-5528-4d19-8e83-0b4332bb051f",
   "metadata": {},
   "outputs": [
    {
     "data": {
      "text/plain": [
       "True"
      ]
     },
     "execution_count": 73,
     "metadata": {},
     "output_type": "execute_result"
    }
   ],
   "source": [
    "recipe_1.is_all_ing(['qwerty', 'abc', 'ggg', 'rtb'])"
   ]
  },
  {
   "cell_type": "code",
   "execution_count": 74,
   "id": "56fbda8c-c779-4ce8-9ef9-62d6fa2140e3",
   "metadata": {},
   "outputs": [],
   "source": [
    "recipe_1.cuisine = 'gggggggg'"
   ]
  },
  {
   "cell_type": "code",
   "execution_count": 75,
   "id": "5895677a-091c-4df6-80b5-f7e653ed72d8",
   "metadata": {},
   "outputs": [
    {
     "name": "stdout",
     "output_type": "stream",
     "text": [
      "Name: a\n",
      "Ingredients:\n",
      "- qwerty\n",
      "- abc\n",
      "- ggg\n",
      "- rtb\n",
      "Steps:\n",
      " a\n",
      " b\n",
      " c\n",
      "Cuisine: gggggggg\n"
     ]
    }
   ],
   "source": [
    "recipe_1.display_info()"
   ]
  },
  {
   "cell_type": "markdown",
   "id": "92d1d777-f5c1-49e7-a5b8-db303f8d3f64",
   "metadata": {
    "jp-MarkdownHeadingCollapsed": true
   },
   "source": [
    "# Функции"
   ]
  },
  {
   "cell_type": "code",
   "execution_count": 81,
   "id": "78077aef-ee89-4fa2-a2b6-6bff6c97f39c",
   "metadata": {},
   "outputs": [],
   "source": [
    "from random import randint"
   ]
  },
  {
   "cell_type": "markdown",
   "id": "5d6f3fda-8773-4252-89fd-62b9c2636527",
   "metadata": {},
   "source": [
    "№16 а) Напишите лямбда-функцию, которая умножает заданное число на 7 и вычитает из него 3, переданное в качестве аргумента. \n",
    "б) Найдите сумму всех чисел в заданном списке целых чисел с помощью лямбда-функции. \n",
    "в) Извлечь элементы списка, которые больше заданного числа, с помощью лямбда-функции."
   ]
  },
  {
   "cell_type": "code",
   "execution_count": 77,
   "id": "768bc1bd-0927-4535-861f-1563321f6843",
   "metadata": {},
   "outputs": [],
   "source": [
    "# а)\n",
    "\n",
    "a = 7\n",
    "\n",
    "func_a = lambda num, value: num * 7 - value"
   ]
  },
  {
   "cell_type": "code",
   "execution_count": 79,
   "id": "c05d38b5-7d98-4c4d-91b6-f86b1009b71c",
   "metadata": {},
   "outputs": [
    {
     "data": {
      "text/plain": [
       "46"
      ]
     },
     "execution_count": 79,
     "metadata": {},
     "output_type": "execute_result"
    }
   ],
   "source": [
    "func_a(a, 3)"
   ]
  },
  {
   "cell_type": "code",
   "execution_count": 85,
   "id": "34ae284f-e700-472f-9ef1-6482dc0a3da2",
   "metadata": {},
   "outputs": [],
   "source": [
    "from functools import reduce"
   ]
  },
  {
   "cell_type": "code",
   "execution_count": 87,
   "id": "7b5ef3ef-ad17-425c-bc88-1560c1a4509f",
   "metadata": {},
   "outputs": [
    {
     "name": "stdout",
     "output_type": "stream",
     "text": [
      "[42, -57, -64, 20, -52, -86]\n",
      "-197\n",
      "-197\n"
     ]
    }
   ],
   "source": [
    "# б)\n",
    "\n",
    "list_b = [randint(-100, 100) for _ in range(6)]\n",
    "\n",
    "func_b = lambda list_: sum(list_)\n",
    "func_b_v2 = lambda list_: reduce(lambda a, b: a + b, list_)\n",
    "\n",
    "print(list_b)\n",
    "print(func_b(list_b))\n",
    "print(func_b_v2(list_b))"
   ]
  },
  {
   "cell_type": "code",
   "execution_count": 100,
   "id": "151456fc-72bb-428c-bb8a-274b652f3439",
   "metadata": {},
   "outputs": [
    {
     "name": "stdout",
     "output_type": "stream",
     "text": [
      "[84, -23, 33, 71, -69, -64]\n",
      "24\n"
     ]
    }
   ],
   "source": [
    "# в)\n",
    "\n",
    "list_c = [randint(-100, 100) for _ in range(6)]\n",
    "value_ = randint(-100, 100)\n",
    "\n",
    "print(list_c)\n",
    "print(value_)"
   ]
  },
  {
   "cell_type": "code",
   "execution_count": 101,
   "id": "b1df24be-db58-4352-8281-e808d407c23f",
   "metadata": {},
   "outputs": [],
   "source": [
    "func_c = lambda list_, value: list(filter(lambda num: num > value, list_))"
   ]
  },
  {
   "cell_type": "code",
   "execution_count": 102,
   "id": "2f25b3ed-e6ac-45df-885d-ec0b20d8244a",
   "metadata": {},
   "outputs": [
    {
     "data": {
      "text/plain": [
       "[84, 33, 71]"
      ]
     },
     "execution_count": 102,
     "metadata": {},
     "output_type": "execute_result"
    }
   ],
   "source": [
    "func_c(list_c, value_)"
   ]
  },
  {
   "cell_type": "markdown",
   "id": "94d20767-d5b5-4356-b8e9-b35e068bec67",
   "metadata": {},
   "source": [
    "№17 а) Напишите лямбда-функцию, которая принимает два аргумента и возвращает их произведение. б) Найдите числа, которые являются квадратами целых чисел, из заданного списка чисел, используя лямбда-функцию. в) Напишите программу для подсчёта целых чисел в заданном смешанном списке с помощью лямбда-функции."
   ]
  },
  {
   "cell_type": "code",
   "execution_count": 103,
   "id": "3e259098-d3ad-470a-a744-144b4a69388f",
   "metadata": {},
   "outputs": [
    {
     "data": {
      "text/plain": [
       "12"
      ]
     },
     "execution_count": 103,
     "metadata": {},
     "output_type": "execute_result"
    }
   ],
   "source": [
    "func_a = lambda a, b: a * b\n",
    "\n",
    "func_a(3, 4)"
   ]
  },
  {
   "cell_type": "code",
   "execution_count": 109,
   "id": "9511a386-57d5-4cbd-add0-09a6603274c8",
   "metadata": {},
   "outputs": [],
   "source": [
    "from math import sqrt\n",
    "\n",
    "func_b = lambda list_: list(filter(lambda num: int(sqrt(num)) == sqrt(num), list_))"
   ]
  },
  {
   "cell_type": "code",
   "execution_count": 110,
   "id": "09b1f1b6-d59d-494b-9303-acbeb5af6b51",
   "metadata": {},
   "outputs": [
    {
     "data": {
      "text/plain": [
       "[9, 100, 25, 1]"
      ]
     },
     "execution_count": 110,
     "metadata": {},
     "output_type": "execute_result"
    }
   ],
   "source": [
    "func_b([20, 9, 100, 34, 76, 25, 1, 4.84, 133])"
   ]
  },
  {
   "cell_type": "code",
   "execution_count": 111,
   "id": "981fd1de-92cc-44eb-ac17-e0c1be080a7e",
   "metadata": {},
   "outputs": [],
   "source": [
    "func_c = lambda list_: len(list(filter(lambda num: isinstance(num, int), list_)))"
   ]
  },
  {
   "cell_type": "code",
   "execution_count": 112,
   "id": "d51e2326-580f-4374-bc6a-188e4662d509",
   "metadata": {},
   "outputs": [
    {
     "data": {
      "text/plain": [
       "8"
      ]
     },
     "execution_count": 112,
     "metadata": {},
     "output_type": "execute_result"
    }
   ],
   "source": [
    "func_c([20, 9, 'a', 100, 34, 76, 25, 1, 4.84, 133])"
   ]
  },
  {
   "cell_type": "markdown",
   "id": "ac57bf43-9e02-4f97-9eec-349932e9bf98",
   "metadata": {},
   "source": [
    "№18 а) Используя лямбда-функцию, отсортировать список строковых значений в алфавитном порядке. б) Найдите все анаграммы в заданном списке строк с помощью лямбда-функции. в) Найти индекс и значение максимального и минимального значений в заданном списке чисел с помощью лямбда-функции."
   ]
  },
  {
   "cell_type": "code",
   "execution_count": 125,
   "id": "f8ecb590-f709-4b5b-905a-fa5416422e2e",
   "metadata": {},
   "outputs": [],
   "source": [
    "list_a = ['Abc', 'grtggyhfb', 'KKEfkrFKEFC', 'abd']"
   ]
  },
  {
   "cell_type": "code",
   "execution_count": 126,
   "id": "c233d13a-6673-4ac3-bb54-6a499abd17a2",
   "metadata": {},
   "outputs": [],
   "source": [
    "func_a = lambda list_: sorted(list_, key=lambda x: x.lower())"
   ]
  },
  {
   "cell_type": "code",
   "execution_count": 127,
   "id": "7e402c92-d90b-4497-8914-239bde1f9e77",
   "metadata": {},
   "outputs": [
    {
     "data": {
      "text/plain": [
       "['Abc', 'abd', 'grtggyhfb', 'KKEfkrFKEFC']"
      ]
     },
     "execution_count": 127,
     "metadata": {},
     "output_type": "execute_result"
    }
   ],
   "source": [
    "func_a(list_a)"
   ]
  },
  {
   "cell_type": "code",
   "execution_count": 128,
   "id": "46ed10c4-1975-48a1-9d72-ef542349448d",
   "metadata": {},
   "outputs": [],
   "source": [
    "list_b = ['wertyqq', 'qewqrty', 'qwertq', 'qweqrty']"
   ]
  },
  {
   "cell_type": "code",
   "execution_count": 129,
   "id": "ae565d60-6097-412a-a0fb-e60ad501ecea",
   "metadata": {},
   "outputs": [],
   "source": [
    "func_b = lambda list_, value: list(filter(lambda expr_: sorted(expr_) == sorted(value), list_))"
   ]
  },
  {
   "cell_type": "code",
   "execution_count": 130,
   "id": "e21d19f1-4a5a-408d-9ad1-19460b9650e8",
   "metadata": {},
   "outputs": [
    {
     "data": {
      "text/plain": [
       "['wertyqq', 'qewqrty', 'qweqrty']"
      ]
     },
     "execution_count": 130,
     "metadata": {},
     "output_type": "execute_result"
    }
   ],
   "source": [
    "func_b(list_b, 'qqwerty')"
   ]
  },
  {
   "cell_type": "code",
   "execution_count": 132,
   "id": "6755f718-b62d-4905-9d84-2965f8c038b6",
   "metadata": {},
   "outputs": [],
   "source": [
    "list_c = [randint(-100, 100) for _ in range(6)]"
   ]
  },
  {
   "cell_type": "code",
   "execution_count": 162,
   "id": "42a932f8-e59a-48ab-bb7f-fccf1b606799",
   "metadata": {},
   "outputs": [],
   "source": [
    "func_c = lambda list_: [sorted(enumerate(list_), key=lambda x: x[1])[0], sorted(enumerate(list_), key=lambda x: x[1])[-1]]"
   ]
  },
  {
   "cell_type": "code",
   "execution_count": 163,
   "id": "4ac2145f-2b10-4499-ae2d-460545889d17",
   "metadata": {},
   "outputs": [
    {
     "data": {
      "text/plain": [
       "[(4, -44), (1, 94)]"
      ]
     },
     "execution_count": 163,
     "metadata": {},
     "output_type": "execute_result"
    }
   ],
   "source": [
    "func_c(list_c)"
   ]
  },
  {
   "cell_type": "code",
   "execution_count": 164,
   "id": "0d091bb8-0fd9-4416-9731-f39b8d564a4e",
   "metadata": {},
   "outputs": [],
   "source": [
    "func_c_v2_max = lambda list_: max(enumerate(list_), key=lambda x: x[1])"
   ]
  },
  {
   "cell_type": "code",
   "execution_count": 165,
   "id": "e21083b3-bc71-483c-98c8-574b242313cc",
   "metadata": {},
   "outputs": [],
   "source": [
    "func_c_v2_min = lambda list_: min(enumerate(list_), key= lambda x: x[1])"
   ]
  },
  {
   "cell_type": "code",
   "execution_count": 166,
   "id": "7f43e6e2-998a-4938-a280-bb4c0096a1b6",
   "metadata": {},
   "outputs": [
    {
     "data": {
      "text/plain": [
       "(1, 94)"
      ]
     },
     "execution_count": 166,
     "metadata": {},
     "output_type": "execute_result"
    }
   ],
   "source": [
    "func_c_v2_max(list_c)"
   ]
  },
  {
   "cell_type": "code",
   "execution_count": 167,
   "id": "ecd9c6f1-0da9-45da-9346-d77d5bcdab6c",
   "metadata": {},
   "outputs": [
    {
     "data": {
      "text/plain": [
       "(4, -44)"
      ]
     },
     "execution_count": 167,
     "metadata": {},
     "output_type": "execute_result"
    }
   ],
   "source": [
    "func_c_v2_min(list_c)"
   ]
  },
  {
   "cell_type": "markdown",
   "id": "2c18f917-a3c1-45a3-8d8a-20226d95e554",
   "metadata": {},
   "source": [
    "№19 а) Используя лямбда-функцию, отсортировать список кортежей по второму элементу. б) Найти все числа, которые делятся на три или пять, из заданного списка чисел, используя лямбда-функцию. в) Напишите программу для сортировки заданного смешанного списка целых чисел и строк с помощью лямбда-функции. Строки должны быть отсортированы перед числами."
   ]
  },
  {
   "cell_type": "code",
   "execution_count": 168,
   "id": "b9b554a6-619a-4646-83be-35f5a6cbe428",
   "metadata": {},
   "outputs": [],
   "source": [
    "list_a = [(12, 7, 3), (-10, 1200, 887), (0, -100, 667)]"
   ]
  },
  {
   "cell_type": "code",
   "execution_count": 169,
   "id": "a72fc795-c4c7-4c33-a705-9d73f7c18ad7",
   "metadata": {},
   "outputs": [],
   "source": [
    "func_a = lambda list_: sorted(list_, key=lambda x: x[1])"
   ]
  },
  {
   "cell_type": "code",
   "execution_count": 170,
   "id": "c21cc117-255c-4250-954b-caa2b40b495a",
   "metadata": {},
   "outputs": [
    {
     "data": {
      "text/plain": [
       "[(0, -100, 667), (12, 7, 3), (-10, 1200, 887)]"
      ]
     },
     "execution_count": 170,
     "metadata": {},
     "output_type": "execute_result"
    }
   ],
   "source": [
    "func_a(list_a)"
   ]
  },
  {
   "cell_type": "code",
   "execution_count": 173,
   "id": "8a97f961-52bb-49ed-8ed1-2b8d729eeb44",
   "metadata": {},
   "outputs": [
    {
     "data": {
      "text/plain": [
       "[84, -13, 51, -9, 89, 15]"
      ]
     },
     "execution_count": 173,
     "metadata": {},
     "output_type": "execute_result"
    }
   ],
   "source": [
    "list_b = [randint(-100, 100) for _ in range(6)]\n",
    "list_b"
   ]
  },
  {
   "cell_type": "code",
   "execution_count": 174,
   "id": "2b9d2ec6-6f74-45e7-a805-508e0cc0b9af",
   "metadata": {},
   "outputs": [],
   "source": [
    "func_b = lambda list_: list(filter(lambda num: abs(num) % 3 == 0 or abs(num) % 5 == 0, list_))"
   ]
  },
  {
   "cell_type": "code",
   "execution_count": 175,
   "id": "07af5059-c6ec-40f8-9ec5-d70f1ea1e995",
   "metadata": {},
   "outputs": [
    {
     "data": {
      "text/plain": [
       "[84, 51, -9, 15]"
      ]
     },
     "execution_count": 175,
     "metadata": {},
     "output_type": "execute_result"
    }
   ],
   "source": [
    "func_b(list_b)"
   ]
  },
  {
   "cell_type": "code",
   "execution_count": 184,
   "id": "b7234b79-baf4-44de-8f07-0faa2d970db6",
   "metadata": {},
   "outputs": [],
   "source": [
    "list_c = [10, -2, 3, 'adgdgdfg', 'cfsfzf', 'bdfxfx']"
   ]
  },
  {
   "cell_type": "code",
   "execution_count": 185,
   "id": "ce2071e5-10e9-4464-a932-adf31e9ce113",
   "metadata": {},
   "outputs": [],
   "source": [
    "func_c = lambda list_: sorted(list_, key=lambda x: (isinstance(x, int), x))"
   ]
  },
  {
   "cell_type": "code",
   "execution_count": 186,
   "id": "af2f03d6-3171-4f87-aeab-d133e8c7c62b",
   "metadata": {},
   "outputs": [
    {
     "data": {
      "text/plain": [
       "['adgdgdfg', 'bdfxfx', 'cfsfzf', -2, 3, 10]"
      ]
     },
     "execution_count": 186,
     "metadata": {},
     "output_type": "execute_result"
    }
   ],
   "source": [
    "func_c(list_c)"
   ]
  },
  {
   "cell_type": "markdown",
   "id": "7cffe1b6-5c5c-40ab-8475-514abe90b914",
   "metadata": {},
   "source": [
    "№20 а) Отфильтровать список целых чисел на простые и составные числа с помощью лямбда-функции. б) Для удаления определённых символов из заданной строки используйте лямбда-функцию. Пример: дана строка 'hello world', удалить символы 'l' и 'o' → 'he wrd'. в) Используя лямбда-функцию, проверить, является ли указанный список палиндромом или нет."
   ]
  },
  {
   "cell_type": "code",
   "execution_count": 189,
   "id": "ab6d8be0-8718-455e-8763-ba9d38f877fe",
   "metadata": {},
   "outputs": [
    {
     "data": {
      "text/plain": [
       "[-28, 9, 4, -72, 55, 5]"
      ]
     },
     "execution_count": 189,
     "metadata": {},
     "output_type": "execute_result"
    }
   ],
   "source": [
    "list_a = [randint(-100, 100) for _ in range(6)]\n",
    "list_a"
   ]
  },
  {
   "cell_type": "code",
   "execution_count": 195,
   "id": "52bd31cb-58d1-4c26-97d7-1123ea5dc67e",
   "metadata": {},
   "outputs": [],
   "source": [
    "func_a_prime = lambda list_: list(filter(lambda num: all(abs(num) % d != 0 for d in range(2, int(sqrt(abs(num))) + 1)), list_))"
   ]
  },
  {
   "cell_type": "code",
   "execution_count": 196,
   "id": "86cd5eb5-1f3a-438a-8577-5172e90b3ec0",
   "metadata": {},
   "outputs": [
    {
     "data": {
      "text/plain": [
       "[5]"
      ]
     },
     "execution_count": 196,
     "metadata": {},
     "output_type": "execute_result"
    }
   ],
   "source": [
    "func_a_prime(list_a)"
   ]
  },
  {
   "cell_type": "code",
   "execution_count": 221,
   "id": "cb37c026-9d16-469e-b6fb-115c3b317645",
   "metadata": {},
   "outputs": [],
   "source": [
    "func_a_composite = lambda list_: list(filter(lambda num: any(abs(num) % d == 0 for d in range(2, int(sqrt(abs(num))) + 1)), list_))"
   ]
  },
  {
   "cell_type": "code",
   "execution_count": 222,
   "id": "a8a31589-aaa0-4048-808b-cbd4925f7814",
   "metadata": {},
   "outputs": [
    {
     "data": {
      "text/plain": [
       "[-28, 9, 4, -72, 55]"
      ]
     },
     "execution_count": 222,
     "metadata": {},
     "output_type": "execute_result"
    }
   ],
   "source": [
    "func_a_composite(list_a)"
   ]
  },
  {
   "cell_type": "code",
   "execution_count": 226,
   "id": "269cd33f-a5e1-4a6e-8bb0-8e743de3131e",
   "metadata": {},
   "outputs": [],
   "source": [
    "string_b = \"hello world\"\n",
    "chars = ['l', 'o']"
   ]
  },
  {
   "cell_type": "code",
   "execution_count": 227,
   "id": "c59cd7d1-f505-4f96-b4f5-bcfcd53afbcc",
   "metadata": {},
   "outputs": [],
   "source": [
    "func_b = lambda str_, chars_: ''.join(list(filter(lambda x: x not in chars_, str_)))"
   ]
  },
  {
   "cell_type": "code",
   "execution_count": 229,
   "id": "ac5df2d8-e644-4efb-8a7d-091440e5572d",
   "metadata": {},
   "outputs": [
    {
     "data": {
      "text/plain": [
       "'he wrd'"
      ]
     },
     "execution_count": 229,
     "metadata": {},
     "output_type": "execute_result"
    }
   ],
   "source": [
    "func_b(string_b, chars)"
   ]
  },
  {
   "cell_type": "code",
   "execution_count": 231,
   "id": "0f48f6c1-c42d-4e58-9553-6aab4a34bfd2",
   "metadata": {},
   "outputs": [],
   "source": [
    "list_c = ['a', 'g', 'b', 123, 'y', 1]\n",
    "list_c2 = [1, 2, 'n', 4, 'n', 2, 1]"
   ]
  },
  {
   "cell_type": "code",
   "execution_count": 232,
   "id": "3d3c8306-5159-420a-b5ef-a170be1d1546",
   "metadata": {},
   "outputs": [],
   "source": [
    "func_c = lambda list_: list_ == list_[::-1]"
   ]
  },
  {
   "cell_type": "code",
   "execution_count": 233,
   "id": "d00e699e-10ad-4be5-ae27-8d96ebb2219c",
   "metadata": {},
   "outputs": [
    {
     "data": {
      "text/plain": [
       "False"
      ]
     },
     "execution_count": 233,
     "metadata": {},
     "output_type": "execute_result"
    }
   ],
   "source": [
    "func_c(list_c)"
   ]
  },
  {
   "cell_type": "code",
   "execution_count": 234,
   "id": "f527bb31-e855-44be-b2fa-bea6debc47df",
   "metadata": {},
   "outputs": [
    {
     "data": {
      "text/plain": [
       "True"
      ]
     },
     "execution_count": 234,
     "metadata": {},
     "output_type": "execute_result"
    }
   ],
   "source": [
    "func_c(list_c2)"
   ]
  },
  {
   "cell_type": "markdown",
   "id": "64c3316d-4d7d-40af-9172-2e8a9f1c897c",
   "metadata": {},
   "source": [
    "№21 а) С помощью лямбда-функции проверьте, является ли данное число простым или нет. б) Напишите программу для поиска чисел в заданном диапазоне, которые являются суммой двух квадратов. Пример: задан диапазон от 1 до 50 → [1, 2, 4, 5, 8, 9, 10, 13, 16, 17, 18, 20, 25, 26, 29, 32, 34, 36, 37, 40, 41, 45, 49, 50]. в) Удалите все элементы из заданного списка, не присутствующие в другом списке. Пример: [1, 2, 3, 4, 5, 6, 7, 8, 9, 10], [2, 4, 6, 8] → [2, 4, 6, 8]."
   ]
  },
  {
   "cell_type": "code",
   "execution_count": 243,
   "id": "eaa6de59-d4ca-4eed-b892-adc9b30cafe8",
   "metadata": {},
   "outputs": [],
   "source": [
    "a = 19\n",
    "b = -20"
   ]
  },
  {
   "cell_type": "code",
   "execution_count": 238,
   "id": "17c7c9dc-606e-4d98-b646-3316612de7d4",
   "metadata": {},
   "outputs": [],
   "source": [
    "func_a = lambda num: \"Yes\" if all(abs(num) % d != 0 for d in range(2, int(sqrt(abs(num))) + 1)) else \"No\""
   ]
  },
  {
   "cell_type": "code",
   "execution_count": 239,
   "id": "7cb4f7ed-cf8e-423b-a115-1659a655b5c7",
   "metadata": {},
   "outputs": [
    {
     "data": {
      "text/plain": [
       "'Yes'"
      ]
     },
     "execution_count": 239,
     "metadata": {},
     "output_type": "execute_result"
    }
   ],
   "source": [
    "func_a(a)"
   ]
  },
  {
   "cell_type": "code",
   "execution_count": 244,
   "id": "5795b0e8-d37e-4c99-91cb-a3836a3d9716",
   "metadata": {},
   "outputs": [
    {
     "data": {
      "text/plain": [
       "'No'"
      ]
     },
     "execution_count": 244,
     "metadata": {},
     "output_type": "execute_result"
    }
   ],
   "source": [
    "func_a(b)"
   ]
  },
  {
   "cell_type": "code",
   "execution_count": 257,
   "id": "da72ce76-1b6d-4839-af9d-a18128b5f076",
   "metadata": {},
   "outputs": [],
   "source": [
    "func_b = lambda a, b: list(filter(lambda num: any(x**2 + y**2 == num for x in range(int(sqrt(num)) + 1) for y in range(int(sqrt(num)) + 1)), range(a, b + 1)))"
   ]
  },
  {
   "cell_type": "code",
   "execution_count": 261,
   "id": "0cf1f372-53fe-4ee6-8881-02ea82cfacd6",
   "metadata": {},
   "outputs": [
    {
     "data": {
      "text/plain": [
       "True"
      ]
     },
     "execution_count": 261,
     "metadata": {},
     "output_type": "execute_result"
    }
   ],
   "source": [
    "func_b(1, 50) == [1, 2, 4, 5, 8, 9, 10, 13, 16, 17, 18, 20, 25, 26, 29, 32, 34, 36, 37, 40, 41, 45, 49, 50]"
   ]
  },
  {
   "cell_type": "code",
   "execution_count": 262,
   "id": "3db36fa9-b6fd-4b83-9587-f39f35dada76",
   "metadata": {},
   "outputs": [],
   "source": [
    "list_c = [1, 2, 3, 4, 5, 6, 7, 8, 9, 10]\n",
    "list_c2 = [2, 4, 6, 8]"
   ]
  },
  {
   "cell_type": "code",
   "execution_count": 266,
   "id": "237da257-c47f-482e-aab2-2ba932058c11",
   "metadata": {},
   "outputs": [],
   "source": [
    "func_c = lambda list_, values: list(filter(lambda x: x in values, list_))"
   ]
  },
  {
   "cell_type": "code",
   "execution_count": 267,
   "id": "ca85301f-a1ea-4a63-9816-23c3cc1fb0b8",
   "metadata": {},
   "outputs": [
    {
     "data": {
      "text/plain": [
       "[2, 4, 6, 8]"
      ]
     },
     "execution_count": 267,
     "metadata": {},
     "output_type": "execute_result"
    }
   ],
   "source": [
    "func_c([1, 2, 3, 4, 5, 6, 7, 8, 9, 10], [2, 4, 6, 8])"
   ]
  },
  {
   "cell_type": "markdown",
   "id": "817c3061-1c3c-4b7f-8db7-6310bf732a13",
   "metadata": {},
   "source": [
    "№22 а) Используя лямбда-функцию, найдите все числа в заданном списке, которые являются палиндромами. б) Напишите программу для сортировки заданного списка строк по количеству гласных букв в каждой строке. в) Используя лямбда-функцию, найдите все числа в заданном списке, которые являются совершенными числами (сумма делителей числа равна самому числу)."
   ]
  },
  {
   "cell_type": "code",
   "execution_count": 268,
   "id": "007f7854-a51f-4170-b9c5-5fa750f59741",
   "metadata": {},
   "outputs": [],
   "source": [
    "list_a = [123, 121, 456, 2332, 456654, 111, 678]"
   ]
  },
  {
   "cell_type": "code",
   "execution_count": 269,
   "id": "352856fe-c1f8-4b00-9416-838f8947cc99",
   "metadata": {},
   "outputs": [],
   "source": [
    "func_a = lambda list_: list(filter(lambda num: str(num) == str(num)[::-1], list_))"
   ]
  },
  {
   "cell_type": "code",
   "execution_count": 270,
   "id": "cb084083-664d-4f65-8632-7fe52c06b557",
   "metadata": {},
   "outputs": [
    {
     "data": {
      "text/plain": [
       "[121, 2332, 456654, 111]"
      ]
     },
     "execution_count": 270,
     "metadata": {},
     "output_type": "execute_result"
    }
   ],
   "source": [
    "func_a(list_a)"
   ]
  },
  {
   "cell_type": "code",
   "execution_count": 276,
   "id": "12fe27a0-aeb5-4f76-9b11-19a67cc6ee69",
   "metadata": {},
   "outputs": [],
   "source": [
    "list_b = ['aaaaaaaaaaaaaaaaaaaaaaaa', 'abceI', 'bAc', 'eeeeeeeeeeeeeeeeeeeeeeeeeeeeeeeeeeeeeeeeeeee', 'iOpv']"
   ]
  },
  {
   "cell_type": "code",
   "execution_count": 277,
   "id": "0a84e416-4ae2-4e29-8c48-8d6dfab9df7f",
   "metadata": {},
   "outputs": [],
   "source": [
    "func_b = lambda list_: sorted(list_, key=lambda x: sum(1 for i in x if i.lower() in 'aeiouy'))"
   ]
  },
  {
   "cell_type": "code",
   "execution_count": 278,
   "id": "f13b014e-0176-4c19-9552-0d76fafc098b",
   "metadata": {},
   "outputs": [
    {
     "data": {
      "text/plain": [
       "['bAc',\n",
       " 'iOpv',\n",
       " 'abceI',\n",
       " 'aaaaaaaaaaaaaaaaaaaaaaaa',\n",
       " 'eeeeeeeeeeeeeeeeeeeeeeeeeeeeeeeeeeeeeeeeeeee']"
      ]
     },
     "execution_count": 278,
     "metadata": {},
     "output_type": "execute_result"
    }
   ],
   "source": [
    "func_b(list_b)"
   ]
  },
  {
   "cell_type": "code",
   "execution_count": 304,
   "id": "3283a8e2-d941-4844-93da-f9aacd5aef27",
   "metadata": {},
   "outputs": [],
   "source": [
    "list_c = [1, 12, 6, 134, 56, 28]"
   ]
  },
  {
   "cell_type": "code",
   "execution_count": 308,
   "id": "08c2412a-dee9-4a9d-9176-edae610e46aa",
   "metadata": {},
   "outputs": [],
   "source": [
    "func_c = lambda list_: list(filter(lambda num: int(sum(d for d in range(1, num) if num % d == 0)) == num, list_))"
   ]
  },
  {
   "cell_type": "code",
   "execution_count": 309,
   "id": "40bfb3ad-b6c5-4d41-9734-39118fd140cd",
   "metadata": {},
   "outputs": [
    {
     "data": {
      "text/plain": [
       "[6, 28]"
      ]
     },
     "execution_count": 309,
     "metadata": {},
     "output_type": "execute_result"
    }
   ],
   "source": [
    "func_c(list_c)"
   ]
  },
  {
   "cell_type": "code",
   "execution_count": 320,
   "id": "6233b478-9c01-477a-a533-8153e7b927d0",
   "metadata": {},
   "outputs": [],
   "source": [
    "func_c = lambda list_: list(filter(lambda num: int(sum(d + num // d for d in range(1, int(sqrt(num)) + 1) if num % d == 0 and d != num // d)) == 2 * num, list_))"
   ]
  },
  {
   "cell_type": "code",
   "execution_count": 321,
   "id": "43d718dd-47ab-4aaf-bed0-b2d3afcf6ada",
   "metadata": {},
   "outputs": [
    {
     "data": {
      "text/plain": [
       "[6, 28]"
      ]
     },
     "execution_count": 321,
     "metadata": {},
     "output_type": "execute_result"
    }
   ],
   "source": [
    "func_c(list_c)"
   ]
  },
  {
   "cell_type": "markdown",
   "id": "48e1c8ca-2527-4130-afdd-684251d1dcbd",
   "metadata": {},
   "source": [
    "№23 а) Используя лямбда-функцию, найдите все числа в заданном списке, которые являются числами Фибоначчи. б) Напишите программу для сортировки заданного списка кортежей по разности между максимальным и минимальным элементами каждого кортежа. в) Используя лямбда-функцию, найдите все строки в заданном списке строк, которые содержат только согласные буквы."
   ]
  },
  {
   "cell_type": "code",
   "execution_count": 326,
   "id": "034f3e00-d28c-476b-a907-cba680def895",
   "metadata": {},
   "outputs": [],
   "source": [
    "list_a = list(range(1, 51))"
   ]
  },
  {
   "cell_type": "code",
   "execution_count": 330,
   "id": "0b3c6b48-b72a-4686-ac13-252980a6d522",
   "metadata": {},
   "outputs": [],
   "source": [
    "func_a = lambda list_: list(filter(lambda num: int(sqrt(5 * num**2 + 4)) == sqrt(5 * num**2 + 4) or int(sqrt(5 * num**2 - 4)) == sqrt(5 * num**2 - 4), list_))"
   ]
  },
  {
   "cell_type": "code",
   "execution_count": 331,
   "id": "977980b8-a669-4926-8dc2-10eb54912f43",
   "metadata": {},
   "outputs": [
    {
     "data": {
      "text/plain": [
       "[1, 2, 3, 5, 8, 13, 21, 34]"
      ]
     },
     "execution_count": 331,
     "metadata": {},
     "output_type": "execute_result"
    }
   ],
   "source": [
    "func_a(list_a)"
   ]
  },
  {
   "cell_type": "code",
   "execution_count": 332,
   "id": "ee9d2b84-a7c7-4b4f-a14e-d55208537430",
   "metadata": {},
   "outputs": [],
   "source": [
    "list_b = [(1, 13, -10), (0, 0, 0), (-1, -2, 2)]"
   ]
  },
  {
   "cell_type": "code",
   "execution_count": 333,
   "id": "d0c1d619-699c-45f5-af99-67da7cb00ed1",
   "metadata": {},
   "outputs": [],
   "source": [
    "func_b = lambda list_: sorted(list_, key=lambda tuple_: max(tuple_) - min(tuple_))"
   ]
  },
  {
   "cell_type": "code",
   "execution_count": 334,
   "id": "d10abf68-3541-4ce1-9e64-194fdc4f8624",
   "metadata": {},
   "outputs": [
    {
     "data": {
      "text/plain": [
       "[(0, 0, 0), (-1, -2, 2), (1, 13, -10)]"
      ]
     },
     "execution_count": 334,
     "metadata": {},
     "output_type": "execute_result"
    }
   ],
   "source": [
    "func_b(list_b)"
   ]
  },
  {
   "cell_type": "code",
   "execution_count": 335,
   "id": "fc359a54-a407-46f5-ab9c-bdda9741dc92",
   "metadata": {},
   "outputs": [],
   "source": [
    "list_c = ['asdf', 'ertyu', 'nbvfc', 'NBVcdf', 'sdE', 'bbb']"
   ]
  },
  {
   "cell_type": "code",
   "execution_count": 337,
   "id": "b9e1988e-c386-4fc7-b778-bdf4c8c40b1b",
   "metadata": {},
   "outputs": [],
   "source": [
    "func_c = lambda list_: list(filter(lambda string_: all(i.lower() not in 'aeiouy' for i in string_), list_))"
   ]
  },
  {
   "cell_type": "code",
   "execution_count": 339,
   "id": "6073bf2c-1a9a-425b-8cd6-2ee65fd11f15",
   "metadata": {},
   "outputs": [
    {
     "data": {
      "text/plain": [
       "['nbvfc', 'NBVcdf', 'bbb']"
      ]
     },
     "execution_count": 339,
     "metadata": {},
     "output_type": "execute_result"
    }
   ],
   "source": [
    "func_c(list_c)"
   ]
  },
  {
   "cell_type": "markdown",
   "id": "2f20d4f9-0e93-4def-9a9b-fc4bed23bf1c",
   "metadata": {},
   "source": [
    "№24 а) Используя лямбда-функцию, найдите все числа в заданном списке, которые являются числами Капрекара. б) Напишите программу для сортировки заданного списка строк в лексикографическом порядке (по алфавиту). в) Используя лямбда-функцию, найдите все числа в заданном списке, которые являются числами Армстронга."
   ]
  },
  {
   "cell_type": "code",
   "execution_count": 340,
   "id": "b1a42871-57f7-45c3-b9e5-441f1d1498a9",
   "metadata": {},
   "outputs": [],
   "source": [
    "list_a = [123, 45, 67857, 297, 56]"
   ]
  },
  {
   "cell_type": "code",
   "execution_count": 344,
   "id": "d4b6af00-0126-40e4-be24-599ef6981671",
   "metadata": {},
   "outputs": [],
   "source": [
    "func_a = lambda list_: list(filter(lambda num: any(int(str(num ** 2)[:i]) + int(str(num ** 2)[i:]) == num for i in range(1, len(str(num ** 2)))), list_))"
   ]
  },
  {
   "cell_type": "code",
   "execution_count": 345,
   "id": "0a290d91-cf85-43c7-aed0-8d5a15983b9e",
   "metadata": {},
   "outputs": [
    {
     "data": {
      "text/plain": [
       "[45, 297]"
      ]
     },
     "execution_count": 345,
     "metadata": {},
     "output_type": "execute_result"
    }
   ],
   "source": [
    "func_a(list_a)"
   ]
  },
  {
   "cell_type": "code",
   "execution_count": 346,
   "id": "e9af00bd-d1a0-41ee-9166-bb0cacaef25d",
   "metadata": {},
   "outputs": [],
   "source": [
    "list_b = ['dfertdgcvbgh', 'Fgsjjkx', 'agdfg.bc']"
   ]
  },
  {
   "cell_type": "code",
   "execution_count": 347,
   "id": "ee065026-3896-4d08-a8b0-6dd17d83a3f1",
   "metadata": {},
   "outputs": [],
   "source": [
    "func_b = lambda list_: sorted(list_, key=lambda x: x.lower())"
   ]
  },
  {
   "cell_type": "code",
   "execution_count": 348,
   "id": "49eaef09-2883-44cc-8acd-cf02366d66f4",
   "metadata": {},
   "outputs": [
    {
     "data": {
      "text/plain": [
       "['agdfg.bc', 'dfertdgcvbgh', 'Fgsjjkx']"
      ]
     },
     "execution_count": 348,
     "metadata": {},
     "output_type": "execute_result"
    }
   ],
   "source": [
    "func_b(list_b)"
   ]
  },
  {
   "cell_type": "code",
   "execution_count": 349,
   "id": "6100cf3a-36ea-4d9e-8b8e-0ad9f8f86aeb",
   "metadata": {},
   "outputs": [],
   "source": [
    "list_c = [1, 12, 14, 2, 3, 4, 5, 6, 7, 8, 9, 99, 153, 89]"
   ]
  },
  {
   "cell_type": "code",
   "execution_count": 352,
   "id": "580751c5-a525-48ab-af9d-7f17f603cdb6",
   "metadata": {},
   "outputs": [],
   "source": [
    "func_c = lambda list_: list(filter(lambda num_: int(sum(int(i) ** len(str(num_)) for i in str(num_))) == num_, list_))"
   ]
  },
  {
   "cell_type": "code",
   "execution_count": 353,
   "id": "391f0174-3a98-4a06-9e01-c9c7db233b25",
   "metadata": {},
   "outputs": [
    {
     "data": {
      "text/plain": [
       "[1, 2, 3, 4, 5, 6, 7, 8, 9, 153]"
      ]
     },
     "execution_count": 353,
     "metadata": {},
     "output_type": "execute_result"
    }
   ],
   "source": [
    "func_c(list_c)"
   ]
  },
  {
   "cell_type": "markdown",
   "id": "99420d80-c1af-47dc-95db-516c6caefa7a",
   "metadata": {},
   "source": [
    "№25 а) Используя лямбда-функцию, найдите все числа в заданном списке, которые делятся на 3 и не делятся на 5. б) Напишите программу для сортировки заданного списка кортежей по возрастанию второго элемента каждого кортежа. в) Используя лямбда-функцию, найдите все строки в заданном списке строк, которые содержат только цифры."
   ]
  },
  {
   "cell_type": "code",
   "execution_count": 364,
   "id": "9e647528-3a5a-4953-883e-e801a83d2028",
   "metadata": {},
   "outputs": [],
   "source": [
    "list_a = [1, 3, 15, 45, 9, 25]"
   ]
  },
  {
   "cell_type": "code",
   "execution_count": 363,
   "id": "0d3f9a41-1496-4c52-9184-ed4a2247e503",
   "metadata": {},
   "outputs": [],
   "source": [
    "func_a = lambda list_: list(filter(lambda num_: num_ if num_ % 3 == 0 and num_ % 5 != 0 else False, list_))"
   ]
  },
  {
   "cell_type": "code",
   "execution_count": 365,
   "id": "e4013158-c9b5-4e28-962e-7e067b820bf0",
   "metadata": {},
   "outputs": [
    {
     "data": {
      "text/plain": [
       "[3, 9]"
      ]
     },
     "execution_count": 365,
     "metadata": {},
     "output_type": "execute_result"
    }
   ],
   "source": [
    "func_a(list_a)"
   ]
  },
  {
   "cell_type": "code",
   "execution_count": 366,
   "id": "3d0f5ad5-1888-452d-bbf6-1e6ce88974e0",
   "metadata": {},
   "outputs": [],
   "source": [
    "list_b = [(1, 10000000, 3), (2, -10, 4), (5, 8, 6)]"
   ]
  },
  {
   "cell_type": "code",
   "execution_count": 367,
   "id": "789bd4d8-4688-4716-bc82-4e049dca0b29",
   "metadata": {},
   "outputs": [],
   "source": [
    "func_b = lambda list_: sorted(list_, key=lambda x: x[1])"
   ]
  },
  {
   "cell_type": "code",
   "execution_count": 368,
   "id": "cb0eebb1-3498-4735-a212-b3d32ba8e636",
   "metadata": {},
   "outputs": [
    {
     "data": {
      "text/plain": [
       "[(2, -10, 4), (5, 8, 6), (1, 10000000, 3)]"
      ]
     },
     "execution_count": 368,
     "metadata": {},
     "output_type": "execute_result"
    }
   ],
   "source": [
    "func_b(list_b)"
   ]
  },
  {
   "cell_type": "code",
   "execution_count": 369,
   "id": "a6e699ae-04fd-4fde-b515-cf7b20799232",
   "metadata": {},
   "outputs": [],
   "source": [
    "list_c = ['12qw3', '1234', 'ereryhgK1', 'sffgfg', '678', '345', 'fgfhfh6774']"
   ]
  },
  {
   "cell_type": "code",
   "execution_count": 372,
   "id": "65f57166-33ae-44ab-95b0-9fe7e59277d4",
   "metadata": {},
   "outputs": [],
   "source": [
    "func_c = lambda list_: list(filter(lambda string_: all(i in '0123456789' for i in string_), list_))"
   ]
  },
  {
   "cell_type": "code",
   "execution_count": 373,
   "id": "1baa3c0a-619a-40af-a2ea-c9fb5c08f363",
   "metadata": {},
   "outputs": [
    {
     "data": {
      "text/plain": [
       "['1234', '678', '345']"
      ]
     },
     "execution_count": 373,
     "metadata": {},
     "output_type": "execute_result"
    }
   ],
   "source": [
    "func_c(list_c)"
   ]
  },
  {
   "cell_type": "markdown",
   "id": "19314d5e-9a46-4f18-a98e-081d58908123",
   "metadata": {},
   "source": [
    "№26 а) Используя лямбда-функцию, найдите все числа в заданном списке, которые являются простыми числами. б) Напишите программу для сортировки заданного списка строк по убыванию длины каждой строки. в) Используя лямбда-функцию, найдите все строки в заданном списке строк, которые содержат только буквы верхнего регистра."
   ]
  },
  {
   "cell_type": "code",
   "execution_count": 375,
   "id": "1785ee1b-59b1-4bd6-8f60-a0fad6ec17de",
   "metadata": {},
   "outputs": [],
   "source": [
    "list_a = [24, 45, 19, 32, 11, 17, 16]"
   ]
  },
  {
   "cell_type": "code",
   "execution_count": 376,
   "id": "53dda968-8411-4730-bed1-a33356314ee4",
   "metadata": {},
   "outputs": [],
   "source": [
    "func_a = lambda list_: list(filter(lambda num: all(num % d != 0 for d in range(2, int(sqrt(num)) + 1)), list_))"
   ]
  },
  {
   "cell_type": "code",
   "execution_count": 377,
   "id": "215336e2-2278-49e4-925b-cb29ba8496fa",
   "metadata": {},
   "outputs": [
    {
     "data": {
      "text/plain": [
       "[19, 11, 17]"
      ]
     },
     "execution_count": 377,
     "metadata": {},
     "output_type": "execute_result"
    }
   ],
   "source": [
    "func_a(list_a)"
   ]
  },
  {
   "cell_type": "code",
   "execution_count": 378,
   "id": "6520bac0-70e3-4dcb-850e-a8825307dfdd",
   "metadata": {},
   "outputs": [],
   "source": [
    "list_b = ['55555', '1', '22', '666666', '4444']"
   ]
  },
  {
   "cell_type": "code",
   "execution_count": 379,
   "id": "b184d6ff-119f-4407-a6c6-dd3f33f9f499",
   "metadata": {},
   "outputs": [],
   "source": [
    "func_b = lambda list_: sorted(list_, key=lambda x: len(x), reverse=True)"
   ]
  },
  {
   "cell_type": "code",
   "execution_count": 380,
   "id": "6bb09ccf-65e7-4f71-8b2e-a770f63575fc",
   "metadata": {},
   "outputs": [
    {
     "data": {
      "text/plain": [
       "['666666', '55555', '4444', '22', '1']"
      ]
     },
     "execution_count": 380,
     "metadata": {},
     "output_type": "execute_result"
    }
   ],
   "source": [
    "func_b(list_b)"
   ]
  },
  {
   "cell_type": "code",
   "execution_count": 381,
   "id": "7e59a85f-937d-4806-9b4e-241f77187ba4",
   "metadata": {},
   "outputs": [],
   "source": [
    "list_c = ['AdsfdfD', 'ABC', 'FGRGSWw', 'fsefsrdg', 'ASDFG', 'GHTRDY', 'AWERtY']"
   ]
  },
  {
   "cell_type": "code",
   "execution_count": 384,
   "id": "293079d8-c044-4aaa-a779-d893cba84e5c",
   "metadata": {},
   "outputs": [],
   "source": [
    "func_c = lambda list_: list(filter(lambda str_: str_.isupper(), list_))"
   ]
  },
  {
   "cell_type": "code",
   "execution_count": 385,
   "id": "eaca3c1a-8e07-49ad-ba41-728249f88561",
   "metadata": {},
   "outputs": [
    {
     "data": {
      "text/plain": [
       "['ABC', 'ASDFG', 'GHTRDY']"
      ]
     },
     "execution_count": 385,
     "metadata": {},
     "output_type": "execute_result"
    }
   ],
   "source": [
    "func_c(list_c)"
   ]
  },
  {
   "cell_type": "markdown",
   "id": "6136453a-9af8-443d-bff2-a275cf8525df",
   "metadata": {},
   "source": [
    "№27 а) Используя лямбда-функцию, найдите все числа в заданном списке, которые являются числами Кармайкла (для любого числа a, взаимно простого с числом n, a^(n-1) mod n = 1). б) Напишите программу для сортировки заданного списка строк по количеству символов-разделителей (пробелов или запятых) в каждой строке. в) Используя лямбда-функцию, найдите все строки в заданном списке строк, которые заканчиваются на точку."
   ]
  },
  {
   "cell_type": "code",
   "execution_count": 386,
   "id": "c72d84f2-a00f-4f54-9366-cd0a06e2de62",
   "metadata": {},
   "outputs": [],
   "source": [
    "list_a = [123, 561, 12, 100, 30, 1729, 111]"
   ]
  },
  {
   "cell_type": "code",
   "execution_count": 387,
   "id": "a6280ecd-b271-4e17-8c1d-769ae9f0c5bf",
   "metadata": {},
   "outputs": [],
   "source": [
    "from math import gcd"
   ]
  },
  {
   "cell_type": "code",
   "execution_count": 436,
   "id": "2d7bfd9f-180c-40b5-9298-e8bf128c0215",
   "metadata": {},
   "outputs": [],
   "source": [
    "func_a = lambda list_: list(filter(lambda n: all(gcd(a, n) != 1 or pow(a, n-1, n) == 1 for a in range(2, n)), list_))"
   ]
  },
  {
   "cell_type": "code",
   "execution_count": null,
   "id": "5fd0511e-a51c-44d8-92d2-1fd22bc93920",
   "metadata": {},
   "outputs": [],
   "source": [
    "#а)\n",
    "import math\n",
    "\n",
    "lst = [561, 256, 8911, 1729, 2465, 147, 6601]\n",
    "\n",
    "def is_carmichael(n):\n",
    "    for a in range(2, n):\n",
    "        if math.gcd(a, n) == 1 and pow(a, n-1, n) != 1:\n",
    "            return False\n",
    "    return True\n",
    "\n",
    "carmichael_numbers = sorted(list(filter(lambda x: is_carmichael(x), lst)))\n",
    "\n",
    "print(f\"Числа Кармайкла: {carmichael_numbers}\")"
   ]
  },
  {
   "cell_type": "code",
   "execution_count": 437,
   "id": "0dedd6e4-2804-4db6-8a0e-96162173e65f",
   "metadata": {},
   "outputs": [
    {
     "data": {
      "text/plain": [
       "[561, 1729]"
      ]
     },
     "execution_count": 437,
     "metadata": {},
     "output_type": "execute_result"
    }
   ],
   "source": [
    "func_a(list_a)"
   ]
  },
  {
   "cell_type": "code",
   "execution_count": 397,
   "id": "4372a61c-974e-4f75-90e1-a3d21d429e7b",
   "metadata": {},
   "outputs": [],
   "source": [
    "list_b = ['3 3,,', '2  2', '1 ', '4,4,4,4 ']"
   ]
  },
  {
   "cell_type": "code",
   "execution_count": 398,
   "id": "83e8770a-17dd-43bd-a321-58f9822a64ed",
   "metadata": {},
   "outputs": [],
   "source": [
    "func_b = lambda list_: sorted(list_, key=lambda str_: str_.count(',') + str_.count(''))"
   ]
  },
  {
   "cell_type": "code",
   "execution_count": 399,
   "id": "2303a8de-a8ed-4faa-92f8-03191f631561",
   "metadata": {},
   "outputs": [
    {
     "data": {
      "text/plain": [
       "['1 ', '2  2', '3 3,,', '4,4,4,4 ']"
      ]
     },
     "execution_count": 399,
     "metadata": {},
     "output_type": "execute_result"
    }
   ],
   "source": [
    "func_b(list_b)"
   ]
  },
  {
   "cell_type": "code",
   "execution_count": 400,
   "id": "0e5b727d-79ac-4eec-add0-f62c03d0c0bb",
   "metadata": {},
   "outputs": [],
   "source": [
    "list_c = ['QWERTY!', 'DFGHTY.', 'SRTDYC..', 'GDRTYFY8']"
   ]
  },
  {
   "cell_type": "code",
   "execution_count": 402,
   "id": "573dcb38-4870-431d-a890-b4bf631bd17a",
   "metadata": {},
   "outputs": [],
   "source": [
    "func_c = lambda list_: list(filter(lambda str_: str_[-1] == '.', list_))"
   ]
  },
  {
   "cell_type": "code",
   "execution_count": 403,
   "id": "eba41289-4035-420e-8df0-d5d1c8303741",
   "metadata": {},
   "outputs": [
    {
     "data": {
      "text/plain": [
       "['DFGHTY.', 'SRTDYC..']"
      ]
     },
     "execution_count": 403,
     "metadata": {},
     "output_type": "execute_result"
    }
   ],
   "source": [
    "func_c(list_c)"
   ]
  },
  {
   "cell_type": "code",
   "execution_count": 408,
   "id": "40b24f2c-a4a7-43b3-8a86-4e3faeb18ea0",
   "metadata": {},
   "outputs": [],
   "source": [
    "func_c_v2 = lambda list_: list(filter(lambda str_: str_.endswith('.'), list_))"
   ]
  },
  {
   "cell_type": "code",
   "execution_count": 409,
   "id": "4078fe9b-d5ea-44fa-957a-8da8ad805236",
   "metadata": {},
   "outputs": [
    {
     "data": {
      "text/plain": [
       "['DFGHTY.', 'SRTDYC..']"
      ]
     },
     "execution_count": 409,
     "metadata": {},
     "output_type": "execute_result"
    }
   ],
   "source": [
    "func_c_v2(list_c)"
   ]
  },
  {
   "cell_type": "markdown",
   "id": "ff7cee27-4228-45c8-a3a1-2bbcc3c2294c",
   "metadata": {
    "jp-MarkdownHeadingCollapsed": true
   },
   "source": [
    "# Наследование"
   ]
  },
  {
   "cell_type": "markdown",
   "id": "0872eb1d-f3a5-4ffa-b0fb-2ec8a4e99c81",
   "metadata": {},
   "source": [
    "№6 Создайте класс АВТОМОБИЛЬ с методами, позволяющими вывести на экран информацию об автомобиле, а также определить, подходит ли данный автомобиль для заданных условий. Создайте дочерние классы ЛЕГКОВОЙ (марка, модель, год выпуска, объем двигателя, тип топли-ва), ГРУЗОВОЙ (марка, модель, год выпуска, грузоподъемность), ПАССАЖИРСКИЙ (марка, модель, год выпуска, количество мест) со своими методами вывода информации на экран и определения соответствия заданным условиям. Создайте список автомобилей, выведите полную информацию из базы на экран, а также организуйте поиск автомобилей с заданными характеристиками."
   ]
  },
  {
   "cell_type": "code",
   "execution_count": 513,
   "id": "68cb53fb-91eb-45f6-b353-52a337a5438e",
   "metadata": {},
   "outputs": [],
   "source": [
    "class Auto:\n",
    "    def __init__(self, brand, model, year):\n",
    "        self.brand = brand\n",
    "        self.model = model\n",
    "        self.year = year\n",
    "    \n",
    "    def display_info(self):\n",
    "        print(f\"Brand: {self.brand}\\nModel: {self.model}\\nYear: {self.year}\")\n",
    "    \n",
    "    def is_match(self, brand=None, model=None, year=None):\n",
    "        if brand and brand != self.brand:\n",
    "            return False\n",
    "        \n",
    "        if model and model != self.model:\n",
    "            return False\n",
    "        \n",
    "        if year and year != self.year:\n",
    "            return False\n",
    "        \n",
    "        return True"
   ]
  },
  {
   "cell_type": "code",
   "execution_count": 531,
   "id": "1837cd1e-6e68-4923-a62e-03aac478929e",
   "metadata": {},
   "outputs": [],
   "source": [
    "class Car(Auto):\n",
    "    def __init__(self, brand, model, year, v, fuel_type):\n",
    "        super().__init__(brand, model, year)\n",
    "        self.v = v\n",
    "        self.fuel_type = fuel_type\n",
    "    \n",
    "    def display_info(self):\n",
    "        super().display_info()\n",
    "        print(f\"Volume: {self.v}\\nType of fuel: {self.fuel_type}\\n\")\n",
    "    \n",
    "    def is_match(self, brand=None, model=None, year=None, v=None):\n",
    "        if not super().is_match(brand, model, year):\n",
    "            return False\n",
    "        \n",
    "        if v and v != self.v:\n",
    "            return False\n",
    "        \n",
    "        if fuel_type and fuel_type != self.fuel_type:\n",
    "            return False\n",
    "        \n",
    "        return True"
   ]
  },
  {
   "cell_type": "code",
   "execution_count": 532,
   "id": "16d5d62c-5f51-4edf-989e-848a105d2657",
   "metadata": {},
   "outputs": [],
   "source": [
    "class Truck(Auto):\n",
    "    def __init__(self, brand, model, year, load_capacity):\n",
    "        super().__init__(brand, model, year)\n",
    "        self.load_capacity = load_capacity\n",
    "    \n",
    "    def display_info(self):\n",
    "        super().display_info()\n",
    "        print(f\"Load capacity: {self.load_capacity}\\n\")\n",
    "    \n",
    "    def is_match(self, brand=None, model=None, year=None, load_capacity=None):\n",
    "        if not super().is_match(brand, model, year):\n",
    "            return False\n",
    "        \n",
    "        if load_capacity and load_capacity != self.load_capacity:\n",
    "            return False\n",
    "        \n",
    "        return True"
   ]
  },
  {
   "cell_type": "code",
   "execution_count": 533,
   "id": "c413587f-8d4e-424e-8449-3d2a412d09e0",
   "metadata": {},
   "outputs": [],
   "source": [
    "class Passenger(Auto):\n",
    "    def __init__(self, brand, model, year, num_seats):\n",
    "        super().__init__(brand, model, year)\n",
    "        self.num_seats = num_seats\n",
    "    \n",
    "    def display_info(self):\n",
    "        super().display_info()\n",
    "        print(f\"Number of seats: {self.num_seats}\\n\")\n",
    "    \n",
    "    def is_match(self, brand=None, model=None, year=None, num_seats=None):\n",
    "        if not super().is_match(brand, model, year):\n",
    "            return False\n",
    "        \n",
    "        if num_seats and num_seats != self.num_seats:\n",
    "            return False\n",
    "        \n",
    "        return True"
   ]
  },
  {
   "cell_type": "code",
   "execution_count": 534,
   "id": "8ae47227-1fe7-4f59-8ace-0d729d9755f6",
   "metadata": {},
   "outputs": [],
   "source": [
    "from random import randint, choice"
   ]
  },
  {
   "cell_type": "code",
   "execution_count": 535,
   "id": "7172b58e-8080-4e05-83fa-7d4454ef0398",
   "metadata": {},
   "outputs": [],
   "source": [
    "autos = [Car(choice('qwertyu'), choice('asdfghj'), randint(1977, 2018), randint(1, 5), choice('zxcvbn')) for _ in range (3)]\n",
    "autos += [Truck(choice('qwertyu'), choice('asdfghj'), randint(1977, 2018), randint(6, 10)) for _ in range (3)]\n",
    "autos += [Passenger(choice('qwertyu'), choice('asdfghj'), randint(1977, 2018), randint(5, 9)) for _ in range (3)]"
   ]
  },
  {
   "cell_type": "code",
   "execution_count": 536,
   "id": "cfc4fccd-2a2a-4ca7-b3ab-5737689892ab",
   "metadata": {
    "scrolled": true
   },
   "outputs": [
    {
     "name": "stdout",
     "output_type": "stream",
     "text": [
      "Brand: y\n",
      "Model: f\n",
      "Year: 1996\n",
      "Volume: 4\n",
      "Type of fuel: n\n",
      "\n",
      "Brand: e\n",
      "Model: s\n",
      "Year: 1979\n",
      "Volume: 5\n",
      "Type of fuel: b\n",
      "\n",
      "Brand: w\n",
      "Model: f\n",
      "Year: 2004\n",
      "Volume: 3\n",
      "Type of fuel: x\n",
      "\n",
      "Brand: t\n",
      "Model: h\n",
      "Year: 1977\n",
      "Load capacity: 6\n",
      "\n",
      "Brand: w\n",
      "Model: s\n",
      "Year: 2016\n",
      "Load capacity: 8\n",
      "\n",
      "Brand: u\n",
      "Model: d\n",
      "Year: 2006\n",
      "Load capacity: 6\n",
      "\n",
      "Brand: w\n",
      "Model: j\n",
      "Year: 2014\n",
      "Number of seats: 7\n",
      "\n",
      "Brand: y\n",
      "Model: h\n",
      "Year: 2003\n",
      "Number of seats: 9\n",
      "\n",
      "Brand: y\n",
      "Model: s\n",
      "Year: 1991\n",
      "Number of seats: 7\n",
      "\n"
     ]
    }
   ],
   "source": [
    "for auto in autos:\n",
    "    auto.display_info()"
   ]
  },
  {
   "cell_type": "code",
   "execution_count": 537,
   "id": "472aa098-996a-4401-a1f2-1b1a7efacf1e",
   "metadata": {
    "scrolled": true
   },
   "outputs": [
    {
     "name": "stdout",
     "output_type": "stream",
     "text": [
      "Brand: y\n",
      "Model: f\n",
      "Year: 1996\n",
      "Volume: 4\n",
      "Type of fuel: n\n",
      "\n",
      "Brand: y\n",
      "Model: h\n",
      "Year: 2003\n",
      "Number of seats: 9\n",
      "\n",
      "Brand: y\n",
      "Model: s\n",
      "Year: 1991\n",
      "Number of seats: 7\n",
      "\n"
     ]
    }
   ],
   "source": [
    "brand = 'y'\n",
    "\n",
    "for auto in autos:\n",
    "    if auto.is_match(brand=brand):\n",
    "        auto.display_info()"
   ]
  },
  {
   "cell_type": "code",
   "execution_count": 490,
   "id": "c0bb1ae2-87c5-46c4-afc5-fed43a2a1597",
   "metadata": {},
   "outputs": [
    {
     "name": "stdout",
     "output_type": "stream",
     "text": [
      "Brand: w\n",
      "Model: j\n",
      "Year: 1978\n",
      "Volume: 3\n",
      "Type of fuel: n\n",
      "\n"
     ]
    }
   ],
   "source": [
    "fuel_type = 'n'\n",
    "\n",
    "for auto in autos:\n",
    "    try:\n",
    "        if auto.is_match(fuel_type=fuel_type):\n",
    "            auto.display_info()\n",
    "    except:\n",
    "        pass"
   ]
  },
  {
   "cell_type": "markdown",
   "id": "c675e9cb-5244-4885-b3f4-c3f5a4374e34",
   "metadata": {},
   "source": [
    "№7 Создайте класс СТУДЕНТ с методами, позволяющими вывести на экран информацию о студенте, а также определить, соответствует ли данный студент заданным критериям. Создайте дочерние классы БАКАЛАВР (фамилия, имя, отчество, группа, курс, средний балл), МАГИСТР (фамилия, имя, отчество, группа, курс, средний балл, тема диссертации) со своими методами вывода информации на экран и определения соответствия заданным критериям. Создайте список студентов, выведите полную информацию из базы на экран, а также организуйте поиск студентов с заданным средним баллом или темой диссертации."
   ]
  },
  {
   "cell_type": "code",
   "execution_count": 561,
   "id": "37f05a8c-4dd6-430c-a426-539a893695b3",
   "metadata": {},
   "outputs": [],
   "source": [
    "class Student:\n",
    "    def __init__(self, last_name, name, surname, group, course, gpa):\n",
    "        self.last_name = last_name\n",
    "        self.name = name\n",
    "        self.surname = surname\n",
    "        self.group = group\n",
    "        self.course = course\n",
    "        self.gpa = gpa\n",
    "    \n",
    "    def display_info(self):\n",
    "        print(f\"Last name: {self.last_name}\\nName: {self.name}\\nSurname: {self.surname}\\nGroup: {self.group}\\nCourse: {self.course}\\nGPA: {self.gpa}\")\n",
    "    \n",
    "    def is_match(self, last_name=None, name=None, surname=None, group=None, course=None, gpa=None):\n",
    "        if last_name and last_name != self.last_name:\n",
    "            return False\n",
    "        \n",
    "        if name and name != self.name:\n",
    "            return False\n",
    "        \n",
    "        if surname and surname != self.surname:\n",
    "            return False\n",
    "        \n",
    "        if group and group != self.group:\n",
    "            return False\n",
    "        \n",
    "        if course and course != self.course:\n",
    "            return False\n",
    "        \n",
    "        if gpa and gpa != self.gpa:\n",
    "            return False\n",
    "        \n",
    "        return True"
   ]
  },
  {
   "cell_type": "code",
   "execution_count": 573,
   "id": "a8dcf538-2bfc-4ab3-a84e-3789a9c2f2db",
   "metadata": {},
   "outputs": [],
   "source": [
    "class Bachelor(Student):\n",
    "    def __init__(self, last_name, name, surname, group, course, gpa):\n",
    "        super().__init__(last_name, name, surname, group, course, gpa)\n",
    "    \n",
    "    def display_info(self):\n",
    "        super().display_info()\n",
    "        print(\"\\n\")\n",
    "    \n",
    "    def is_match(self, last_name=None, name=None, surname=None, group=None, course=None, gpa=None):\n",
    "        return super().is_match(last_name, name, surname, group, course, gpa)"
   ]
  },
  {
   "cell_type": "code",
   "execution_count": 574,
   "id": "91f2c173-698b-4e79-931f-8e3a5d082051",
   "metadata": {},
   "outputs": [],
   "source": [
    "class Master(Student):\n",
    "    def __init__(self, last_name, name, surname, group, course, gpa, thesis):\n",
    "        super().__init__(last_name, name, surname, group, course, gpa)\n",
    "        self.thesis = thesis\n",
    "    \n",
    "    def display_info(self):\n",
    "        super().display_info()\n",
    "        print(f\"Thesis: {self.thesis}\\n\")\n",
    "    \n",
    "    def is_match(self, last_name=None, name=None, surname=None, group=None, course=None, gpa=None, thesis=None):\n",
    "        if not super().is_match(last_name, name, surname, group, course, gpa):\n",
    "            return False\n",
    "        \n",
    "        if thesis and thesis != self.thesis:\n",
    "            return False\n",
    "        \n",
    "        return True"
   ]
  },
  {
   "cell_type": "code",
   "execution_count": 575,
   "id": "9399a436-88a8-4ec4-89e6-64d457278d40",
   "metadata": {},
   "outputs": [],
   "source": [
    "students = [Bachelor(choice('qwerty'), choice('asdfghj'), choice('zxcvbnm'), choice('1234'), choice('1234'), randint(1, 100)) for _ in range(3)]\n",
    "students += [Master(choice('qwerty'), choice('asdfghj'), choice('zxcvbnm'), choice('1234'), choice('1234'), randint(1, 100), choice('yuio')) for _ in range(3)]"
   ]
  },
  {
   "cell_type": "code",
   "execution_count": 576,
   "id": "7da20567-b3e1-460e-8fd5-44733b6415a5",
   "metadata": {
    "scrolled": true
   },
   "outputs": [
    {
     "name": "stdout",
     "output_type": "stream",
     "text": [
      "Last name: e\n",
      "Name: d\n",
      "Surname: z\n",
      "Group: 4\n",
      "Course: 4\n",
      "GPA: 80\n",
      "\n",
      "\n",
      "Last name: e\n",
      "Name: g\n",
      "Surname: n\n",
      "Group: 1\n",
      "Course: 2\n",
      "GPA: 2\n",
      "\n",
      "\n",
      "Last name: w\n",
      "Name: g\n",
      "Surname: n\n",
      "Group: 3\n",
      "Course: 3\n",
      "GPA: 36\n",
      "\n",
      "\n",
      "Last name: r\n",
      "Name: s\n",
      "Surname: m\n",
      "Group: 4\n",
      "Course: 4\n",
      "GPA: 26\n",
      "Thesis: i\n",
      "\n",
      "Last name: q\n",
      "Name: j\n",
      "Surname: c\n",
      "Group: 3\n",
      "Course: 2\n",
      "GPA: 61\n",
      "Thesis: u\n",
      "\n",
      "Last name: q\n",
      "Name: a\n",
      "Surname: z\n",
      "Group: 4\n",
      "Course: 2\n",
      "GPA: 50\n",
      "Thesis: o\n",
      "\n"
     ]
    }
   ],
   "source": [
    "for student in students:\n",
    "    student.display_info()"
   ]
  },
  {
   "cell_type": "code",
   "execution_count": 577,
   "id": "753a78cf-66d4-46bd-93ba-91580dabe0ab",
   "metadata": {
    "scrolled": true
   },
   "outputs": [
    {
     "name": "stdout",
     "output_type": "stream",
     "text": [
      "Last name: e\n",
      "Name: d\n",
      "Surname: z\n",
      "Group: 4\n",
      "Course: 4\n",
      "GPA: 80\n",
      "\n",
      "\n",
      "Last name: r\n",
      "Name: s\n",
      "Surname: m\n",
      "Group: 4\n",
      "Course: 4\n",
      "GPA: 26\n",
      "Thesis: i\n",
      "\n",
      "Last name: q\n",
      "Name: a\n",
      "Surname: z\n",
      "Group: 4\n",
      "Course: 2\n",
      "GPA: 50\n",
      "Thesis: o\n",
      "\n"
     ]
    }
   ],
   "source": [
    "group = '4'\n",
    "\n",
    "for student in students:\n",
    "    if student.is_match(group=group):\n",
    "        student.display_info()"
   ]
  },
  {
   "cell_type": "code",
   "execution_count": 579,
   "id": "339869f0-a436-45f9-bde1-01afb6cd401d",
   "metadata": {},
   "outputs": [
    {
     "name": "stdout",
     "output_type": "stream",
     "text": [
      "Last name: r\n",
      "Name: s\n",
      "Surname: m\n",
      "Group: 4\n",
      "Course: 4\n",
      "GPA: 26\n",
      "Thesis: i\n",
      "\n"
     ]
    }
   ],
   "source": [
    "thesis = 'i'\n",
    "\n",
    "for student in students:\n",
    "    try:\n",
    "        if student.is_match(thesis=thesis):\n",
    "            student.display_info()\n",
    "    except:\n",
    "        pass"
   ]
  },
  {
   "cell_type": "markdown",
   "id": "689d45cb-70b8-4c60-a5ea-ead7b48c778d",
   "metadata": {},
   "source": [
    "№8 Создайте класс ПРОДУКТ с методами, позволяющими вывести на экран информацию о продукте, а также определить, подходит ли данный продукт для заданных условий. Создайте дочерние классы МЯСО (название, цена, производитель, срок годности), ОВОЩИ (название, цена, производитель, сезонность), ФРУКТЫ (название, цена, производитель, сезонность) со своими методами вывода информации на экран и определения соответствия заданным условиям. Создайте список продуктов, выведите полную информацию из базы на экран, а также организуйте поиск продуктов с заданной ценой или сезонностью."
   ]
  },
  {
   "cell_type": "code",
   "execution_count": 593,
   "id": "8f5a55ca-9857-4377-a6be-9dddb978a448",
   "metadata": {},
   "outputs": [],
   "source": [
    "class FoodProduct:\n",
    "    def __init__(self, name, price, manufacturer):\n",
    "        self.name = name\n",
    "        self.price = price\n",
    "        self.manufacturer = manufacturer\n",
    "    \n",
    "    def display_info(self):\n",
    "        print(f\"Name: {self.name}\\nPrice: {self.price}\\nManufacturer: {self.manufacturer}\")\n",
    "    \n",
    "    def is_match(self, name=None, price=None, manufacturer=None):\n",
    "        if name and name != self.name:\n",
    "            return False\n",
    "        \n",
    "        if price and price != self.price:\n",
    "            return False\n",
    "        \n",
    "        if manufacturer and manufacturer != self.manufacturer:\n",
    "            return False\n",
    "        \n",
    "        return True"
   ]
  },
  {
   "cell_type": "code",
   "execution_count": 604,
   "id": "57975aca-5bbe-4685-8462-c31f813e1760",
   "metadata": {},
   "outputs": [],
   "source": [
    "class Meat(FoodProduct):\n",
    "    def __init__(self, name, price, manufacturer, shelf_life):\n",
    "        super().__init__(name, price, manufacturer)\n",
    "        self.shelf_life = shelf_life\n",
    "    \n",
    "    def display_info(self):\n",
    "        super().display_info()\n",
    "        print(f\"Shelf life: {self.shelf_life}\\n\")\n",
    "    \n",
    "    def is_match(self, name=None, price=None, manufacturer=None, shelf_life=None):\n",
    "        if not super().is_match(name, price, manufacturer):\n",
    "            return False\n",
    "        \n",
    "        if shelf_life and shelf_life != self.shelf_life:\n",
    "            return False\n",
    "        \n",
    "        return True"
   ]
  },
  {
   "cell_type": "code",
   "execution_count": 605,
   "id": "592a12df-b164-47c9-84eb-f05963190a4e",
   "metadata": {},
   "outputs": [],
   "source": [
    "class Vegetables(FoodProduct):\n",
    "    def __init__(self, name, price, manufacturer, season):\n",
    "        super().__init__(name, price, manufacturer)\n",
    "        self.season = season\n",
    "    \n",
    "    def display_info(self):\n",
    "        super().display_info()\n",
    "        print(f\"Season: {self.season}\\n\")\n",
    "    \n",
    "    def is_match(self, name=None, price=None, manufacturer=None, season=None):\n",
    "        if not super().is_match(name, price, manufacturer):\n",
    "            return False\n",
    "        \n",
    "        if season and season != self.season:\n",
    "            return False\n",
    "        \n",
    "        return True"
   ]
  },
  {
   "cell_type": "code",
   "execution_count": 606,
   "id": "3777f318-c7ec-4654-bbd2-12ee59f9c433",
   "metadata": {},
   "outputs": [],
   "source": [
    "class Fruits(FoodProduct):\n",
    "    def __init__(self, name, price, manufacturer, season):\n",
    "        super().__init__(name, price, manufacturer)\n",
    "        self.season = season\n",
    "    \n",
    "    def display_info(self):\n",
    "        super().display_info()\n",
    "        print(f\"Season: {self.season}\\n\")\n",
    "    \n",
    "    def is_match(self, name=None, price=None, manufacturer=None, season=None):\n",
    "        if not super().is_match(name, price, manufacturer):\n",
    "            return False\n",
    "        \n",
    "        if season and season != self.season:\n",
    "            return False\n",
    "        \n",
    "        return True"
   ]
  },
  {
   "cell_type": "code",
   "execution_count": 607,
   "id": "b0f78c12-aea2-446b-871c-f810f050cba0",
   "metadata": {},
   "outputs": [],
   "source": [
    "food_product = [Meat(choice('qwerty'), randint(400, 450), choice('asdfg'), randint(10, 20)) for _ in range(3)]\n",
    "food_product += [Vegetables(choice('qwerty'), randint(400, 450), choice('asdfg'), choice('abcd')) for _ in range(3)]\n",
    "food_product += [Fruits(choice('qwerty'), randint(400, 450), choice('asdfg'), choice('abcd')) for _ in range(3)]"
   ]
  },
  {
   "cell_type": "code",
   "execution_count": 608,
   "id": "ec2b2e96-0509-45ff-831b-1778763c769d",
   "metadata": {
    "scrolled": true
   },
   "outputs": [
    {
     "name": "stdout",
     "output_type": "stream",
     "text": [
      "Name: r\n",
      "Price: 410\n",
      "Manufacturer: a\n",
      "Shelf life: 15\n",
      "\n",
      "Name: y\n",
      "Price: 444\n",
      "Manufacturer: s\n",
      "Shelf life: 20\n",
      "\n",
      "Name: e\n",
      "Price: 428\n",
      "Manufacturer: d\n",
      "Shelf life: 15\n",
      "\n",
      "Name: r\n",
      "Price: 416\n",
      "Manufacturer: d\n",
      "Season: a\n",
      "\n",
      "Name: t\n",
      "Price: 433\n",
      "Manufacturer: g\n",
      "Season: b\n",
      "\n",
      "Name: t\n",
      "Price: 402\n",
      "Manufacturer: g\n",
      "Season: c\n",
      "\n",
      "Name: t\n",
      "Price: 401\n",
      "Manufacturer: d\n",
      "Season: d\n",
      "\n",
      "Name: q\n",
      "Price: 420\n",
      "Manufacturer: g\n",
      "Season: a\n",
      "\n",
      "Name: y\n",
      "Price: 411\n",
      "Manufacturer: f\n",
      "Season: d\n",
      "\n"
     ]
    }
   ],
   "source": [
    "for food_ in food_product:\n",
    "    food_.display_info()"
   ]
  },
  {
   "cell_type": "code",
   "execution_count": 609,
   "id": "f7325e0e-f8b4-485e-aaba-233140720727",
   "metadata": {},
   "outputs": [
    {
     "name": "stdout",
     "output_type": "stream",
     "text": [
      "Name: r\n",
      "Price: 416\n",
      "Manufacturer: d\n",
      "Season: a\n",
      "\n",
      "Name: q\n",
      "Price: 420\n",
      "Manufacturer: g\n",
      "Season: a\n",
      "\n"
     ]
    }
   ],
   "source": [
    "season = 'a'\n",
    "\n",
    "for food_ in food_product:\n",
    "    try:\n",
    "        if food_.is_match(season=season):\n",
    "            food_.display_info()\n",
    "    except:\n",
    "        pass"
   ]
  },
  {
   "cell_type": "code",
   "execution_count": 611,
   "id": "b112eb63-c547-44f5-9db1-914925fdb3b1",
   "metadata": {},
   "outputs": [
    {
     "name": "stdout",
     "output_type": "stream",
     "text": [
      "Name: t\n",
      "Price: 401\n",
      "Manufacturer: d\n",
      "Season: d\n",
      "\n"
     ]
    }
   ],
   "source": [
    "price = 401\n",
    "\n",
    "for food_ in food_product:\n",
    "    try:\n",
    "        if food_.is_match(price=price):\n",
    "            food_.display_info()\n",
    "    except:\n",
    "        pass"
   ]
  },
  {
   "cell_type": "markdown",
   "id": "ad9def43-7e5a-4dba-b28c-917c5ab0dbda",
   "metadata": {},
   "source": [
    "№9 Создайте класс ЖИВОТНОЕ с методами, позволяющими вывести на экран информацию о животном, а также определить, подходит ли данное животное для заданных условий. Создайте дочерние классы КОШКА (кличка, порода, возраст, окрас), СОБАКА (кличка, порода, возраст, размер), ПТИЦА (вид, возраст, окрас) со своими методами вывода информации на экран и определения соответствия заданным условиям. Создайте список животных, выведите полную информацию из базы на экран, а также организуйте поиск животных с заданной породой или окрасом."
   ]
  },
  {
   "cell_type": "code",
   "execution_count": 617,
   "id": "2d2c1bf5-8acb-4b5b-9704-a1b9fdb2852b",
   "metadata": {},
   "outputs": [],
   "source": [
    "class Animal:\n",
    "    def __init__(self, age):\n",
    "        self.age = age\n",
    "    \n",
    "    def display_info(self):\n",
    "        print(f\"Age: {self.age}\")\n",
    "    \n",
    "    def is_match(self, age=None):\n",
    "        \n",
    "        if age and age != self.age:\n",
    "            return False\n",
    "        \n",
    "        return True"
   ]
  },
  {
   "cell_type": "code",
   "execution_count": 618,
   "id": "8bb09dcf-d89b-48a3-8198-cbdb7e39ba5f",
   "metadata": {},
   "outputs": [],
   "source": [
    "class Cat(Animal):\n",
    "    def __init__(self, name, breed, age, color):\n",
    "        super().__init__(age)\n",
    "        self.name = name\n",
    "        self.breed = breed\n",
    "        self.color = color\n",
    "    \n",
    "    def display_info(self):\n",
    "        super().display_info()\n",
    "        print(f\"Name: {self.name}\\nBreed: {self.breed}\\nColor: {self.color}\\n\")\n",
    "    \n",
    "    def is_match(self, name=None, breed=None, age=None, color=None):\n",
    "        if not super().is_match(age):\n",
    "            return False\n",
    "        \n",
    "        if name and name != self.name:\n",
    "            return False\n",
    "        \n",
    "        if breed and breed != self.breed:\n",
    "            return False\n",
    "        \n",
    "        if color and color != self.color:\n",
    "            return False\n",
    "        \n",
    "        return True"
   ]
  },
  {
   "cell_type": "code",
   "execution_count": 619,
   "id": "3c86b004-1cf7-4139-8437-e78890a734a9",
   "metadata": {},
   "outputs": [],
   "source": [
    "class Dog(Animal):\n",
    "    def __init__(self, name, breed, age, size):\n",
    "        super().__init__(age)\n",
    "        self.name = name\n",
    "        self.breed = breed\n",
    "        self.size = size\n",
    "    \n",
    "    def display_info(self):\n",
    "        super().display_info()\n",
    "        print(f\"Name: {self.name}\\nBreed: {self.breed}\\nSize: {self.size}\\n\")\n",
    "    \n",
    "    def is_match(self, name=None, breed=None, age=None, size=None):\n",
    "        if not super().is_match(age):\n",
    "            return False\n",
    "        \n",
    "        if name and name != self.name:\n",
    "            return False\n",
    "        \n",
    "        if breed and breed != self.breed:\n",
    "            return False\n",
    "        \n",
    "        if size and size != self.size:\n",
    "            return False\n",
    "        \n",
    "        return True"
   ]
  },
  {
   "cell_type": "code",
   "execution_count": 620,
   "id": "9fea24d6-b62f-436e-9ee9-85a87a6aa622",
   "metadata": {},
   "outputs": [],
   "source": [
    "class Bird(Animal):\n",
    "    def __init__(self, species, age, color):\n",
    "        super().__init__(age)\n",
    "        self.species = species\n",
    "        self.color = color\n",
    "    \n",
    "    def display_info(self):\n",
    "        super().display_info()\n",
    "        print(f\"Species: {self.species}\\nColor: {self.color}\\n\")\n",
    "    \n",
    "    def is_match(self, species=None, age=None, color=None):\n",
    "        if not super().is_match(age):\n",
    "            return False\n",
    "        \n",
    "        if species and species != self.species:\n",
    "            return False\n",
    "        \n",
    "        if color and color != self.color:\n",
    "            return False\n",
    "        \n",
    "        return True"
   ]
  },
  {
   "cell_type": "code",
   "execution_count": 621,
   "id": "5da35207-a065-475d-b448-0c5fa8a39cc9",
   "metadata": {},
   "outputs": [],
   "source": [
    "animals = [Cat(choice('qwerty'), choice('asdfg'), randint(1, 18), choice('zxcv')) for _ in range(3)]\n",
    "animals += [Dog(choice('qwerty'), choice('asdfg'), randint(1, 18), randint(1, 10)) for _ in range(3)]\n",
    "animals += [Bird(choice('qwerty'), randint(1, 10), choice('asdfg')) for _ in range(3)]"
   ]
  },
  {
   "cell_type": "code",
   "execution_count": 622,
   "id": "c7597e67-aa31-44e4-a667-e2298acb40b8",
   "metadata": {
    "scrolled": true
   },
   "outputs": [
    {
     "name": "stdout",
     "output_type": "stream",
     "text": [
      "Age: 4\n",
      "Name: r\n",
      "Breed: s\n",
      "Color: v\n",
      "\n",
      "Age: 8\n",
      "Name: w\n",
      "Breed: s\n",
      "Color: c\n",
      "\n",
      "Age: 13\n",
      "Name: q\n",
      "Breed: g\n",
      "Color: x\n",
      "\n",
      "Age: 10\n",
      "Name: r\n",
      "Breed: g\n",
      "Size: 8\n",
      "\n",
      "Age: 5\n",
      "Name: r\n",
      "Breed: s\n",
      "Size: 3\n",
      "\n",
      "Age: 10\n",
      "Name: e\n",
      "Breed: s\n",
      "Size: 2\n",
      "\n",
      "Age: 9\n",
      "Species: e\n",
      "Color: f\n",
      "\n",
      "Age: 2\n",
      "Species: w\n",
      "Color: d\n",
      "\n",
      "Age: 1\n",
      "Species: r\n",
      "Color: a\n",
      "\n"
     ]
    }
   ],
   "source": [
    "for animal in animals:\n",
    "    animal.display_info()"
   ]
  },
  {
   "cell_type": "code",
   "execution_count": 626,
   "id": "768556d9-051b-4bf8-a741-3c202bff6ad0",
   "metadata": {},
   "outputs": [
    {
     "name": "stdout",
     "output_type": "stream",
     "text": [
      "Age: 13\n",
      "Name: q\n",
      "Breed: g\n",
      "Color: x\n",
      "\n",
      "Age: 10\n",
      "Name: r\n",
      "Breed: g\n",
      "Size: 8\n",
      "\n"
     ]
    }
   ],
   "source": [
    "breed = 'g'\n",
    "\n",
    "for animal in animals:\n",
    "    try:\n",
    "        if animal.is_match(breed=breed):\n",
    "            animal.display_info()\n",
    "    except:\n",
    "        pass"
   ]
  },
  {
   "cell_type": "code",
   "execution_count": 627,
   "id": "a230822a-8d61-4403-82a1-9acdd37ede18",
   "metadata": {},
   "outputs": [
    {
     "name": "stdout",
     "output_type": "stream",
     "text": [
      "Age: 9\n",
      "Species: e\n",
      "Color: f\n",
      "\n"
     ]
    }
   ],
   "source": [
    "color = 'f'\n",
    "\n",
    "for animal in animals:\n",
    "    try:\n",
    "        if animal.is_match(color=color):\n",
    "            animal.display_info()\n",
    "    except:\n",
    "        pass"
   ]
  },
  {
   "cell_type": "markdown",
   "id": "b647e06a-7f11-4f84-b76c-86d12d8ef878",
   "metadata": {},
   "source": [
    "№10 Создайте класс ФИЛЬМ с методами, позволяющими вывести на экран информацию о фильме, а также определить, подходит ли данный фильм для заданных условий. Создайте дочерние классы КОМЕДИЯ (название, год выпуска, режиссер, актеры), ДРАМА (название, год выпуска, режиссер, актеры), ФАНТАСТИКА (название, год выпуска, режиссер, актеры) со своими методами вывода информации на экран и определения соответствия заданным условиям. Создайте список фильмов, выведите полную информацию из базы на экран, а также организуйте поиск фильмов с заданным годом выпуска или режиссером."
   ]
  },
  {
   "cell_type": "code",
   "execution_count": 628,
   "id": "c2060b3b-914f-4e83-821e-ab03fc6c57b8",
   "metadata": {},
   "outputs": [],
   "source": [
    "class Movie:\n",
    "    def __init__(self, title, year, director, actors):\n",
    "        self.title = title\n",
    "        self.year = year\n",
    "        self.director = director\n",
    "        self.actors = actors\n",
    "    \n",
    "    def display_info(self):\n",
    "        print(f\"Title: {self.title}\\nYear: {self.year}\\nDirector: {self.director}\\nActors: {self.actors}\")\n",
    "    \n",
    "    def is_match(self, title=None, year=None, director=None, actors=None):\n",
    "        if title and title != self.title:\n",
    "            return False\n",
    "        \n",
    "        if year and year != self.year:\n",
    "            return False\n",
    "        \n",
    "        if director and director != self.director:\n",
    "            return False\n",
    "        \n",
    "        if actors and actors != self.actors:\n",
    "            return False\n",
    "        \n",
    "        return True"
   ]
  },
  {
   "cell_type": "code",
   "execution_count": 629,
   "id": "832ab860-44f8-42c1-bfae-f6c1d45a3485",
   "metadata": {},
   "outputs": [],
   "source": [
    "class Comedy(Movie):\n",
    "    def __init__(self, title, year, director, actors):\n",
    "        super().__init__(title, year, director, actors)\n",
    "    \n",
    "    def display_info(self):\n",
    "        super().display_info()\n",
    "        print(\"Genre: Comedy\\n\")\n",
    "    \n",
    "    def is_match(self, title=None, year=None, director=None, actors=None):\n",
    "        return super().is_match(title, year, director, actors)"
   ]
  },
  {
   "cell_type": "code",
   "execution_count": 630,
   "id": "1f8aa321-b776-447b-a0df-4cf470072f98",
   "metadata": {},
   "outputs": [],
   "source": [
    "class Drama(Movie):\n",
    "    def __init__(self, title, year, director, actors):\n",
    "        super().__init__(title, year, director, actors)\n",
    "    \n",
    "    def display_info(self):\n",
    "        super().display_info()\n",
    "        print(\"Genre: Drama\\n\")\n",
    "    \n",
    "    def is_match(self, title=None, year=None, director=None, actors=None):\n",
    "        return super().is_match(title, year, director, actors)"
   ]
  },
  {
   "cell_type": "code",
   "execution_count": 632,
   "id": "42f3f31b-454c-4dd6-91d1-3c1c64a54cc7",
   "metadata": {},
   "outputs": [],
   "source": [
    "class SciFi(Movie):\n",
    "    def __init__(self, title, year, director, actors):\n",
    "        super().__init__(title, year, director, actors)\n",
    "    \n",
    "    def display_info(self):\n",
    "        super().display_info()\n",
    "        print(\"Genre: Sci-fi\\n\")\n",
    "    \n",
    "    def is_match(self, title=None, year=None, director=None, actors=None):\n",
    "        return super().is_match(title, year, director, actors)"
   ]
  },
  {
   "cell_type": "code",
   "execution_count": 633,
   "id": "a63f54b3-481f-4cd4-aa56-73d043dad536",
   "metadata": {},
   "outputs": [],
   "source": [
    "movies = [Comedy(choice('qwerty'), randint(1960, 2024), choice('asdfg'), choice('zxcvb')) for _ in range(3)]\n",
    "movies += [Drama(choice('qwerty'), randint(1960, 2024), choice('asdfg'), choice('zxcvb')) for _ in range(3)]\n",
    "movies += [SciFi(choice('qwerty'), randint(1960, 2024), choice('asdfg'), choice('zxcvb')) for _ in range(3)]"
   ]
  },
  {
   "cell_type": "code",
   "execution_count": 635,
   "id": "cf216e30-727d-4d34-aae7-b52d7191d0b5",
   "metadata": {
    "scrolled": true
   },
   "outputs": [
    {
     "name": "stdout",
     "output_type": "stream",
     "text": [
      "Title: q\n",
      "Year: 1961\n",
      "Director: s\n",
      "Actors: v\n",
      "Genre: Comedy\n",
      "\n",
      "Title: q\n",
      "Year: 2002\n",
      "Director: g\n",
      "Actors: v\n",
      "Genre: Comedy\n",
      "\n",
      "Title: w\n",
      "Year: 1996\n",
      "Director: f\n",
      "Actors: v\n",
      "Genre: Comedy\n",
      "\n",
      "Title: e\n",
      "Year: 2017\n",
      "Director: a\n",
      "Actors: z\n",
      "Genre: Drama\n",
      "\n",
      "Title: w\n",
      "Year: 2017\n",
      "Director: f\n",
      "Actors: z\n",
      "Genre: Drama\n",
      "\n",
      "Title: t\n",
      "Year: 2022\n",
      "Director: f\n",
      "Actors: z\n",
      "Genre: Drama\n",
      "\n",
      "Title: e\n",
      "Year: 1970\n",
      "Director: s\n",
      "Actors: c\n",
      "Genre: Sci-fi\n",
      "\n",
      "Title: e\n",
      "Year: 2000\n",
      "Director: a\n",
      "Actors: c\n",
      "Genre: Sci-fi\n",
      "\n",
      "Title: t\n",
      "Year: 1979\n",
      "Director: f\n",
      "Actors: v\n",
      "Genre: Sci-fi\n",
      "\n"
     ]
    }
   ],
   "source": [
    "for movie in movies:\n",
    "    movie.display_info()"
   ]
  },
  {
   "cell_type": "code",
   "execution_count": 637,
   "id": "b8aefa3c-31d9-40a2-84ee-49b5696fe219",
   "metadata": {},
   "outputs": [
    {
     "name": "stdout",
     "output_type": "stream",
     "text": [
      "Title: e\n",
      "Year: 2017\n",
      "Director: a\n",
      "Actors: z\n",
      "Genre: Drama\n",
      "\n",
      "Title: w\n",
      "Year: 2017\n",
      "Director: f\n",
      "Actors: z\n",
      "Genre: Drama\n",
      "\n"
     ]
    }
   ],
   "source": [
    "year = 2017\n",
    "\n",
    "for movie in movies:\n",
    "    if movie.is_match(year=year):\n",
    "        movie.display_info()"
   ]
  },
  {
   "cell_type": "code",
   "execution_count": 638,
   "id": "d29f6b98-b451-4b64-a042-29dd1d5f9a2e",
   "metadata": {},
   "outputs": [
    {
     "name": "stdout",
     "output_type": "stream",
     "text": [
      "Title: e\n",
      "Year: 2017\n",
      "Director: a\n",
      "Actors: z\n",
      "Genre: Drama\n",
      "\n",
      "Title: w\n",
      "Year: 2017\n",
      "Director: f\n",
      "Actors: z\n",
      "Genre: Drama\n",
      "\n"
     ]
    }
   ],
   "source": [
    "director = 's'\n",
    "\n",
    "for movie in movies:\n",
    "    if movie.is_match(year=year):\n",
    "        movie.display_info()"
   ]
  },
  {
   "cell_type": "markdown",
   "id": "f0b8a57d-3af9-488e-ae93-3e01c952cb93",
   "metadata": {
    "jp-MarkdownHeadingCollapsed": true
   },
   "source": [
    "# Ибать, magic"
   ]
  },
  {
   "cell_type": "markdown",
   "id": "9a9d8928-7ab1-4558-94e7-0ca573ef6bca",
   "metadata": {},
   "source": [
    "№11 Создайте класс «Круг» с атрибутами радиус и цвет. Напишите методы для вычисления площади и длины окружности круга. Используйте магический метод __str__ для вывода информации о круге в виде «Круг радиуса {радиус} и цвета {цвет}»"
   ]
  },
  {
   "cell_type": "code",
   "execution_count": 640,
   "id": "b2f72ec3-0336-4ecf-84b1-d95402650fb0",
   "metadata": {},
   "outputs": [],
   "source": [
    "from math import pi"
   ]
  },
  {
   "cell_type": "code",
   "execution_count": 648,
   "id": "66f17136-cb90-45a5-930c-639397e82df7",
   "metadata": {},
   "outputs": [],
   "source": [
    "class Circle:\n",
    "    def __init__(self, r, color):\n",
    "        self.r = r\n",
    "        self.color = color\n",
    "    \n",
    "    def s(self):\n",
    "        return round(pi * self.r**2, 2)\n",
    "    \n",
    "    def p(self):\n",
    "        return round(2 * pi * self.r, 2)\n",
    "    \n",
    "    def __str__(self):\n",
    "        return f\"Круг радиуса {self.r} и цвета {self.color}\""
   ]
  },
  {
   "cell_type": "code",
   "execution_count": 649,
   "id": "7749badc-f495-41fd-b0e3-17d7ddcf6a42",
   "metadata": {},
   "outputs": [],
   "source": [
    "circles = [Circle(randint(1, 10), choice('qwerty')) for _ in range(5)]"
   ]
  },
  {
   "cell_type": "code",
   "execution_count": 650,
   "id": "45f9aba1-4f93-492f-9457-a926f728699e",
   "metadata": {},
   "outputs": [
    {
     "name": "stdout",
     "output_type": "stream",
     "text": [
      "Круг радиуса 2 и цвета q\n",
      "12.57\n",
      "12.57\n",
      "\n",
      "Круг радиуса 8 и цвета y\n",
      "201.06\n",
      "50.27\n",
      "\n",
      "Круг радиуса 7 и цвета t\n",
      "153.94\n",
      "43.98\n",
      "\n",
      "Круг радиуса 3 и цвета q\n",
      "28.27\n",
      "18.85\n",
      "\n",
      "Круг радиуса 4 и цвета w\n",
      "50.27\n",
      "25.13\n",
      "\n"
     ]
    }
   ],
   "source": [
    "for circle in circles:\n",
    "    print(circle)\n",
    "    print(circle.s())\n",
    "    print(circle.p())\n",
    "    print()"
   ]
  },
  {
   "cell_type": "markdown",
   "id": "36bd2613-0b2a-4433-ad4d-bd3da5dda0d6",
   "metadata": {},
   "source": [
    "№12 Создайте класс «Прямоугольник» с атрибутами длины и ширины. Напишите методы для вычисления площади и периметра прямоугольника. Используйте магический метод __eq__ для сравнения двух прямоугольников по площади."
   ]
  },
  {
   "cell_type": "code",
   "execution_count": 652,
   "id": "14a48c69-13fa-472c-9b2d-acb7056c113e",
   "metadata": {},
   "outputs": [],
   "source": [
    "class Rectangle:\n",
    "    def __init__(self, width, height):\n",
    "        self.width = width\n",
    "        self.height = height\n",
    "\n",
    "    def __str__(self):\n",
    "        return f\"Длина {self.width} и ширина {self.height}\" \n",
    "    \n",
    "    def s(self):\n",
    "        return self.width * self.height\n",
    "    \n",
    "    def p(self):\n",
    "        return 2 * (self.width + self.height)\n",
    "    \n",
    "    def __eq__(self, other):\n",
    "        return self.s() == other.s()"
   ]
  },
  {
   "cell_type": "code",
   "execution_count": 653,
   "id": "877e671e-d265-4f70-8731-10d665b44da5",
   "metadata": {},
   "outputs": [],
   "source": [
    "rectangles = [Rectangle(randint(1, 10), randint(1, 10)) for _ in range(5)]"
   ]
  },
  {
   "cell_type": "code",
   "execution_count": 654,
   "id": "0cacee2f-66f5-4815-a584-3baa83145caa",
   "metadata": {},
   "outputs": [
    {
     "name": "stdout",
     "output_type": "stream",
     "text": [
      "Длина 1 и ширина 4\n",
      "4\n",
      "10\n",
      "\n",
      "Длина 8 и ширина 8\n",
      "64\n",
      "32\n",
      "\n",
      "Длина 1 и ширина 7\n",
      "7\n",
      "16\n",
      "\n",
      "Длина 6 и ширина 6\n",
      "36\n",
      "24\n",
      "\n",
      "Длина 8 и ширина 9\n",
      "72\n",
      "34\n",
      "\n"
     ]
    }
   ],
   "source": [
    "for rectangle in rectangles:\n",
    "    print(rectangle)\n",
    "    print(rectangle.s())\n",
    "    print(rectangle.p())\n",
    "    print()"
   ]
  },
  {
   "cell_type": "code",
   "execution_count": 657,
   "id": "02da4212-0d79-4f41-92b1-41e52542fc10",
   "metadata": {},
   "outputs": [
    {
     "name": "stdout",
     "output_type": "stream",
     "text": [
      "Длина 9 и ширина 4\n",
      "36\n"
     ]
    }
   ],
   "source": [
    "rectangle_ = Rectangle(9, 4)\n",
    "print(rectangle_)\n",
    "print(rectangle_.s())"
   ]
  },
  {
   "cell_type": "code",
   "execution_count": 660,
   "id": "d6f812ee-84a0-4d10-a5a4-49e6257dc8e6",
   "metadata": {},
   "outputs": [
    {
     "name": "stdout",
     "output_type": "stream",
     "text": [
      "False\n",
      "False\n",
      "False\n",
      "True\n",
      "False\n"
     ]
    }
   ],
   "source": [
    "for rectangle in rectangles:\n",
    "    print(rectangle == rectangle_)"
   ]
  },
  {
   "cell_type": "markdown",
   "id": "539404f1-4eda-48b5-84aa-5caa060f54de",
   "metadata": {},
   "source": [
    "№13 Создайте класс «Студент» с атрибутами имя, возраст и список оценок. Напишите методы для вычисления среднего балла и определения успеваемости студента (средний балл выше 4). Используйте магический ме-тод __repr__ для вывода информации о студенте в виде «Студент {имя}, возраст {возраст}»."
   ]
  },
  {
   "cell_type": "code",
   "execution_count": 672,
   "id": "32702b3d-6705-4cc9-ac17-48988c99105e",
   "metadata": {},
   "outputs": [],
   "source": [
    "class Student:\n",
    "    def __init__(self, name, age, mark_list):\n",
    "        self.name = name\n",
    "        self.age = age\n",
    "        self.mark_list = mark_list\n",
    "    \n",
    "    def gpa(self):\n",
    "        return round(sum(self.mark_list) / len(self.mark_list), 2)\n",
    "    \n",
    "    def is_norm_result(self):\n",
    "        return self.gpa() > 4\n",
    "    \n",
    "    def __repr__(self):\n",
    "        return f\"Студент {self.name}, возраст {self.age}\""
   ]
  },
  {
   "cell_type": "code",
   "execution_count": 675,
   "id": "6e154020-00a0-4534-a860-cb148a4783bc",
   "metadata": {},
   "outputs": [],
   "source": [
    "students = [Student(choice('qwertyu'), randint(17, 25), list(randint(2, 5) for _ in range(10))) for _ in range(5)]"
   ]
  },
  {
   "cell_type": "code",
   "execution_count": 676,
   "id": "f034e36b-0ebc-472d-b108-dd39de6b8934",
   "metadata": {},
   "outputs": [
    {
     "name": "stdout",
     "output_type": "stream",
     "text": [
      "Студент r, возраст 18\n",
      "3.8\n",
      "False\n",
      "\n",
      "Студент e, возраст 23\n",
      "3.5\n",
      "False\n",
      "\n",
      "Студент y, возраст 19\n",
      "3.5\n",
      "False\n",
      "\n",
      "Студент q, возраст 19\n",
      "3.5\n",
      "False\n",
      "\n",
      "Студент u, возраст 19\n",
      "4.1\n",
      "True\n",
      "\n"
     ]
    }
   ],
   "source": [
    "for student in students:\n",
    "    print(student)\n",
    "    print(student.gpa())\n",
    "    print(student.is_norm_result())\n",
    "    print()"
   ]
  },
  {
   "cell_type": "markdown",
   "id": "7265681f-7b76-4c56-8792-1eb829e35901",
   "metadata": {},
   "source": [
    "№14 Создайте класс «Банк» с атрибутами название, адрес и список клиентов. Каждый клиент представлен классом «Клиент» с атрибутами имя, фамилия, номер счета и баланс. Напишите методы для добавления клиента в банк, удаления клиента из банка и вывода информации о банке в виде «Банк '{название}', адрес - {адрес}, клиенты - {список клиентов}». Используйте магический метод __str__ для вывода информации о клиенте в удобном формате."
   ]
  },
  {
   "cell_type": "code",
   "execution_count": 711,
   "id": "cbb0c78e-37e8-4555-9e39-0f45c5a10187",
   "metadata": {},
   "outputs": [],
   "source": [
    "class Bank:\n",
    "    def __init__(self, name, adress, client_list):\n",
    "        self.name = name\n",
    "        self.adress = adress\n",
    "        self.client_list = client_list\n",
    "    \n",
    "    def del_client(self, bank_account):\n",
    "        for client_ in self.client_list:\n",
    "            if client_.bank_account == bank_account:\n",
    "                self.client_list.remove(client_)\n",
    "                break\n",
    "    \n",
    "    def add_client(self, client_):\n",
    "        self.client_list.append(client_)\n",
    "    \n",
    "    def display_info(self):\n",
    "        print(f\"Банк: {self.name}\\nАдрес: {self.adress}\\n\\nКлиенты:\")\n",
    "        \n",
    "        for client_ in self.client_list:\n",
    "            print(f\"-- {client_}\")\n",
    "            print('-' * 20)\n",
    "        \n",
    "        print()"
   ]
  },
  {
   "cell_type": "code",
   "execution_count": 712,
   "id": "f813f999-b2d2-4ce0-ac8a-301f47ac7044",
   "metadata": {},
   "outputs": [],
   "source": [
    "class Client:\n",
    "    def __init__(self, name, last_name, bank_account, balance):\n",
    "        self.name = name\n",
    "        self.last_name = last_name\n",
    "        self.bank_account =  bank_account\n",
    "        self.balance = balance\n",
    "    \n",
    "    def __str__(self):\n",
    "        return f\"Name: {self.name}\\nLast name: {self.last_name}\\nBank account: {self.bank_account}\\nBalance: {self.balance}\""
   ]
  },
  {
   "cell_type": "code",
   "execution_count": 713,
   "id": "6ef119f8-885c-4bef-b562-30513a74cf13",
   "metadata": {},
   "outputs": [],
   "source": [
    "clients_1 = [Client(choice('qwerty'), choice('asdfg'), randint(12345678, 98765432), randint(200_000, 300_000)) for _ in range(5)]\n",
    "clients_2 = [Client(choice('qwerty'), choice('asdfg'), randint(10000000000, 90000000000), randint(200_000, 300_000)) for _ in range(5)] \n",
    "clients_3 = [Client(choice('qwerty'), choice('asdfg'), randint(1000000000000, 9000000000000), randint(200_000, 300_000)) for _ in range(5)] "
   ]
  },
  {
   "cell_type": "code",
   "execution_count": 714,
   "id": "bc27389a-8bbc-42d9-a9c8-e03fd01a9f4f",
   "metadata": {},
   "outputs": [],
   "source": [
    "banks = [Bank('a', 's', clients_1), Bank('b', 'd', clients_2), Bank('c', 'f', clients_3)]"
   ]
  },
  {
   "cell_type": "code",
   "execution_count": 715,
   "id": "5bc2895b-c094-443b-8b7c-ec61cb68f5ac",
   "metadata": {},
   "outputs": [
    {
     "name": "stdout",
     "output_type": "stream",
     "text": [
      "Банк: a\n",
      "Адрес: s\n",
      "\n",
      "Клиенты:\n",
      "-- Name: e\n",
      "Last name: a\n",
      "Bank account: 38950822\n",
      "Balance: 223954\n",
      "--------------------\n",
      "-- Name: q\n",
      "Last name: d\n",
      "Bank account: 50317761\n",
      "Balance: 246496\n",
      "--------------------\n",
      "-- Name: t\n",
      "Last name: d\n",
      "Bank account: 92744246\n",
      "Balance: 260133\n",
      "--------------------\n",
      "-- Name: r\n",
      "Last name: d\n",
      "Bank account: 54543795\n",
      "Balance: 293398\n",
      "--------------------\n",
      "-- Name: r\n",
      "Last name: d\n",
      "Bank account: 55811619\n",
      "Balance: 289152\n",
      "--------------------\n",
      "\n",
      "Банк: b\n",
      "Адрес: d\n",
      "\n",
      "Клиенты:\n",
      "-- Name: y\n",
      "Last name: f\n",
      "Bank account: 68730351848\n",
      "Balance: 294570\n",
      "--------------------\n",
      "-- Name: t\n",
      "Last name: g\n",
      "Bank account: 40181563675\n",
      "Balance: 246225\n",
      "--------------------\n",
      "-- Name: e\n",
      "Last name: s\n",
      "Bank account: 84612289965\n",
      "Balance: 253493\n",
      "--------------------\n",
      "-- Name: w\n",
      "Last name: g\n",
      "Bank account: 65777343661\n",
      "Balance: 284713\n",
      "--------------------\n",
      "-- Name: e\n",
      "Last name: s\n",
      "Bank account: 54951152350\n",
      "Balance: 232853\n",
      "--------------------\n",
      "\n",
      "Банк: c\n",
      "Адрес: f\n",
      "\n",
      "Клиенты:\n",
      "-- Name: y\n",
      "Last name: g\n",
      "Bank account: 5009101746986\n",
      "Balance: 245526\n",
      "--------------------\n",
      "-- Name: e\n",
      "Last name: a\n",
      "Bank account: 5924081955239\n",
      "Balance: 246691\n",
      "--------------------\n",
      "-- Name: e\n",
      "Last name: f\n",
      "Bank account: 3758843857257\n",
      "Balance: 282945\n",
      "--------------------\n",
      "-- Name: r\n",
      "Last name: a\n",
      "Bank account: 7179857412114\n",
      "Balance: 253816\n",
      "--------------------\n",
      "-- Name: q\n",
      "Last name: s\n",
      "Bank account: 7544773957179\n",
      "Balance: 284064\n",
      "--------------------\n",
      "\n"
     ]
    }
   ],
   "source": [
    "for bank in banks:\n",
    "    bank.display_info()"
   ]
  },
  {
   "cell_type": "code",
   "execution_count": 716,
   "id": "e2b6a422-b45f-4c63-807f-614cf0ade6bb",
   "metadata": {},
   "outputs": [
    {
     "name": "stdout",
     "output_type": "stream",
     "text": [
      "Банк: a\n",
      "Адрес: s\n",
      "\n",
      "Клиенты:\n",
      "-- Name: e\n",
      "Last name: a\n",
      "Bank account: 38950822\n",
      "Balance: 223954\n",
      "--------------------\n",
      "-- Name: t\n",
      "Last name: d\n",
      "Bank account: 92744246\n",
      "Balance: 260133\n",
      "--------------------\n",
      "-- Name: r\n",
      "Last name: d\n",
      "Bank account: 54543795\n",
      "Balance: 293398\n",
      "--------------------\n",
      "-- Name: r\n",
      "Last name: d\n",
      "Bank account: 55811619\n",
      "Balance: 289152\n",
      "--------------------\n",
      "\n"
     ]
    }
   ],
   "source": [
    "banks[0].del_client(50317761)\n",
    "banks[0].display_info()"
   ]
  },
  {
   "cell_type": "code",
   "execution_count": 717,
   "id": "0add42f6-f7f8-478d-9b86-7d3c74e5799a",
   "metadata": {},
   "outputs": [
    {
     "name": "stdout",
     "output_type": "stream",
     "text": [
      "Name: e\n",
      "Last name: s\n",
      "Bank account: 58484202\n",
      "Balance: 270442\n",
      "Банк: a\n",
      "Адрес: s\n",
      "\n",
      "Клиенты:\n",
      "-- Name: e\n",
      "Last name: a\n",
      "Bank account: 38950822\n",
      "Balance: 223954\n",
      "--------------------\n",
      "-- Name: t\n",
      "Last name: d\n",
      "Bank account: 92744246\n",
      "Balance: 260133\n",
      "--------------------\n",
      "-- Name: r\n",
      "Last name: d\n",
      "Bank account: 54543795\n",
      "Balance: 293398\n",
      "--------------------\n",
      "-- Name: r\n",
      "Last name: d\n",
      "Bank account: 55811619\n",
      "Balance: 289152\n",
      "--------------------\n",
      "-- Name: e\n",
      "Last name: s\n",
      "Bank account: 58484202\n",
      "Balance: 270442\n",
      "--------------------\n",
      "\n"
     ]
    }
   ],
   "source": [
    "client_for_a = Client(choice('qwerty'), choice('asdfg'), randint(12345678, 98765432), randint(200_000, 300_000))\n",
    "\n",
    "print(client_for_a)\n",
    "\n",
    "banks[0].add_client(client_for_a)\n",
    "banks[0].display_info()"
   ]
  },
  {
   "cell_type": "markdown",
   "id": "ed4398e6-6c2e-41f0-897a-0dc69a266914",
   "metadata": {},
   "source": [
    "№15 Создайте класс «Книга» с атрибутами название, автор и год издания. Напишите методы для вывода информации о книге в виде «Книга '{название}' автора {автор}, издана в {году}». Используйте магический метод __eq__ для сравнения двух книг по году издания."
   ]
  },
  {
   "cell_type": "code",
   "execution_count": 724,
   "id": "04135406-1306-41d6-95a6-d2956e79a33a",
   "metadata": {},
   "outputs": [],
   "source": [
    "class Book:\n",
    "    def __init__(self, title, author, pub_year):\n",
    "        self.title = title\n",
    "        self.author = author\n",
    "        self.pub_year = pub_year\n",
    "    \n",
    "    def display_info(self):\n",
    "        print(f\"Книга {self.title} автора {self.author}, издана в {self.pub_year}\\n\")\n",
    "    \n",
    "    def __eq__(self, other):\n",
    "        return self.pub_year == other.pub_year"
   ]
  },
  {
   "cell_type": "code",
   "execution_count": 725,
   "id": "bc96002b-8076-4151-8746-a2c4becd59a0",
   "metadata": {},
   "outputs": [],
   "source": [
    "books = [Book(choice('qwertyui'), choice('asdfgjk'), randint(1990, 2005)) for _ in range(5)]"
   ]
  },
  {
   "cell_type": "code",
   "execution_count": 726,
   "id": "9a9955a2-b1cc-4254-9b62-8fc2c332aac8",
   "metadata": {},
   "outputs": [
    {
     "name": "stdout",
     "output_type": "stream",
     "text": [
      "Книга e автора d, издана в 1998\n",
      "\n",
      "Книга r автора d, издана в 2002\n",
      "\n",
      "Книга u автора a, издана в 1992\n",
      "\n",
      "Книга i автора j, издана в 2001\n",
      "\n",
      "Книга e автора d, издана в 2005\n",
      "\n"
     ]
    }
   ],
   "source": [
    "for book in books:\n",
    "    book.display_info()"
   ]
  },
  {
   "cell_type": "code",
   "execution_count": 729,
   "id": "78e9099d-8a90-43a9-9c4c-b229033a9fda",
   "metadata": {},
   "outputs": [],
   "source": [
    "book_ = Book('a', 'b', 2002)"
   ]
  },
  {
   "cell_type": "code",
   "execution_count": 730,
   "id": "020365cb-6461-4adb-857b-82e2fef4b84a",
   "metadata": {},
   "outputs": [
    {
     "name": "stdout",
     "output_type": "stream",
     "text": [
      "False\n",
      "True\n",
      "False\n",
      "False\n",
      "False\n"
     ]
    }
   ],
   "source": [
    "for book in books:\n",
    "    print(book == book_)"
   ]
  },
  {
   "cell_type": "markdown",
   "id": "9cd028d1-0789-4128-b10b-8370f0f71a21",
   "metadata": {
    "jp-MarkdownHeadingCollapsed": true
   },
   "source": [
    "# Стек"
   ]
  },
  {
   "cell_type": "code",
   "execution_count": 732,
   "id": "03167f9e-feab-4b03-bcc5-eee85b23279f",
   "metadata": {},
   "outputs": [
    {
     "name": "stdout",
     "output_type": "stream",
     "text": [
      "→\n"
     ]
    }
   ],
   "source": [
    "print(\"\\u2192\")"
   ]
  },
  {
   "cell_type": "code",
   "execution_count": 736,
   "id": "6de82267-2d93-4a46-aa7c-d8a0efa5449c",
   "metadata": {},
   "outputs": [],
   "source": [
    "class Node:\n",
    "    def __init__(self, data):\n",
    "        self.data = data\n",
    "        self.next = None\n",
    "\n",
    "class Stack:\n",
    "    def __init__(self):\n",
    "        self.head = None\n",
    "\n",
    "    def is_empty(self):\n",
    "        return self.head is None\n",
    "    \n",
    "    def push(self, item):\n",
    "        new_node = Node(item)\n",
    "        new_node.next = self.head\n",
    "        self.head = new_node\n",
    "    \n",
    "    def pop(self, item):\n",
    "        if self.is_empty():\n",
    "            return None\n",
    "        else:\n",
    "            popped_item = self.head\n",
    "            self.head = self.head.next\n",
    "            return popped_item\n",
    "    \n",
    "    def peek(self):\n",
    "        if self.is_empty():\n",
    "            return None\n",
    "        else:\n",
    "            return self.head.data\n",
    "    \n",
    "    def __str__(self):\n",
    "        current = self.head\n",
    "        stack_str = \"\"\n",
    "        \n",
    "        while current:\n",
    "            stack_str += str(current.data) + \" → \"\n",
    "            current = current.next\n",
    "        \n",
    "        return stack_str.rstrip(\" → \")"
   ]
  },
  {
   "cell_type": "markdown",
   "id": "dd7990ea-1055-4c6c-bbd8-9410f06720f7",
   "metadata": {},
   "source": [
    "№1 Дан стек. Необходимо удалить из него все элементы, которые не являются четными числами."
   ]
  },
  {
   "cell_type": "code",
   "execution_count": 735,
   "id": "75da1578-8c30-4a83-9dc1-3a0e7d716115",
   "metadata": {},
   "outputs": [
    {
     "name": "stdout",
     "output_type": "stream",
     "text": [
      "→\n"
     ]
    }
   ],
   "source": [
    "print(\"\\u2192\")"
   ]
  },
  {
   "cell_type": "code",
   "execution_count": 738,
   "id": "57132ece-774b-4c7a-9630-6adf181627ba",
   "metadata": {},
   "outputs": [],
   "source": [
    "class Node:\n",
    "    def __init__(self, data):\n",
    "        self.data = data\n",
    "        self.next = None\n",
    "\n",
    "class Stack:\n",
    "    def __init__(self):\n",
    "        self.head = None\n",
    "    \n",
    "    def is_empty(self):\n",
    "        return self.head is None\n",
    "    \n",
    "    def push(self, item):\n",
    "        new_node = Node(item)\n",
    "        new_node.next = self.head\n",
    "        self.head = new_node\n",
    "    \n",
    "    def pop(self):\n",
    "        if self.is_empty():\n",
    "            return None\n",
    "        else:\n",
    "            popped_item = self.head.data\n",
    "            self.head = self.head.next\n",
    "            return popped_item\n",
    "    \n",
    "    def peek(self):\n",
    "        if self.is_empty():\n",
    "            return None\n",
    "        else:\n",
    "            return self.head.data\n",
    "    \n",
    "    def __str__(self):\n",
    "        current = self.head\n",
    "        stack_str = \"\"\n",
    "        \n",
    "        while current:\n",
    "            stack_str += str(current.data) + \" → \"\n",
    "            current = current.next\n",
    "        \n",
    "        return stack_str.rstrip(\" → \")"
   ]
  },
  {
   "cell_type": "code",
   "execution_count": 800,
   "id": "5788c4d5-5482-4a21-ae08-a64ed4c4adff",
   "metadata": {},
   "outputs": [],
   "source": [
    "def pop_nechet(self):\n",
    "    data_list = []\n",
    "    \n",
    "    while not self.is_empty():\n",
    "        item = self.pop()\n",
    "        \n",
    "        if item % 2 == 0:\n",
    "            data_list.append(item)\n",
    "    \n",
    "    for item in data_list[::-1]:\n",
    "        self.push(item)"
   ]
  },
  {
   "cell_type": "code",
   "execution_count": 801,
   "id": "ff8ad316-3c19-46c4-b384-050d8257b305",
   "metadata": {},
   "outputs": [],
   "source": [
    "stack_ = Stack()\n",
    "\n",
    "for i in range(9, 0, -1):\n",
    "    stack_.push(i)"
   ]
  },
  {
   "cell_type": "code",
   "execution_count": 802,
   "id": "823f39ef-8d20-4759-a5f1-c8569cfe3f31",
   "metadata": {},
   "outputs": [
    {
     "name": "stdout",
     "output_type": "stream",
     "text": [
      "1 → 2 → 3 → 4 → 5 → 6 → 7 → 8 → 9\n"
     ]
    }
   ],
   "source": [
    "print(stack_)"
   ]
  },
  {
   "cell_type": "code",
   "execution_count": 803,
   "id": "9564422f-9520-48bb-b2e4-7c5f8d76e90a",
   "metadata": {},
   "outputs": [
    {
     "name": "stdout",
     "output_type": "stream",
     "text": [
      "2 → 4 → 6 → 8\n"
     ]
    }
   ],
   "source": [
    "pop_nechet(stack_)\n",
    "print(stack_)"
   ]
  },
  {
   "cell_type": "markdown",
   "id": "f0a5b71d-711f-43ed-850d-909ebbd92d8a",
   "metadata": {},
   "source": [
    "№2 Дан стек. Необходимо найти сумму всех элементов, которые являются простыми числами."
   ]
  },
  {
   "cell_type": "code",
   "execution_count": 767,
   "id": "b4897dba-6388-4421-975a-c45f5dea3a03",
   "metadata": {},
   "outputs": [],
   "source": [
    "def sum_prime(self):\n",
    "    is_prime = lambda list_: list(filter(lambda num: all(num % d != 0 for d in range(2, int(sqrt(num)) + 1)), list_))\n",
    "    \n",
    "    data_list = []\n",
    "    \n",
    "    while not self.is_empty():\n",
    "        item = self.pop()\n",
    "        data_list.append(item)\n",
    "    \n",
    "    for item in data_list[::-1]:\n",
    "        self.push(item)\n",
    "    \n",
    "    return sum(is_prime(data_list))"
   ]
  },
  {
   "cell_type": "code",
   "execution_count": 770,
   "id": "07564ee5-9d2f-4573-8088-318cfe99112f",
   "metadata": {},
   "outputs": [
    {
     "name": "stdout",
     "output_type": "stream",
     "text": [
      "78 → 19 → 8 → 24 → 14 → 13\n"
     ]
    }
   ],
   "source": [
    "stack_ = Stack()\n",
    "\n",
    "stack_.push(13)\n",
    "stack_.push(14)\n",
    "stack_.push(24)\n",
    "stack_.push(8)\n",
    "stack_.push(19)\n",
    "stack_.push(78)\n",
    "\n",
    "print(stack_)"
   ]
  },
  {
   "cell_type": "code",
   "execution_count": 771,
   "id": "0563ac70-e99b-44ee-9247-5ffa8c6dcad2",
   "metadata": {},
   "outputs": [
    {
     "data": {
      "text/plain": [
       "32"
      ]
     },
     "execution_count": 771,
     "metadata": {},
     "output_type": "execute_result"
    }
   ],
   "source": [
    "sum_prime(stack_)"
   ]
  },
  {
   "cell_type": "code",
   "execution_count": 773,
   "id": "ac8a64fe-5288-4ac1-ad2b-08d67b06b899",
   "metadata": {},
   "outputs": [
    {
     "name": "stdout",
     "output_type": "stream",
     "text": [
      "78 → 19 → 8 → 24 → 14 → 13\n"
     ]
    }
   ],
   "source": [
    "print(stack_)"
   ]
  },
  {
   "cell_type": "markdown",
   "id": "903e09d0-3f07-4e8c-80a2-e19b14376ab4",
   "metadata": {},
   "source": [
    "№3 Дан стек. Необходимо проверить, содержит ли он хотя бы один элемент, который является квадратом другого элемента стека."
   ]
  },
  {
   "cell_type": "code",
   "execution_count": 791,
   "id": "952076cc-3eeb-4f30-bc7f-c4fdf1abe669",
   "metadata": {},
   "outputs": [],
   "source": [
    "def is_kv_in(self):\n",
    "    data_list = []\n",
    "    \n",
    "    while not self.is_empty():\n",
    "        item = self.pop()\n",
    "        data_list.append(item)\n",
    "    \n",
    "    for item in data_list[::-1]:\n",
    "        self.push(item)\n",
    "    \n",
    "    for num in data_list:\n",
    "        for i in data_list:\n",
    "            if num**2 == i:\n",
    "                return True\n",
    "    \n",
    "    return False"
   ]
  },
  {
   "cell_type": "code",
   "execution_count": 792,
   "id": "e120a4f1-08f2-4cc2-a3f7-0e239016928f",
   "metadata": {},
   "outputs": [
    {
     "name": "stdout",
     "output_type": "stream",
     "text": [
      "78 → 19 → 4 → 24 → 16 → 13\n"
     ]
    }
   ],
   "source": [
    "stack_ = Stack()\n",
    "\n",
    "stack_.push(13)\n",
    "stack_.push(16)\n",
    "stack_.push(24)\n",
    "stack_.push(4)\n",
    "stack_.push(19)\n",
    "stack_.push(78)\n",
    "\n",
    "print(stack_)"
   ]
  },
  {
   "cell_type": "code",
   "execution_count": 793,
   "id": "cb360fc0-afa7-49b3-b696-edc844a5c4a5",
   "metadata": {},
   "outputs": [
    {
     "data": {
      "text/plain": [
       "True"
      ]
     },
     "execution_count": 793,
     "metadata": {},
     "output_type": "execute_result"
    }
   ],
   "source": [
    "is_kv_in(stack_)"
   ]
  },
  {
   "cell_type": "code",
   "execution_count": 794,
   "id": "f0bb40b1-d025-49f2-a09b-e4e61f8d01f4",
   "metadata": {},
   "outputs": [
    {
     "name": "stdout",
     "output_type": "stream",
     "text": [
      "78 → 19 → 4 → 24 → 16 → 13\n"
     ]
    }
   ],
   "source": [
    "print(stack_)"
   ]
  },
  {
   "cell_type": "markdown",
   "id": "616bc8ff-3850-482d-9e38-6adf714c3d71",
   "metadata": {},
   "source": [
    "№4 Дан стек. Необходимо удалить из него все элементы, которые не являются делителями последнего элемента стека."
   ]
  },
  {
   "cell_type": "code",
   "execution_count": 811,
   "id": "fa0e9caa-fdf4-4985-8a18-a3e91434659c",
   "metadata": {},
   "outputs": [],
   "source": [
    "def pop_items(self):\n",
    "    data_list = []\n",
    "    \n",
    "    while not self.is_empty():\n",
    "        item = self.pop()\n",
    "        data_list.append(item)\n",
    "\n",
    "    data_list = data_list[::-1]\n",
    "    last_item = data_list[-1]\n",
    "    \n",
    "    for item in data_list:\n",
    "        if last_item % item == 0:\n",
    "            self.push(item)   "
   ]
  },
  {
   "cell_type": "code",
   "execution_count": 812,
   "id": "5815f404-9990-49a7-9955-1d22bc09c710",
   "metadata": {},
   "outputs": [
    {
     "name": "stdout",
     "output_type": "stream",
     "text": [
      "64 → 19 → 32 → 24 → 16 → 78\n"
     ]
    }
   ],
   "source": [
    "stack_ = Stack()\n",
    "\n",
    "stack_.push(78)\n",
    "stack_.push(16)\n",
    "stack_.push(24)\n",
    "stack_.push(32)\n",
    "stack_.push(19)\n",
    "stack_.push(64)\n",
    "\n",
    "print(stack_)"
   ]
  },
  {
   "cell_type": "code",
   "execution_count": 813,
   "id": "e81446d3-5b6a-48b3-ab37-0443bdc29400",
   "metadata": {},
   "outputs": [
    {
     "name": "stdout",
     "output_type": "stream",
     "text": [
      "64 → 32 → 16\n"
     ]
    }
   ],
   "source": [
    "pop_items(stack_)\n",
    "print(stack_)"
   ]
  },
  {
   "cell_type": "markdown",
   "id": "35a522e9-1c44-4215-b999-60625cabb757",
   "metadata": {
    "jp-MarkdownHeadingCollapsed": true
   },
   "source": [
    "# Очередь"
   ]
  },
  {
   "cell_type": "code",
   "execution_count": 815,
   "id": "27c524e7-6f21-49f0-8e93-276ad47b93ef",
   "metadata": {},
   "outputs": [
    {
     "name": "stdout",
     "output_type": "stream",
     "text": [
      "→\n"
     ]
    }
   ],
   "source": [
    "print(\"\\u2192\")"
   ]
  },
  {
   "cell_type": "code",
   "execution_count": 847,
   "id": "d1ec06ac-eb36-48ec-b0c3-8138ac11436e",
   "metadata": {},
   "outputs": [],
   "source": [
    "class Node:\n",
    "    def __init__(self, data):\n",
    "        self.data = data\n",
    "        self.next = None\n",
    "\n",
    "class Queue:\n",
    "    def __init__(self):\n",
    "        self.head = None\n",
    "        self.tail = None\n",
    "    \n",
    "    def is_empty(self):\n",
    "        return self.head is None\n",
    "    \n",
    "    def enqueue(self, item):\n",
    "        new_node = Node(item)\n",
    "        \n",
    "        if self.is_empty():\n",
    "            self.head = new_node\n",
    "            self.tail = new_node\n",
    "        else:\n",
    "            self.tail.next = new_node\n",
    "            self.tail = new_node\n",
    "    \n",
    "    def dequeue(self):\n",
    "        if self.is_empty():\n",
    "            return None\n",
    "        else:\n",
    "            popped_item = self.head.data\n",
    "            self.head = self.head.next\n",
    "            \n",
    "            if self.is_empty():\n",
    "                self.tail = None\n",
    "            \n",
    "            return popped_item\n",
    "    \n",
    "    def __len__(self):\n",
    "        current = self.head\n",
    "        c = 0\n",
    "        \n",
    "        while current:\n",
    "            c += 1\n",
    "            current = current.next\n",
    "        \n",
    "        return c\n",
    "    \n",
    "    def __str__(self):\n",
    "        current = self.head\n",
    "        queue_str = \"\"\n",
    "        \n",
    "        while current:\n",
    "            queue_str += str(current.data) + \" → \"\n",
    "            current = current.next\n",
    "        \n",
    "        return queue_str.rstrip(\" → \")"
   ]
  },
  {
   "cell_type": "markdown",
   "id": "99b2b0d2-458a-4547-b738-4ebe320f101e",
   "metadata": {},
   "source": [
    "№5 Создать класс очереди, который будет хранить только элементы, большие заданного значения. Значение задается при инициализации объекта класса очереди. При добавлении элемента, если он меньше или равен заданному значению, то он не должен добавляться."
   ]
  },
  {
   "cell_type": "code",
   "execution_count": 817,
   "id": "181c4e76-ba31-4f61-9c42-b452bd28dd8a",
   "metadata": {},
   "outputs": [
    {
     "name": "stdout",
     "output_type": "stream",
     "text": [
      "→\n"
     ]
    }
   ],
   "source": [
    "print(\"\\u2192\")"
   ]
  },
  {
   "cell_type": "code",
   "execution_count": 837,
   "id": "c14a264e-7ce2-47d0-b254-45e47944c4f5",
   "metadata": {},
   "outputs": [],
   "source": [
    "class Node:\n",
    "    def __init__(self, data):\n",
    "        self.data = data\n",
    "        self.next = None\n",
    "\n",
    "class Queue:\n",
    "    def __init__(self, ch):\n",
    "        self.head = None\n",
    "        self.tail = None\n",
    "        self.ch = ch\n",
    "    \n",
    "    def is_empty(self):\n",
    "        return self.head is None\n",
    "    \n",
    "    def enqueue(self, item):\n",
    "        if item > self.ch:\n",
    "            new_node = Node(item)\n",
    "        \n",
    "            if self.is_empty():\n",
    "                self.head = new_node\n",
    "                self.tail = new_node\n",
    "            else:\n",
    "                self.tail.next = new_node\n",
    "                self.tail = new_node\n",
    "    \n",
    "    def dequeue(self):\n",
    "        if self.is_empty():\n",
    "            return None\n",
    "        else:\n",
    "            popped_item = self.head.data\n",
    "            self.head = self.head.next\n",
    "            \n",
    "            if self.is_empty():\n",
    "                self.tail = None\n",
    "            \n",
    "            return popped_item\n",
    "    \n",
    "    def __len__(self):\n",
    "        current = self.head\n",
    "        c = 0\n",
    "        \n",
    "        while current:\n",
    "            c += 1\n",
    "            current = current.next\n",
    "        \n",
    "        return c\n",
    "    \n",
    "    def __str__(self):\n",
    "        current = self.head\n",
    "        queue_str = \"\"\n",
    "        \n",
    "        while current:\n",
    "            queue_str += str(current.data) + \" → \"\n",
    "            current = current.next\n",
    "        \n",
    "        return queue_str.rstrip(\" → \")"
   ]
  },
  {
   "cell_type": "code",
   "execution_count": 838,
   "id": "ba5a7789-5504-47b3-b13a-0143ce925423",
   "metadata": {},
   "outputs": [
    {
     "name": "stdout",
     "output_type": "stream",
     "text": [
      "38 → 80 → 667\n"
     ]
    }
   ],
   "source": [
    "queue_ = Queue(25)\n",
    "\n",
    "queue_.enqueue(13)\n",
    "queue_.enqueue(38)\n",
    "queue_.enqueue(10)\n",
    "queue_.enqueue(25)\n",
    "queue_.enqueue(80)\n",
    "queue_.enqueue(667)\n",
    "\n",
    "print(queue_)"
   ]
  },
  {
   "cell_type": "code",
   "execution_count": 839,
   "id": "bc5c2627-09eb-4556-a67c-6421342bbbf2",
   "metadata": {},
   "outputs": [
    {
     "name": "stdout",
     "output_type": "stream",
     "text": [
      "80 → 667\n"
     ]
    }
   ],
   "source": [
    "queue_.dequeue()\n",
    "print(queue_)"
   ]
  },
  {
   "cell_type": "code",
   "execution_count": 841,
   "id": "2591db8f-963b-4a65-8b3c-54f60d2c7c2d",
   "metadata": {},
   "outputs": [
    {
     "data": {
      "text/plain": [
       "2"
      ]
     },
     "execution_count": 841,
     "metadata": {},
     "output_type": "execute_result"
    }
   ],
   "source": [
    "len(queue_)"
   ]
  },
  {
   "cell_type": "markdown",
   "id": "20e81d93-6062-4573-84fe-42c8d431dcd7",
   "metadata": {},
   "source": [
    "№6 Создать класс очереди, который будет хранить только уникальные элементы. При добавлении элемента, если он уже есть в очереди, то он не должен добавляться."
   ]
  },
  {
   "cell_type": "code",
   "execution_count": 844,
   "id": "c22ee338-e255-4706-b5dd-c706b8682716",
   "metadata": {},
   "outputs": [],
   "source": [
    "class Node:\n",
    "    def __init__(self, data):\n",
    "        self.data = data\n",
    "        self.next = None\n",
    "\n",
    "class Queue:\n",
    "    def __init__(self):\n",
    "        self.head = None\n",
    "        self.tail = None\n",
    "        self.data_list = []\n",
    "    \n",
    "    def is_empty(self):\n",
    "        return self.head is None\n",
    "    \n",
    "    def enqueue(self, item):\n",
    "        if item not in self.data_list:\n",
    "            new_node = Node(item)\n",
    "            self.data_list.append(item)\n",
    "            \n",
    "            if self.is_empty():\n",
    "                self.head = new_node\n",
    "                self.tail = new_node\n",
    "            else:\n",
    "                self.tail.next = new_node\n",
    "                self.tail = new_node\n",
    "    \n",
    "    def dequeue(self):\n",
    "        if self.is_empty():\n",
    "            return None\n",
    "        else:\n",
    "            popped_item = self.head.data\n",
    "            self.head = self.head.next\n",
    "            \n",
    "            if self.is_empty():\n",
    "                self.tail = None\n",
    "            \n",
    "            self.data_list.remove(popped_item)\n",
    "            \n",
    "            return popped_item\n",
    "    \n",
    "    def __len__(self):\n",
    "        current = self.head\n",
    "        c = 0\n",
    "        \n",
    "        while current:\n",
    "            c += 1\n",
    "            current = current.next\n",
    "        \n",
    "        return c\n",
    "    \n",
    "    def __str__(self):\n",
    "        current = self.head\n",
    "        queue_str = \"\"\n",
    "        \n",
    "        while current:\n",
    "            queue_str += str(current.data) + \" → \"\n",
    "            current = current.next\n",
    "        \n",
    "        return queue_str.rstrip(\" → \")"
   ]
  },
  {
   "cell_type": "code",
   "execution_count": 845,
   "id": "08658c01-4882-4aa5-ab72-ae555c00807f",
   "metadata": {},
   "outputs": [
    {
     "name": "stdout",
     "output_type": "stream",
     "text": [
      "12 → 21 → 16 → 28 → 89\n"
     ]
    }
   ],
   "source": [
    "queue_ = Queue()\n",
    "\n",
    "queue_.enqueue(12)\n",
    "queue_.enqueue(21)\n",
    "queue_.enqueue(21)\n",
    "queue_.enqueue(21)\n",
    "queue_.enqueue(16)\n",
    "queue_.enqueue(28)\n",
    "queue_.enqueue(89)\n",
    "queue_.enqueue(28)\n",
    "\n",
    "print(queue_)"
   ]
  },
  {
   "cell_type": "code",
   "execution_count": 849,
   "id": "46de7730-5202-4825-a83a-03f4a1f7edee",
   "metadata": {},
   "outputs": [
    {
     "name": "stdout",
     "output_type": "stream",
     "text": [
      "16 → 28 → 89\n"
     ]
    }
   ],
   "source": [
    "queue_.dequeue()\n",
    "queue_.dequeue()\n",
    "print(queue_)"
   ]
  },
  {
   "cell_type": "code",
   "execution_count": 850,
   "id": "9a5ef5cc-2534-4021-95c4-128814e58318",
   "metadata": {},
   "outputs": [
    {
     "name": "stdout",
     "output_type": "stream",
     "text": [
      "16 → 28 → 89 → 21\n"
     ]
    }
   ],
   "source": [
    "queue_.enqueue(21)\n",
    "queue_.enqueue(21)\n",
    "print(queue_)"
   ]
  },
  {
   "cell_type": "markdown",
   "id": "2c647f65-3082-40c7-90fa-21cbf6fc3d84",
   "metadata": {},
   "source": [
    "№7 Создать класс очереди, который будет хранить только элементы типа int и отсортированные по убыванию. При добавлении элемента, если он не является целым числом, то он не должен добавляться. При получении элементов из очереди они должны быть отсортированы по убыванию."
   ]
  },
  {
   "cell_type": "code",
   "execution_count": 860,
   "id": "9575bd21-6a33-4b08-8e9b-9066464a0fb1",
   "metadata": {},
   "outputs": [],
   "source": [
    "class Node:\n",
    "    def __init__(self, data):\n",
    "        self.data = data\n",
    "        self.next = None\n",
    "\n",
    "class Queue:\n",
    "    def __init__(self):\n",
    "        self.head = None\n",
    "        self.tail = None\n",
    "    \n",
    "    def is_empty(self):\n",
    "        return self.head is None\n",
    "    \n",
    "    def enqueue(self, item):\n",
    "        if isinstance(item, int):\n",
    "            new_node = Node(item)\n",
    "            \n",
    "            if self.is_empty():\n",
    "                self.head = new_node\n",
    "                self.tail = new_node\n",
    "            else:\n",
    "                if item > self.head.data:\n",
    "                    new_node.next = self.head\n",
    "                    self.head = new_node\n",
    "                else:\n",
    "                    current = self.head\n",
    "                    \n",
    "                    while current.next and item < current.next.data:\n",
    "                        current = current.next\n",
    "                    \n",
    "                    new_node.next = current.next\n",
    "                    current.next = new_node\n",
    "    \n",
    "    def dequeue(self):\n",
    "        if self.is_empty():\n",
    "            return None\n",
    "        else:\n",
    "            popped_item = self.head.data\n",
    "            self.head = self.head.next\n",
    "            \n",
    "            if self.is_empty():\n",
    "                self.tail = None\n",
    "            \n",
    "            return popped_item\n",
    "    \n",
    "    def __len__(self):\n",
    "        current = self.head\n",
    "        c = 0\n",
    "        \n",
    "        while current:\n",
    "            c += 1\n",
    "            current = current.next\n",
    "        \n",
    "        return c\n",
    "    \n",
    "    def __str__(self):\n",
    "        current = self.head\n",
    "        queue_str = \"\"\n",
    "        \n",
    "        while current:\n",
    "            queue_str += str(current.data) + \" → \"\n",
    "            current = current.next\n",
    "        \n",
    "        return queue_str.rstrip(\" → \")"
   ]
  },
  {
   "cell_type": "code",
   "execution_count": 861,
   "id": "39af2652-49c8-4899-be9f-3223a0491314",
   "metadata": {},
   "outputs": [
    {
     "name": "stdout",
     "output_type": "stream",
     "text": [
      "89 → 32 → 26 → 23 → 23 → 20\n"
     ]
    }
   ],
   "source": [
    "queue_ = Queue()\n",
    "\n",
    "queue_.enqueue(23)\n",
    "queue_.enqueue(26)\n",
    "queue_.enqueue(20)\n",
    "queue_.enqueue(32)\n",
    "queue_.enqueue(89)\n",
    "queue_.enqueue(23)\n",
    "\n",
    "print(queue_)"
   ]
  },
  {
   "cell_type": "markdown",
   "id": "6681580c-d99a-49c2-bd84-93ad72d6b5eb",
   "metadata": {
    "jp-MarkdownHeadingCollapsed": true
   },
   "source": [
    "# Двусвязный список"
   ]
  },
  {
   "cell_type": "code",
   "execution_count": 863,
   "id": "2e95ea22-d432-4b0a-9866-d466e7666ecb",
   "metadata": {},
   "outputs": [
    {
     "name": "stdout",
     "output_type": "stream",
     "text": [
      "⇄\n"
     ]
    }
   ],
   "source": [
    "print(\"\\u21C4\")"
   ]
  },
  {
   "cell_type": "code",
   "execution_count": 866,
   "id": "0339fec6-01a2-4589-af84-8d0fc5bca31c",
   "metadata": {},
   "outputs": [],
   "source": [
    "class Node:\n",
    "    def __init__(self, data):\n",
    "        self.data = data\n",
    "        self.prev = None\n",
    "        self.next = None\n",
    "\n",
    "class DounlyLinkedList:\n",
    "    def __init__(self):\n",
    "        self.head = None\n",
    "    \n",
    "    def is_empty(self):\n",
    "        return self.head is None\n",
    "    \n",
    "    def add_node(self, item):\n",
    "        new_node = Node(item)\n",
    "        \n",
    "        if self.is_empty():\n",
    "            self.head = new_node\n",
    "        else:\n",
    "            current = self.head\n",
    "            \n",
    "            while current.next:\n",
    "                current = current.next\n",
    "            \n",
    "            current.next = new_node\n",
    "            new_node.prev = current\n",
    "    \n",
    "    def delete_node(self, item):\n",
    "        if self.is_empty():\n",
    "            return None\n",
    "        elif self.head == item:\n",
    "            if self.head.next is None:\n",
    "                self.head = None\n",
    "            else:\n",
    "                self.head = self.head.next\n",
    "                self.head.prev = None\n",
    "        else:\n",
    "             current = self.head\n",
    "             \n",
    "             while current.next and current.next.data != item:\n",
    "                 current = current.next\n",
    "                \n",
    "             if current.next is None:\n",
    "                 return \n",
    "             else:\n",
    "                 current.next = current.next.next\n",
    "                \n",
    "                 if current.next is not None:\n",
    "                     current.next.prev = current\n",
    "    \n",
    "    def __len__(self):\n",
    "        current = self.head\n",
    "        c = 0\n",
    "        \n",
    "        while current:\n",
    "            c += 1\n",
    "            current = current.next\n",
    "        \n",
    "        return c\n",
    "    \n",
    "    def __str__(self):\n",
    "        current = self.head\n",
    "        dlist_str = \"\"\n",
    "        \n",
    "        while current:\n",
    "            dlist_str += str(current.data) + \" ⇄ \"\n",
    "            current = current.next\n",
    "        \n",
    "        return dlist_str.rstrip(\" ⇄ \")"
   ]
  },
  {
   "cell_type": "markdown",
   "id": "d30d8aea-cf48-4a2a-b79b-0ccf197d5684",
   "metadata": {},
   "source": [
    "№8 Реализовать функцию, которая находит максимальный элемент в двусвязном списке и удаляет его из списка."
   ]
  },
  {
   "cell_type": "code",
   "execution_count": 867,
   "id": "6f8749da-da37-404c-8c26-58644158d547",
   "metadata": {},
   "outputs": [
    {
     "name": "stdout",
     "output_type": "stream",
     "text": [
      "⇄\n"
     ]
    }
   ],
   "source": [
    "print(\"\\u21C4\")"
   ]
  },
  {
   "cell_type": "code",
   "execution_count": 878,
   "id": "360712d2-da41-4b91-a73f-a81e4416cc67",
   "metadata": {},
   "outputs": [],
   "source": [
    "class Node:\n",
    "    def __init__(self, data):\n",
    "        self.data = data\n",
    "        self.prev = None\n",
    "        self.next = None\n",
    "\n",
    "class DoublyLinkedList:\n",
    "    def __init__(self):\n",
    "        self.head = None\n",
    "    \n",
    "    def is_empty(self):\n",
    "        return self.head is None\n",
    "    \n",
    "    def add_node(self, item):\n",
    "        new_node = Node(item)\n",
    "        \n",
    "        if self.is_empty():\n",
    "            self.head = new_node\n",
    "        else:\n",
    "            current = self.head\n",
    "            \n",
    "            while current.next is not None:\n",
    "                current = current.next\n",
    "            \n",
    "            current.next = new_node\n",
    "            new_node.prev = current\n",
    "    \n",
    "    def delete_node(self, item):\n",
    "        if self.is_empty():\n",
    "            return None\n",
    "        elif self.head.data == item:\n",
    "            if self.head.next is None:\n",
    "                self.head = None\n",
    "            else:\n",
    "                self.head = self.head.next\n",
    "                self.head.prev = None\n",
    "        else:\n",
    "            current = self.head\n",
    "            \n",
    "            while current.next and current.next.data != item:\n",
    "                current = current.next\n",
    "            \n",
    "            current.next = current.next.next\n",
    "            \n",
    "            if current.next is not None:\n",
    "                current.next.prev = current\n",
    "    \n",
    "    def __len__(self):\n",
    "        current = self.head\n",
    "        c = 0\n",
    "        \n",
    "        while current:\n",
    "            c += 1\n",
    "            current = current.next\n",
    "        \n",
    "        return c\n",
    "    \n",
    "    def __str__(self):\n",
    "        current = self.head\n",
    "        dlist_str = \"\"\n",
    "        \n",
    "        while current:\n",
    "            dlist_str += str(current.data) + \" ⇄ \"\n",
    "            current = current.next\n",
    "        \n",
    "        return dlist_str.rstrip(\" ⇄ \")"
   ]
  },
  {
   "cell_type": "code",
   "execution_count": 889,
   "id": "8ecdf365-ab56-4b04-9df6-1de42ac679b0",
   "metadata": {},
   "outputs": [],
   "source": [
    "def del_max_(self):\n",
    "    if self.is_empty():\n",
    "        return None\n",
    "    else:\n",
    "        current = self.head\n",
    "        max_ = self.head.data\n",
    "        \n",
    "        while current:\n",
    "            if current.data > max_:\n",
    "                max_ = current.data\n",
    "            \n",
    "            current = current.next\n",
    "        \n",
    "        self.delete_node(max_)\n",
    "        return max_"
   ]
  },
  {
   "cell_type": "code",
   "execution_count": 890,
   "id": "4eecb678-b211-4f28-b76b-8fd80797552e",
   "metadata": {},
   "outputs": [
    {
     "name": "stdout",
     "output_type": "stream",
     "text": [
      "2 ⇄ 20 ⇄ -2 ⇄ 21 ⇄ 0\n"
     ]
    }
   ],
   "source": [
    "dlist_ = DoublyLinkedList()\n",
    "\n",
    "dlist_.add_node(2)\n",
    "dlist_.add_node(20)\n",
    "dlist_.add_node(-2)\n",
    "dlist_.add_node(21)\n",
    "dlist_.add_node(0)\n",
    "\n",
    "print(dlist_)"
   ]
  },
  {
   "cell_type": "code",
   "execution_count": 891,
   "id": "08830ce9-09ad-45aa-a09d-b5ee80be3965",
   "metadata": {},
   "outputs": [
    {
     "data": {
      "text/plain": [
       "21"
      ]
     },
     "execution_count": 891,
     "metadata": {},
     "output_type": "execute_result"
    }
   ],
   "source": [
    "del_max_(dlist_)"
   ]
  },
  {
   "cell_type": "code",
   "execution_count": 892,
   "id": "9b5f6efc-7b51-4c94-bfa1-aa790bb2f94f",
   "metadata": {},
   "outputs": [
    {
     "name": "stdout",
     "output_type": "stream",
     "text": [
      "2 ⇄ 20 ⇄ -2 ⇄ 0\n"
     ]
    }
   ],
   "source": [
    "print(dlist_)"
   ]
  },
  {
   "cell_type": "markdown",
   "id": "3698eba8-1a19-4aeb-b349-919429ea4f86",
   "metadata": {},
   "source": [
    "№9 Реализовать функцию, которая находит произведение квадратов всех элементов в двусвязном списке."
   ]
  },
  {
   "cell_type": "code",
   "execution_count": 905,
   "id": "47aa6b7c-1533-4131-bc62-1507f48294c4",
   "metadata": {},
   "outputs": [],
   "source": [
    "def prod_kv(self): \n",
    "    if self.is_empty():\n",
    "        return None\n",
    "    else:\n",
    "        from math import prod\n",
    "        \n",
    "        data_list = []\n",
    "        current = self.head\n",
    "        \n",
    "        while current:\n",
    "            data_list.append(current.data ** 2)\n",
    "            current = current.next\n",
    "        \n",
    "        return prod(data_list)       "
   ]
  },
  {
   "cell_type": "code",
   "execution_count": 906,
   "id": "446e6b99-4593-466b-a0be-f3803f7bbd05",
   "metadata": {},
   "outputs": [
    {
     "name": "stdout",
     "output_type": "stream",
     "text": [
      "1 ⇄ 2 ⇄ 3 ⇄ 1 ⇄ 1\n"
     ]
    }
   ],
   "source": [
    "dlist_ = DoublyLinkedList()\n",
    "\n",
    "dlist_.add_node(1)\n",
    "dlist_.add_node(2)\n",
    "dlist_.add_node(3)\n",
    "dlist_.add_node(1)\n",
    "dlist_.add_node(1)\n",
    "\n",
    "print(dlist_)"
   ]
  },
  {
   "cell_type": "code",
   "execution_count": 907,
   "id": "f7898609-bf0d-46ea-b55d-e412123e49cc",
   "metadata": {},
   "outputs": [
    {
     "data": {
      "text/plain": [
       "36"
      ]
     },
     "execution_count": 907,
     "metadata": {},
     "output_type": "execute_result"
    }
   ],
   "source": [
    "prod_kv(dlist_)"
   ]
  },
  {
   "cell_type": "markdown",
   "id": "6af7301e-1f43-4f24-b774-a8dcac9b6401",
   "metadata": {},
   "source": [
    "№10 Реализовать функцию, которая находит количество элементов в двусвязном списке."
   ]
  },
  {
   "cell_type": "code",
   "execution_count": 908,
   "id": "a1ba46bf-ddb4-494e-9fc9-9c58f4ebeefc",
   "metadata": {},
   "outputs": [],
   "source": [
    "def len_dlist(self):\n",
    "    current = self.head\n",
    "    c = 0\n",
    "    \n",
    "    while current:\n",
    "        c += 1\n",
    "        current = current.next\n",
    "    \n",
    "    return c"
   ]
  },
  {
   "cell_type": "code",
   "execution_count": 909,
   "id": "3a1c966a-6eb2-451b-ae55-a96fa9492e44",
   "metadata": {},
   "outputs": [
    {
     "name": "stdout",
     "output_type": "stream",
     "text": [
      "1 ⇄ 2 ⇄ 3 ⇄ 1 ⇄ 1\n"
     ]
    }
   ],
   "source": [
    "dlist_ = DoublyLinkedList()\n",
    "\n",
    "dlist_.add_node(1)\n",
    "dlist_.add_node(2)\n",
    "dlist_.add_node(3)\n",
    "dlist_.add_node(1)\n",
    "dlist_.add_node(1)\n",
    "\n",
    "print(dlist_)"
   ]
  },
  {
   "cell_type": "code",
   "execution_count": 910,
   "id": "2cfe25a7-2195-49c0-8089-4eed8a79b672",
   "metadata": {},
   "outputs": [
    {
     "data": {
      "text/plain": [
       "5"
      ]
     },
     "execution_count": 910,
     "metadata": {},
     "output_type": "execute_result"
    }
   ],
   "source": [
    "len_dlist(dlist_)"
   ]
  },
  {
   "cell_type": "markdown",
   "id": "9d2a6dfe-cc2c-4702-912b-8006b4ecd8bf",
   "metadata": {},
   "source": [
    "№11 Реализовать функцию, которая проверяет, является ли двусвязный список палиндромом (элементы списка читаются одинаково как слева направо, так и справа налево)."
   ]
  },
  {
   "cell_type": "code",
   "execution_count": 914,
   "id": "65b26ff9-a935-47a6-aeea-cf37642f510b",
   "metadata": {},
   "outputs": [],
   "source": [
    "def is_palindrom(self):\n",
    "    data_list = []\n",
    "    current = self.head\n",
    "    \n",
    "    while current:\n",
    "        data_list.append(current.data)\n",
    "        current = current.next\n",
    "    \n",
    "    return data_list == data_list[::-1]"
   ]
  },
  {
   "cell_type": "code",
   "execution_count": 919,
   "id": "56d6b398-c392-4e9c-9875-6b014d4f96d5",
   "metadata": {},
   "outputs": [
    {
     "name": "stdout",
     "output_type": "stream",
     "text": [
      "1 ⇄ 2 ⇄ 3 ⇄ 2 ⇄ 1\n"
     ]
    }
   ],
   "source": [
    "dlist_ = DoublyLinkedList()\n",
    "\n",
    "dlist_.add_node(1)\n",
    "dlist_.add_node(2)\n",
    "dlist_.add_node(3)\n",
    "dlist_.add_node(2)\n",
    "dlist_.add_node(1)\n",
    "\n",
    "print(dlist_)"
   ]
  },
  {
   "cell_type": "code",
   "execution_count": 920,
   "id": "2208d15c-5d5c-4a8a-8644-8aa991d8834b",
   "metadata": {},
   "outputs": [
    {
     "data": {
      "text/plain": [
       "True"
      ]
     },
     "execution_count": 920,
     "metadata": {},
     "output_type": "execute_result"
    }
   ],
   "source": [
    "is_palindrom(dlist_)"
   ]
  },
  {
   "cell_type": "markdown",
   "id": "690fe6cb-b63d-45ee-b6fa-bc854add270a",
   "metadata": {},
   "source": [
    "№12 Реализовать функцию, которая находит минимальный элемент в двусвязном списке."
   ]
  },
  {
   "cell_type": "code",
   "execution_count": 927,
   "id": "b27f6b7a-318a-404e-957a-cb6d6fe0f4ae",
   "metadata": {},
   "outputs": [],
   "source": [
    "def find_min(self):\n",
    "    if self.is_empty():\n",
    "        return None\n",
    "    else:\n",
    "        current = self.head\n",
    "        min_ = self.head.data\n",
    "        ind_min = 0\n",
    "        ind_ = 0\n",
    "        \n",
    "        while current:\n",
    "            if current.data < min_:\n",
    "                min_ = current.data\n",
    "                ind_min = ind_\n",
    "            \n",
    "            current = current.next\n",
    "            ind_ +=1\n",
    "            \n",
    "        \n",
    "        return min_, ind_min"
   ]
  },
  {
   "cell_type": "code",
   "execution_count": 928,
   "id": "63e1d4d2-5773-4729-ab7a-f16756a40930",
   "metadata": {},
   "outputs": [
    {
     "name": "stdout",
     "output_type": "stream",
     "text": [
      "10 ⇄ 28 ⇄ 39 ⇄ -20 ⇄ 1\n"
     ]
    }
   ],
   "source": [
    "dlist_ = DoublyLinkedList()\n",
    "\n",
    "dlist_.add_node(10)\n",
    "dlist_.add_node(28)\n",
    "dlist_.add_node(39)\n",
    "dlist_.add_node(-20)\n",
    "dlist_.add_node(1)\n",
    "\n",
    "print(dlist_)"
   ]
  },
  {
   "cell_type": "code",
   "execution_count": 929,
   "id": "d3fadeb5-13ce-42db-a832-5c25dff0b4c0",
   "metadata": {},
   "outputs": [
    {
     "data": {
      "text/plain": [
       "(-20, 3)"
      ]
     },
     "execution_count": 929,
     "metadata": {},
     "output_type": "execute_result"
    }
   ],
   "source": [
    "find_min(dlist_)"
   ]
  },
  {
   "cell_type": "markdown",
   "id": "3fcebda1-dbfb-4a08-b2da-4692ff0ba78f",
   "metadata": {},
   "source": [
    "№13 Написать функцию, которая принимает на вход двусвязный список и индекс элемента, который нужно удалить. Функция должна удалить элемент с указанным индексом и вернуть измененный список."
   ]
  },
  {
   "cell_type": "code",
   "execution_count": 944,
   "id": "67e57930-d6ec-4931-bbe1-78476e3610bb",
   "metadata": {},
   "outputs": [],
   "source": [
    "def del_by_ind(self, ind):\n",
    "    if self.is_empty():\n",
    "        return None\n",
    "    else:\n",
    "        ind_ = 0\n",
    "        current = self.head\n",
    "        \n",
    "        while current:\n",
    "            if ind_ == ind:\n",
    "                self.delete_node(current.data)\n",
    "                return self\n",
    "            \n",
    "            current = current.next\n",
    "            ind_ += 1"
   ]
  },
  {
   "cell_type": "code",
   "execution_count": 945,
   "id": "8044408e-b438-4cb0-9ed4-f7d5e1cfa63c",
   "metadata": {},
   "outputs": [
    {
     "name": "stdout",
     "output_type": "stream",
     "text": [
      "10 ⇄ 28 ⇄ 39 ⇄ -20 ⇄ 1\n"
     ]
    }
   ],
   "source": [
    "dlist_ = DoublyLinkedList()\n",
    "\n",
    "dlist_.add_node(10)\n",
    "dlist_.add_node(28)\n",
    "dlist_.add_node(39)\n",
    "dlist_.add_node(-20)\n",
    "dlist_.add_node(1)\n",
    "\n",
    "print(dlist_)"
   ]
  },
  {
   "cell_type": "code",
   "execution_count": 946,
   "id": "cb05095d-155c-4aa1-9ee4-8c19e1e4f05e",
   "metadata": {},
   "outputs": [
    {
     "name": "stdout",
     "output_type": "stream",
     "text": [
      "10 ⇄ 28 ⇄ 39 ⇄ 1\n"
     ]
    }
   ],
   "source": [
    "print(del_by_ind(dlist_, 3))"
   ]
  },
  {
   "cell_type": "markdown",
   "id": "cd18475e-0fb9-4b84-87fb-5061183a91f7",
   "metadata": {},
   "source": [
    "№14 Написать функцию, которая принимает на вход двусвязный список и значение элемента, который нужно найти. Функция должна вернуть индекс первого вхождения элемента в список или –1, если элемент не найден."
   ]
  },
  {
   "cell_type": "code",
   "execution_count": 954,
   "id": "8eaddcec-2bbf-4ab7-9cd2-3b9c026f6de9",
   "metadata": {},
   "outputs": [],
   "source": [
    "def find_(self, item):\n",
    "    if self.is_empty():\n",
    "        return -1\n",
    "    else:\n",
    "        current = self.head\n",
    "        ind_ = 0\n",
    "        \n",
    "        while current:\n",
    "            if current.data == item:\n",
    "                return ind_\n",
    "            \n",
    "            current = current.next\n",
    "            ind_ += 1\n",
    "        \n",
    "        return -1"
   ]
  },
  {
   "cell_type": "code",
   "execution_count": 955,
   "id": "cdfbb011-9328-4757-a5e3-579ef291e6e6",
   "metadata": {},
   "outputs": [
    {
     "name": "stdout",
     "output_type": "stream",
     "text": [
      "10 ⇄ 28 ⇄ 39 ⇄ -20 ⇄ 1\n"
     ]
    }
   ],
   "source": [
    "dlist_ = DoublyLinkedList()\n",
    "\n",
    "dlist_.add_node(10)\n",
    "dlist_.add_node(28)\n",
    "dlist_.add_node(39)\n",
    "dlist_.add_node(-20)\n",
    "dlist_.add_node(1)\n",
    "\n",
    "print(dlist_)"
   ]
  },
  {
   "cell_type": "code",
   "execution_count": 957,
   "id": "2c87f62c-c732-4a02-871a-a9b97235d2cd",
   "metadata": {},
   "outputs": [
    {
     "data": {
      "text/plain": [
       "-1"
      ]
     },
     "execution_count": 957,
     "metadata": {},
     "output_type": "execute_result"
    }
   ],
   "source": [
    "find_(dlist_, -200)"
   ]
  },
  {
   "cell_type": "code",
   "execution_count": 958,
   "id": "36f08ee8-5dd3-410a-9e70-7f3b445d9a1c",
   "metadata": {},
   "outputs": [
    {
     "data": {
      "text/plain": [
       "3"
      ]
     },
     "execution_count": 958,
     "metadata": {},
     "output_type": "execute_result"
    }
   ],
   "source": [
    "find_(dlist_, -20)"
   ]
  },
  {
   "cell_type": "markdown",
   "id": "df52ac86-f836-49ea-98b2-2b21a8a479e6",
   "metadata": {
    "jp-MarkdownHeadingCollapsed": true
   },
   "source": [
    "# Дерево"
   ]
  },
  {
   "cell_type": "code",
   "execution_count": 982,
   "id": "d5c3b116-ec64-42f1-bda4-a3391c7ef093",
   "metadata": {},
   "outputs": [],
   "source": [
    "class Node:\n",
    "    def __init__(self, data):\n",
    "        self.data = data\n",
    "        self.right = None\n",
    "        self.left = None\n",
    "\n",
    "class BinaryTree:\n",
    "    def __init__(self):\n",
    "        self.root = None\n",
    "    \n",
    "    def insert(self, item):\n",
    "        new_node = Node(item)\n",
    "        \n",
    "        if self.root is None:\n",
    "            self.root = new_node\n",
    "        else:\n",
    "            current = self.root\n",
    "            \n",
    "            while True:\n",
    "                if item < current.data:\n",
    "                    if current.left is None:\n",
    "                        current.left = new_node\n",
    "                        break\n",
    "                    else:\n",
    "                        current = current.left\n",
    "                else:\n",
    "                    if current.right is None:\n",
    "                        current.right = new_node\n",
    "                        break\n",
    "                    else:\n",
    "                        current = current.right\n",
    "    \n",
    "    def find_min_node(self, node):\n",
    "        while node.left is not None:\n",
    "            node = node.left\n",
    "        \n",
    "        return node\n",
    "    \n",
    "    def delete(self, item):\n",
    "        if self.root is not None:\n",
    "            self.root = self.delete_(item, self.root)\n",
    "    \n",
    "    def delete_(self, item, node):\n",
    "        if node is None:\n",
    "            return node\n",
    "        else:\n",
    "             if item < node.data:\n",
    "                 node.left = self.delete_(item, node.left)\n",
    "             elif item > node.data:\n",
    "                 node.right = self.delete_(item, node.right)\n",
    "             else:\n",
    "                 if node.left is None:\n",
    "                     return node.right\n",
    "                 elif node.right is None:\n",
    "                     return node. left\n",
    "                 else:\n",
    "                     min_node = self.find_min_node(node.right)\n",
    "                     node.data = min_node.data\n",
    "                     node.right = self.delete_(min_node.data, node.right)\n",
    "        \n",
    "        return node\n",
    "   \n",
    "    def search(self, item):\n",
    "        current = self.root\n",
    "        \n",
    "        while current:\n",
    "            if current.data == item:\n",
    "                return True\n",
    "            elif item < current.data:\n",
    "                current = current.left\n",
    "            elif item > current.data:\n",
    "                current = current.right\n",
    "        \n",
    "        return False\n",
    "    \n",
    "    def __str__(self):\n",
    "        if self.root is None:\n",
    "            return \"<empty tree>\"\n",
    "        def recurse(node, level=0):\n",
    "            ret = \"\"\n",
    "            if node.right is not None:\n",
    "                ret += recurse(node.right, level + 1)\n",
    "            ret += \"|  \" * level + str(node.data) + \"\\n\"\n",
    "            if node.left is not None:\n",
    "                ret += recurse(node.left, level + 1)\n",
    "            return ret\n",
    "        return recurse(self.root)"
   ]
  },
  {
   "cell_type": "code",
   "execution_count": 986,
   "id": "1b6cbc61-8511-43ee-b5a0-a953ffe10a40",
   "metadata": {},
   "outputs": [],
   "source": [
    "bt = BinaryTree()\n",
    "bt.insert(10)\n",
    "bt.insert(5)\n",
    "bt.insert(15)\n",
    "bt.insert(3)\n",
    "bt.insert(7)\n",
    "bt.insert(12)\n",
    "bt.insert(18)\n",
    "bt.insert(4)\n",
    "bt.insert(6)\n",
    "bt.insert(9)\n",
    "bt.insert(12)\n",
    "bt.insert(0)"
   ]
  },
  {
   "cell_type": "code",
   "execution_count": 987,
   "id": "b66dfa1d-37ff-4075-b235-13efce4e697b",
   "metadata": {},
   "outputs": [
    {
     "name": "stdout",
     "output_type": "stream",
     "text": [
      "|  |  18\n",
      "|  15\n",
      "|  |  |  12\n",
      "|  |  12\n",
      "10\n",
      "|  |  |  9\n",
      "|  |  7\n",
      "|  |  |  6\n",
      "|  5\n",
      "|  |  |  4\n",
      "|  |  3\n",
      "|  |  |  0\n",
      "\n"
     ]
    }
   ],
   "source": [
    "print(bt)"
   ]
  },
  {
   "cell_type": "code",
   "execution_count": 988,
   "id": "87a9fdb7-6385-4878-b51a-109a2d9e2e43",
   "metadata": {},
   "outputs": [
    {
     "name": "stdout",
     "output_type": "stream",
     "text": [
      "Дерево после удаления узла со значением 10:\n",
      "|  |  18\n",
      "|  15\n",
      "|  |  |  12\n",
      "|  |  12\n",
      "10\n",
      "|  |  |  9\n",
      "|  |  7\n",
      "|  6\n",
      "|  |  |  4\n",
      "|  |  3\n",
      "|  |  |  0\n",
      "\n"
     ]
    }
   ],
   "source": [
    "bt.delete(5)\n",
    "print(\"Дерево после удаления узла со значением 10:\")\n",
    "print(bt)"
   ]
  },
  {
   "cell_type": "markdown",
   "id": "50a4d3c9-fa12-4a5b-b45e-7817b10bba04",
   "metadata": {},
   "source": [
    "№22 Найти наибольший элемент, меньший заданного значения, в бинарном дереве поиска."
   ]
  },
  {
   "cell_type": "code",
   "execution_count": 990,
   "id": "f323cf86-2a80-4317-9ba1-aa1e3b6b58b5",
   "metadata": {},
   "outputs": [],
   "source": [
    "def find_max_smaller_than(self, item):\n",
    "        current = self.root\n",
    "        result = None\n",
    "        \n",
    "        while current is not None:\n",
    "            if current.data < item:\n",
    "                result = current.data\n",
    "                current = current.right\n",
    "            else:\n",
    "                current = current.left\n",
    "        \n",
    "        return result"
   ]
  },
  {
   "cell_type": "code",
   "execution_count": 991,
   "id": "13ee2f30-20cc-4474-b8b9-d0fe8f086a3d",
   "metadata": {},
   "outputs": [
    {
     "data": {
      "text/plain": [
       "12"
      ]
     },
     "execution_count": 991,
     "metadata": {},
     "output_type": "execute_result"
    }
   ],
   "source": [
    "find_max_smaller_than(bt, 13)"
   ]
  },
  {
   "cell_type": "markdown",
   "id": "ebf40e54-fa71-4410-98f1-a16d7adf7457",
   "metadata": {},
   "source": [
    "№23 Найти высоту бинарного дерева поиска."
   ]
  },
  {
   "cell_type": "code",
   "execution_count": 992,
   "id": "6d2c5ad9-dc3b-41bf-a2f0-d2d7325e3265",
   "metadata": {},
   "outputs": [],
   "source": [
    "def height(self):\n",
    "        def _height(node):\n",
    "            if node is None:\n",
    "                return -1\n",
    "            \n",
    "            left_height = _height(node.left)\n",
    "            right_height = _height(node.right)\n",
    "            return 1 + max(left_height, right_height)\n",
    "        \n",
    "        return _height(self.root)"
   ]
  },
  {
   "cell_type": "code",
   "execution_count": 993,
   "id": "cf8a9f7f-05b5-437e-8db2-2e6eb300743f",
   "metadata": {},
   "outputs": [
    {
     "data": {
      "text/plain": [
       "3"
      ]
     },
     "execution_count": 993,
     "metadata": {},
     "output_type": "execute_result"
    }
   ],
   "source": [
    "height(bt)"
   ]
  },
  {
   "cell_type": "markdown",
   "id": "b248bb29-fda5-47cb-bd4a-1d5921125fbb",
   "metadata": {},
   "source": [
    "№24 Найти наибольший элемент, меньший заданного значения, в бинарном дереве поиска."
   ]
  },
  {
   "cell_type": "code",
   "execution_count": 994,
   "id": "b6fd1ebe-6a16-4f2b-90d1-4497a81ed075",
   "metadata": {},
   "outputs": [],
   "source": [
    "def find_max_smaller_than(self, item):\n",
    "        current = self.root\n",
    "        result = None\n",
    "        \n",
    "        while current is not None:\n",
    "            if current.data < item:\n",
    "                result = current.data\n",
    "                current = current.right\n",
    "            else:\n",
    "                current = current.left\n",
    "        \n",
    "        return result"
   ]
  },
  {
   "cell_type": "code",
   "execution_count": 995,
   "id": "2bb3308d-4087-4408-a57c-e883981eb50d",
   "metadata": {},
   "outputs": [
    {
     "data": {
      "text/plain": [
       "12"
      ]
     },
     "execution_count": 995,
     "metadata": {},
     "output_type": "execute_result"
    }
   ],
   "source": [
    "find_max_smaller_than(bt, 13)"
   ]
  },
  {
   "cell_type": "markdown",
   "id": "ac914e64-925e-4b41-90c3-5531c794193e",
   "metadata": {
    "jp-MarkdownHeadingCollapsed": true
   },
   "source": [
    "# Хеш-таблицы"
   ]
  },
  {
   "cell_type": "code",
   "execution_count": 1011,
   "id": "d8eff197-c326-45ea-81d2-9ff3d5ecd324",
   "metadata": {},
   "outputs": [],
   "source": [
    "class HashTable:\n",
    "    def __init__(self, size):\n",
    "        self.size = size\n",
    "        self.table = [None] * size\n",
    "    \n",
    "    def hash_func(self, key):\n",
    "        return hash(key) % self.size\n",
    "    \n",
    "    def insert(self, key, value):\n",
    "        index = self.hash_func(key)\n",
    "        \n",
    "        while self.table[index] is not None:\n",
    "            if self.table[index][0] == key:\n",
    "                break\n",
    "            \n",
    "            index = (index + 1) % self.size\n",
    "        \n",
    "        self.table[index] = (key, value)\n",
    "    \n",
    "    def find(self, key):\n",
    "        index = self.hash_func(key)\n",
    "        \n",
    "        while self.table[index]:\n",
    "            if self.table[index][0] == key:\n",
    "                return self.table[index][1]\n",
    "            \n",
    "            index = (index + 1) % self.size\n",
    "        \n",
    "        return None\n",
    "    \n",
    "    def remove(self, key):\n",
    "        index = self.hash_func(key)\n",
    "        start_index = index\n",
    "        \n",
    "        while self.table[index]:\n",
    "            if self.table[index][0] == key:\n",
    "                self.table[index] = None\n",
    "                break\n",
    "            \n",
    "            index = (index + 1) % self.size\n",
    "            \n",
    "            if index == start_index:\n",
    "                return None\n",
    "        \n",
    "        return None"
   ]
  },
  {
   "cell_type": "markdown",
   "id": "058bd023-093f-44e2-b597-dbb2d7f8059d",
   "metadata": {},
   "source": [
    "№25 Реализовать класс хеш-таблицы для хранения объектов класса «Книга». Хеш-функция должна основываться на поле «автор книги». Если две книги имеют одного и того же автора, они должны храниться в одной ячейке таблицы."
   ]
  },
  {
   "cell_type": "code",
   "execution_count": 1001,
   "id": "a37c3cd4-9eca-4a14-b802-4736f78388be",
   "metadata": {},
   "outputs": [],
   "source": [
    "class Book:\n",
    "    def __init__(self, title, author, year):\n",
    "        self.title = title\n",
    "        self.author = author\n",
    "        self.year = year\n",
    "\n",
    "    def __str__(self):\n",
    "        return f\"Title: {self.title}\\nAuthor: {self.author}\\nYear: {self.year}\\n\""
   ]
  },
  {
   "cell_type": "code",
   "execution_count": 1044,
   "id": "c59c800f-cd8c-4b30-ab2d-a2e9c021aaf0",
   "metadata": {},
   "outputs": [],
   "source": [
    "class HashTable:\n",
    "    def __init__(self, size):\n",
    "        self.size = size\n",
    "        self.table = [None] * size\n",
    "    \n",
    "    def hash_func(self, key):\n",
    "        return hash(key) % self.size\n",
    "    \n",
    "    def insert(self, book):\n",
    "        index = self.hash_func(book.author)\n",
    "        \n",
    "        while self.table[index]:\n",
    "            if self.table[index][0] == book.author:\n",
    "                self.table[index][1].append(book)\n",
    "                return\n",
    "            index = (index + 1) % self.size\n",
    "        \n",
    "        self.table[index] = (book.author, [book])\n",
    "    \n",
    "    def find(self, author):\n",
    "        index = self.hash_func(key)\n",
    "        \n",
    "        while self.table[index]:\n",
    "            if self.table[index][0] == author:\n",
    "                return self.table[index][1]\n",
    "            \n",
    "            index = (index + 1) % self.size\n",
    "        \n",
    "        return None\n",
    "    \n",
    "    def remove(self, author):\n",
    "        index = self.hash_func(author)\n",
    "        start_index = index\n",
    "        \n",
    "        while self.table[index]:\n",
    "            if self.table[index][0] == author:\n",
    "                self.table[index] = None\n",
    "                return\n",
    "            \n",
    "            index = (index + 1) % self.size\n",
    "            \n",
    "            if index == start_index:\n",
    "                return None\n",
    "        \n",
    "        return None"
   ]
  },
  {
   "cell_type": "code",
   "execution_count": 1045,
   "id": "bfd68a5d-7b7b-4cb6-a661-5f2ce66779c3",
   "metadata": {},
   "outputs": [
    {
     "name": "stdout",
     "output_type": "stream",
     "text": [
      "[None, None, ('J.K. Rowling', [<__main__.Book object at 0x000001CAF10D5A20>, <__main__.Book object at 0x000001CAF3BA4970>]), None, None, None, ('F. Scott Fitzgerald', [<__main__.Book object at 0x000001CAF3BA67D0>]), ('Harper Lee', [<__main__.Book object at 0x000001CAF10D6020>]), None, None]\n"
     ]
    }
   ],
   "source": [
    "# Создаем экземпляр хеш-таблицы\n",
    "hash_table = HashTable(10)\n",
    "\n",
    "# Создаем несколько книг\n",
    "book1 = Book(\"Harry Potter and the Philosopher's Stone\", \"J.K. Rowling\", 1997)\n",
    "book2 = Book(\"To Kill a Mockingbird\", \"Harper Lee\", 1960)\n",
    "book3 = Book(\"The Great Gatsby\", \"F. Scott Fitzgerald\", 1925)\n",
    "book4 = Book(\"Harry Potter and the Philosopher's Stone\", \"J.K. Rowling\", 1997)\n",
    "\n",
    "# Добавляем книги в хеш-таблицу\n",
    "hash_table.insert(book1)\n",
    "hash_table.insert(book2)\n",
    "hash_table.insert(book3)\n",
    "hash_table.insert(book4)\n",
    "\n",
    "print(hash_table.table)"
   ]
  },
  {
   "cell_type": "code",
   "execution_count": 1046,
   "id": "c58976b8-e57e-446f-afd1-765a901e72a3",
   "metadata": {},
   "outputs": [
    {
     "name": "stdout",
     "output_type": "stream",
     "text": [
      "None\n"
     ]
    }
   ],
   "source": [
    "print(hash_table.remove(\"J.K. Rowling\"))"
   ]
  },
  {
   "cell_type": "code",
   "execution_count": 1047,
   "id": "1c2f2d74-9e9e-45c6-8065-f1dd03dc9c60",
   "metadata": {},
   "outputs": [
    {
     "name": "stdout",
     "output_type": "stream",
     "text": [
      "[None, None, None, None, None, None, ('F. Scott Fitzgerald', [<__main__.Book object at 0x000001CAF3BA67D0>]), ('Harper Lee', [<__main__.Book object at 0x000001CAF10D6020>]), None, None]\n"
     ]
    }
   ],
   "source": [
    "print(hash_table.table)"
   ]
  },
  {
   "cell_type": "code",
   "execution_count": 1048,
   "id": "1836a4b4-7e02-4f5b-ae2b-cfe2e597cfad",
   "metadata": {},
   "outputs": [
    {
     "name": "stdout",
     "output_type": "stream",
     "text": [
      "None\n"
     ]
    }
   ],
   "source": [
    "print(hash_table.remove(\"J.K. Rowling\"))"
   ]
  },
  {
   "cell_type": "markdown",
   "id": "49fa258c-ad2c-40f7-ba33-65137ae58b68",
   "metadata": {},
   "source": [
    "№26 Создать класс хеш-таблицы для хранения объектов класса «Сотрудник». Хеш-функция должна основываться на поле «должность» сотрудника. Если два сотрудника имеют одну и ту же должность, они должны храниться в одной ячейке таблицы."
   ]
  },
  {
   "cell_type": "code",
   "execution_count": 1049,
   "id": "d49ef625-17aa-4510-bbf4-0681a9a35445",
   "metadata": {},
   "outputs": [],
   "source": [
    "class Employee:\n",
    "    def __init__(self, last_name, name, age, post):\n",
    "        self.name = name\n",
    "        self.last_name = last_name\n",
    "        self.age = age\n",
    "        self.post = post\n",
    "    \n",
    "    def __str__(self):\n",
    "        return f\"Last name: {self.last_name}\\nName: {self.name}\\nAge: {self.age}\\nPost: {self.post}\\n\""
   ]
  },
  {
   "cell_type": "code",
   "execution_count": 1050,
   "id": "ed97582a-5664-40aa-aad5-f31d433e1f97",
   "metadata": {},
   "outputs": [],
   "source": [
    "class HashTable:\n",
    "    def __init__(self, size):\n",
    "        self.size = size\n",
    "        self.table = [None] * size\n",
    "    \n",
    "    def hash_func(self, key):\n",
    "        return hash(key) % self.size\n",
    "    \n",
    "    def insert(self, employee):\n",
    "        index = self.hash_func(employee.post)\n",
    "        \n",
    "        while self.table[index] is not None:\n",
    "            if self.table[index][0] == employee.post:\n",
    "                self.table[index][1].append(employee)\n",
    "                return\n",
    "            \n",
    "            index = (index + 1) % self.size\n",
    "        \n",
    "        self.table[index] = (employee.post, [employee])\n",
    "    \n",
    "    def find(self, post):\n",
    "        index = self.hash_func(post)\n",
    "        \n",
    "        while self.table[index]:\n",
    "            if self.table[index][0] == post:\n",
    "                return self.table[index][1]\n",
    "            \n",
    "            index = (index + 1) % self.size\n",
    "        \n",
    "        return None\n",
    "    \n",
    "    def remove(self, post):\n",
    "        index = self.hash_func(post)\n",
    "        start_index = index\n",
    "        \n",
    "        while self.table[index]:\n",
    "            if self.table[index][0] == post:\n",
    "                self.table[index] = None\n",
    "                return\n",
    "            \n",
    "            index = (index + 1) % self.size\n",
    "            \n",
    "            if index == start_index:\n",
    "                return None\n",
    "        \n",
    "        return None"
   ]
  },
  {
   "cell_type": "code",
   "execution_count": 1053,
   "id": "a6b37f05-6148-4b6b-9d0b-08496e176081",
   "metadata": {},
   "outputs": [
    {
     "name": "stdout",
     "output_type": "stream",
     "text": [
      "[('Engineer', [<__main__.Employee object at 0x000001CAF3B90220>, <__main__.Employee object at 0x000001CAF3B93070>]), None, None, None, None, ('Manager', [<__main__.Employee object at 0x000001CAF3B91A80>]), None, None, None, None]\n",
      "Find employees with position 'Engineer': [<__main__.Employee object at 0x000001CAF3B90220>, <__main__.Employee object at 0x000001CAF3B93070>]\n",
      "Find employees with position 'Manager': [<__main__.Employee object at 0x000001CAF3B91A80>]\n",
      "Find employees with position 'HR': None\n",
      "After removing employees with position 'Engineer': [None, None, None, None, None, ('Manager', [<__main__.Employee object at 0x000001CAF3B91A80>]), None, None, None, None]\n"
     ]
    }
   ],
   "source": [
    "# Пример использования\n",
    "employee1 = Employee(\"Klimovich\", \"Alice\", 19, \"Engineer\")\n",
    "employee2 = Employee(\"Klimovich\", \"Bob\", 21, \"Engineer\")\n",
    "employee3 = Employee(\"Klimovich\", 22, \"Charlie\", \"Manager\")\n",
    "\n",
    "hash_table = HashTable(10)\n",
    "hash_table.insert(employee1)\n",
    "hash_table.insert(employee2)\n",
    "hash_table.insert(employee3)\n",
    "\n",
    "print(hash_table.table)\n",
    "print(\"Find employees with position 'Engineer':\", hash_table.find(\"Engineer\"))\n",
    "print(\"Find employees with position 'Manager':\", hash_table.find(\"Manager\"))\n",
    "print(\"Find employees with position 'HR':\", hash_table.find(\"HR\"))\n",
    "\n",
    "hash_table.remove(\"Engineer\")\n",
    "print(\"After removing employees with position 'Engineer':\", hash_table.table)"
   ]
  },
  {
   "cell_type": "markdown",
   "id": "90862cd1-e547-46d3-a329-f35ecaf3ab10",
   "metadata": {},
   "source": [
    "№27 Реализовать класс хеш-таблицы для хранения объектов класса «Товар». Хеш-функция должна основываться на поле «название товара». Если два товара имеют одинаковое название, они должны храниться в одной ячейке таблицы."
   ]
  },
  {
   "cell_type": "code",
   "execution_count": 1056,
   "id": "96cd43e4-b657-45d7-bfa1-a77a2db6bb12",
   "metadata": {},
   "outputs": [],
   "source": [
    "class Good:\n",
    "    def __init__(self, type, price, date_year, brand):\n",
    "        self.type = type\n",
    "        self.price = price\n",
    "        self.date_year = date_year\n",
    "        self.brand = brand\n",
    "    \n",
    "    def __str__(self):\n",
    "        return f\"Type: {self.type}\\nBrabd: {self.brand}\\nPrice: {self.price}\\nYear of production: {self.date_year}\""
   ]
  },
  {
   "cell_type": "code",
   "execution_count": 1058,
   "id": "c93ca6ea-0e63-469d-8ccd-fb25d364ac24",
   "metadata": {},
   "outputs": [],
   "source": [
    "class HashTable:\n",
    "    def __init__(self, size):\n",
    "        self.size = size\n",
    "        self.table = [None] * size\n",
    "    \n",
    "    def hash_func(self, key):\n",
    "        return hash(key) % self.size\n",
    "    \n",
    "    def insert(self, good):\n",
    "        index = self.hash_func(good.type)\n",
    "        \n",
    "        while self.table[index] is not None:\n",
    "            if self.table[index][0] == good.type:\n",
    "                self.table[index][1].append(good)\n",
    "                return\n",
    "            \n",
    "            index = (index + 1) % self.size\n",
    "        \n",
    "        self.table[index] = (good.type, [good])\n",
    "    \n",
    "    def find(self, type):\n",
    "        index = self.hash_func(type)\n",
    "        \n",
    "        while self.table[index]:\n",
    "            if self.table[index][0] == type:\n",
    "                return self.table[index][1]\n",
    "            \n",
    "            index = (index + 1) % self.size\n",
    "        \n",
    "        return None\n",
    "    \n",
    "    def remove(self, type):\n",
    "        index = self.hash_func(type)\n",
    "        start_index = index\n",
    "        \n",
    "        while self.table[index]:\n",
    "            if self.table[index][0] == type:\n",
    "                self.table[index] = None\n",
    "                return\n",
    "            \n",
    "            index = (index + 1) % self.size\n",
    "            \n",
    "            if index == start_index:\n",
    "                return None\n",
    "        \n",
    "        return None"
   ]
  },
  {
   "cell_type": "code",
   "execution_count": 1059,
   "id": "66c36905-07c2-4832-a390-7105b0e888db",
   "metadata": {},
   "outputs": [
    {
     "name": "stdout",
     "output_type": "stream",
     "text": [
      "[None, ('Газонокосилка', [<__main__.Good object at 0x000001CA8007A230>, <__main__.Good object at 0x000001CA8007A350>]), ('Молоток', [<__main__.Good object at 0x000001CA8007BAF0>]), None, None, None, None, None, None, None]\n",
      "Find: [<__main__.Good object at 0x000001CA8007A230>, <__main__.Good object at 0x000001CA8007A350>]\n",
      "Find: [<__main__.Good object at 0x000001CA8007BAF0>]\n",
      "Find: None\n",
      "After removing: [None, None, ('Молоток', [<__main__.Good object at 0x000001CA8007BAF0>]), None, None, None, None, None, None, None]\n"
     ]
    }
   ],
   "source": [
    "# Пример использования\n",
    "good1 = Good(\"Газонокосилка\", 25_000, 2018, \"Smth1\")\n",
    "good2 = Good(\"Молоток\", 560, 2022, \"Smth3\")\n",
    "good3 = Good(\"Газонокосилка\", 28_000, 2024, \"Smth2\")\n",
    "\n",
    "hash_table = HashTable(10)\n",
    "hash_table.insert(good1)\n",
    "hash_table.insert(good2)\n",
    "hash_table.insert(good3)\n",
    "\n",
    "print(hash_table.table)\n",
    "print(\"Find:\", hash_table.find(\"Газонокосилка\"))\n",
    "print(\"Find:\", hash_table.find(\"Молоток\"))\n",
    "print(\"Find:\", hash_table.find(\"Что-нибудь\"))\n",
    "\n",
    "hash_table.remove(\"Газонокосилка\")\n",
    "print(\"After removing:\", hash_table.table)"
   ]
  },
  {
   "cell_type": "markdown",
   "id": "5ddbca27-7204-4ee4-9ac4-4aa77b17d010",
   "metadata": {
    "jp-MarkdownHeadingCollapsed": true
   },
   "source": [
    "# Сортировки"
   ]
  },
  {
   "cell_type": "code",
   "execution_count": 1061,
   "id": "d16abd54-fb93-4956-8eb9-12074a5023a2",
   "metadata": {},
   "outputs": [],
   "source": [
    "# реализация алгоритма сортировки вставками\n",
    "def insertion_sort(arr):\n",
    "    for i in range(1, len(arr)):\n",
    "        key = arr[i]\n",
    "        j = i - 1\n",
    "        \n",
    "        while j >= 0 and arr[j] > key:\n",
    "            arr[j + 1] = arr[j]\n",
    "            j -= 1\n",
    "        \n",
    "        arr[j + 1] = key\n",
    "    \n",
    "    return arr"
   ]
  },
  {
   "cell_type": "markdown",
   "id": "29ca90ed-2e06-4b37-884b-8cc98424dbc1",
   "metadata": {},
   "source": [
    "№15 Написать функцию, которая принимает на вход список слов и сортирует его по алфавиту с помощью алгоритма сортировки вставками. Функция должна возвращать отсортированный список."
   ]
  },
  {
   "cell_type": "code",
   "execution_count": 1062,
   "id": "f9fd49a0-dcb0-484e-ae00-45051dcf7b90",
   "metadata": {},
   "outputs": [],
   "source": [
    "def insertion_sort(arr):\n",
    "    for i in range(1, len(arr)):\n",
    "        key = arr[i]\n",
    "        j = i - 1\n",
    "        \n",
    "        while j >= 0 and arr[j] > key:\n",
    "            arr[j + 1] = arr[j]\n",
    "            j -= 1\n",
    "        \n",
    "        arr[j + 1] = key\n",
    "    \n",
    "    return arr"
   ]
  },
  {
   "cell_type": "code",
   "execution_count": 1063,
   "id": "cbff81f7-25d8-42e0-9208-0a70416d59a9",
   "metadata": {},
   "outputs": [
    {
     "name": "stdout",
     "output_type": "stream",
     "text": [
      "['apple', 'banana', 'cherry', 'grape', 'orange']\n"
     ]
    }
   ],
   "source": [
    "# Пример использования\n",
    "words = [\"apple\", \"orange\", \"banana\", \"grape\", \"cherry\"]\n",
    "sorted_words = insertion_sort(words)\n",
    "print(sorted_words)  # ['apple', 'banana', 'cherry', 'grape', 'orange']"
   ]
  },
  {
   "cell_type": "markdown",
   "id": "c53b1655-7ba8-4221-a22b-8f30febe4d74",
   "metadata": {},
   "source": [
    "№16 Написать метод класса «Товар», который сортирует список товаров по цене с помощью алгоритма быстрой сортировки. Метод должен изменять исходный список."
   ]
  },
  {
   "cell_type": "code",
   "execution_count": 1064,
   "id": "3c64d344-999c-4260-8230-155e74879597",
   "metadata": {},
   "outputs": [],
   "source": [
    "# реализация алгоритма быстрой сортировки\n",
    "def quick_sort(arr):\n",
    "    if len(arr) <= 1:\n",
    "        return arr\n",
    "    else:\n",
    "        pivot = arr[0]\n",
    "        left = []\n",
    "        right = []\n",
    "        \n",
    "        for i in range(1, len(arr)):\n",
    "            if arr[i] < pivot:\n",
    "                left.append(arr[i])\n",
    "            else:\n",
    "                right.append(arr[i])\n",
    "        \n",
    "        return quick_sort(left) + [pivot] + quick_sort(right)"
   ]
  },
  {
   "cell_type": "code",
   "execution_count": 1074,
   "id": "e3006b12-6046-470e-bed1-c8f01fdf3f5f",
   "metadata": {},
   "outputs": [],
   "source": [
    "class Product:\n",
    "    def __init__(self, name, price):\n",
    "        self.name = name\n",
    "        self.price = price\n",
    "    \n",
    "    def __repr__(self):\n",
    "        return f\"Product(name='{self.name}', price={self.price})\"\n",
    "    \n",
    "    @classmethod\n",
    "    def quick_sort(cls, products):\n",
    "        def _quick_sort_helper(arr, low, high):\n",
    "            if low < high:\n",
    "                pivot_index = partition(arr, low, high)\n",
    "                _quick_sort_helper(arr, low, pivot_index - 1)\n",
    "                _quick_sort_helper(arr, pivot_index + 1, high)\n",
    "        \n",
    "        def partition(arr, low, high):\n",
    "            pivot = arr[high].price\n",
    "            i = low - 1\n",
    "            \n",
    "            for j in range(low, high):\n",
    "                if arr[j].price < pivot:\n",
    "                    i += 1\n",
    "                    arr[i], arr[j] = arr[j], arr[i]\n",
    "            \n",
    "            arr[i + 1], arr[high] = arr[high], arr[i + 1]\n",
    "            return i + 1\n",
    "        \n",
    "        _quick_sort_helper(products, 0, len(products) - 1)"
   ]
  },
  {
   "cell_type": "code",
   "execution_count": 1075,
   "id": "3747bc47-50d5-4fec-9d7f-d27f4fe2117c",
   "metadata": {},
   "outputs": [
    {
     "name": "stdout",
     "output_type": "stream",
     "text": [
      "Before sorting:\n",
      "[Product(name='Product1', price=100), Product(name='Product2', price=50), Product(name='Product3', price=150), Product(name='Product4', price=75), Product(name='Product5', price=200)]\n",
      "After sorting:\n",
      "[Product(name='Product2', price=50), Product(name='Product4', price=75), Product(name='Product1', price=100), Product(name='Product3', price=150), Product(name='Product5', price=200)]\n"
     ]
    }
   ],
   "source": [
    "# Пример использования\n",
    "product1 = Product(\"Product1\", 100)\n",
    "product2 = Product(\"Product2\", 50)\n",
    "product3 = Product(\"Product3\", 150)\n",
    "product4 = Product(\"Product4\", 75)\n",
    "product5 = Product(\"Product5\", 200)\n",
    "\n",
    "products = [product1, product2, product3, product4, product5]\n",
    "\n",
    "print(\"Before sorting:\")\n",
    "print(products)\n",
    "\n",
    "Product.quick_sort(products)\n",
    "\n",
    "print(\"After sorting:\")\n",
    "print(products)"
   ]
  },
  {
   "cell_type": "markdown",
   "id": "d9f50b97-c348-4d18-8db4-8e48e391f861",
   "metadata": {},
   "source": [
    "№17 Написать функцию, которая принимает на вход список дат и сортирует его по возрастанию с помощью алгоритма сортировки пузырьком. Функция должна возвращать отсортированный список.\r\n"
   ]
  },
  {
   "cell_type": "code",
   "execution_count": 1076,
   "id": "b32b37e9-a2f3-455f-9c91-1b47ed12df01",
   "metadata": {},
   "outputs": [],
   "source": [
    "# реализация алгоритма сортировки пузырьком\n",
    "def bubble_sort(arr):\n",
    "    n = len(arr)\n",
    "    \n",
    "    for i in range(n):\n",
    "        for j in range(n - i - 1):\n",
    "            if arr[j] > arr[j + 1]:\n",
    "                arr[j], arr[j + 1] = arr[j+1], arr[j]\n",
    "    return arr"
   ]
  },
  {
   "cell_type": "code",
   "execution_count": 1077,
   "id": "1c322d5f-1eeb-491b-a0aa-367ae7b64806",
   "metadata": {},
   "outputs": [],
   "source": [
    "def bubble_sort_dates(date_strings):\n",
    "    # Преобразование строк в объекты datetime\n",
    "    from datetime import datetime\n",
    "    \n",
    "    dates = [datetime.strptime(date, \"%Y-%m-%d\") for date in date_strings]\n",
    "    \n",
    "    n = len(dates)\n",
    "    \n",
    "    for i in range(n):\n",
    "        for j in range(n - i - 1):\n",
    "            if dates[j] > dates[j + 1]:\n",
    "                dates[j], dates[j + 1] = dates[j + 1], dates[j]\n",
    "    \n",
    "    # Преобразование обратно в строки\n",
    "    sorted_date_strings = [date.strftime(\"%Y-%m-%d\") for date in dates]\n",
    "    return sorted_date_strings"
   ]
  },
  {
   "cell_type": "code",
   "execution_count": 1078,
   "id": "89be5610-4ab6-4966-a6cc-d6d56d7de315",
   "metadata": {},
   "outputs": [
    {
     "name": "stdout",
     "output_type": "stream",
     "text": [
      "Before sorting:\n",
      "['2023-06-15', '2021-01-01', '2022-12-31', '2020-05-20']\n",
      "After sorting:\n",
      "['2020-05-20', '2021-01-01', '2022-12-31', '2023-06-15']\n"
     ]
    }
   ],
   "source": [
    "# Пример использования\n",
    "date_strings = [\"2023-06-15\", \"2021-01-01\", \"2022-12-31\", \"2020-05-20\"]\n",
    "\n",
    "print(\"Before sorting:\")\n",
    "print(date_strings)\n",
    "\n",
    "sorted_dates = bubble_sort_dates(date_strings)\n",
    "\n",
    "print(\"After sorting:\")\n",
    "print(sorted_dates)"
   ]
  },
  {
   "cell_type": "markdown",
   "id": "d29192b4-7388-4c9b-a5ec-865056f4ab42",
   "metadata": {},
   "source": [
    "№18 Написать функцию, которая принимает на вход список строк и сортирует его по длине строк с помощью алгоритма сортировки выбором. Функция должна возвращать отсортированный список."
   ]
  },
  {
   "cell_type": "code",
   "execution_count": 1080,
   "id": "99957700-e3a3-4394-801b-23226c1a0013",
   "metadata": {},
   "outputs": [],
   "source": [
    "# реализация алгоритма сортировки выбором\n",
    "def selection_sort(arr):\n",
    "    n = len(arr)\n",
    "    \n",
    "    for i in range(n):\n",
    "        min_idx = i\n",
    "        \n",
    "        for j in range(i + 1, n):\n",
    "            if arr[j] < arr[min_idx]:\n",
    "                min_idx = j\n",
    "        \n",
    "        arr[i], arr[min_idx] = arr[min_idx], arr[i]\n",
    "    return arr"
   ]
  },
  {
   "cell_type": "code",
   "execution_count": 1081,
   "id": "d8205642-4196-445c-b6e1-9fd24b84eaba",
   "metadata": {},
   "outputs": [],
   "source": [
    "def selection_sort_by_length(arr):\n",
    "    n = len(arr)\n",
    "    \n",
    "    for i in range(n):\n",
    "        min_idx = i\n",
    "        \n",
    "        for j in range(i + 1, n):\n",
    "            if len(arr[j]) < len(arr[min_idx]):\n",
    "                min_idx = j\n",
    "        \n",
    "        arr[i], arr[min_idx] = arr[min_idx], arr[i]\n",
    "    return arr"
   ]
  },
  {
   "cell_type": "code",
   "execution_count": 1083,
   "id": "40dbb5db-f68d-4e82-a487-7011ceaf25e2",
   "metadata": {},
   "outputs": [
    {
     "name": "stdout",
     "output_type": "stream",
     "text": [
      "Before sorting:\n",
      "['apple', 'orange', 'banana', 'kiwi', 'grape']\n",
      "After sorting:\n",
      "['kiwi', 'apple', 'grape', 'orange', 'banana']\n"
     ]
    }
   ],
   "source": [
    "# Пример использования\n",
    "strings = [\"apple\", \"orange\", \"banana\", \"kiwi\", \"grape\"]\n",
    "\n",
    "print(\"Before sorting:\")\n",
    "print(strings)\n",
    "\n",
    "sorted_strings = selection_sort_by_length(strings)\n",
    "\n",
    "print(\"After sorting:\")\n",
    "print(sorted_strings)"
   ]
  },
  {
   "cell_type": "markdown",
   "id": "860f0cb9-218c-4c64-9d3d-bc41e012c2a9",
   "metadata": {},
   "source": [
    "№19 Написать метод класса «Клиент», который сортирует список клиентов по возрасту с помощью алгоритма сортировки пузырьком. Метод должен изменять исходный список."
   ]
  },
  {
   "cell_type": "code",
   "execution_count": 1084,
   "id": "38e35cd2-7554-4f46-8c6b-e15dbf878f6f",
   "metadata": {},
   "outputs": [],
   "source": [
    "# реализация алгоритма сортировки пузырьком\n",
    "def bubble_sort(arr):\n",
    "    n = len(arr)\n",
    "    \n",
    "    for i in range(n):\n",
    "        for j in range(n - i - 1):\n",
    "            if arr[j] > arr[j + 1]:\n",
    "                arr[j], arr[j + 1] = arr[j+1], arr[j]\n",
    "    return arr"
   ]
  },
  {
   "cell_type": "code",
   "execution_count": 1085,
   "id": "4a809f1d-f01b-47e7-a593-7fbbbcc0556c",
   "metadata": {},
   "outputs": [],
   "source": [
    "class Client:\n",
    "    def __init__(self, name, age):\n",
    "        self.name = name\n",
    "        self.age = age\n",
    "\n",
    "    def __repr__(self):\n",
    "        return f\"Client(name='{self.name}', age={self.age})\"\n",
    "    \n",
    "    @classmethod\n",
    "    def bubble_sort_by_age(cls, clients):\n",
    "        n = len(clients)\n",
    "        \n",
    "        for i in range(n):\n",
    "            for j in range(n - i - 1):\n",
    "                if clients[j].age > clients[j + 1].age:\n",
    "                    clients[j], clients[j + 1] = clients[j + 1], clients[j]"
   ]
  },
  {
   "cell_type": "code",
   "execution_count": 1086,
   "id": "828186c4-0142-464a-a5e6-4261a778d163",
   "metadata": {},
   "outputs": [
    {
     "name": "stdout",
     "output_type": "stream",
     "text": [
      "Before sorting:\n",
      "[Client(name='Alice', age=30), Client(name='Bob', age=25), Client(name='Charlie', age=35), Client(name='Dave', age=20)]\n",
      "After sorting:\n",
      "[Client(name='Dave', age=20), Client(name='Bob', age=25), Client(name='Alice', age=30), Client(name='Charlie', age=35)]\n"
     ]
    }
   ],
   "source": [
    "# Пример использования\n",
    "client1 = Client(\"Alice\", 30)\n",
    "client2 = Client(\"Bob\", 25)\n",
    "client3 = Client(\"Charlie\", 35)\n",
    "client4 = Client(\"Dave\", 20)\n",
    "\n",
    "clients = [client1, client2, client3, client4]\n",
    "\n",
    "print(\"Before sorting:\")\n",
    "print(clients)\n",
    "\n",
    "Client.bubble_sort_by_age(clients)\n",
    "\n",
    "print(\"After sorting:\")\n",
    "print(clients)"
   ]
  },
  {
   "cell_type": "markdown",
   "id": "514b46e8-ef58-49bb-b250-639b2f87d6e6",
   "metadata": {},
   "source": [
    "№20 Написать функцию, которая принимает на вход список чисел и сортирует его по убыванию с помощью алгоритма сортировки вставками. Функция должна возвращать отсортированный список."
   ]
  },
  {
   "cell_type": "code",
   "execution_count": 1087,
   "id": "b26d9e71-83db-4b88-837d-5f214a52975c",
   "metadata": {},
   "outputs": [],
   "source": [
    "# реализация алгоритма сортировки вставками\n",
    "def insertion_sort(arr):\n",
    "    for i in range(1, len(arr)):\n",
    "        key = arr[i]\n",
    "        j = i - 1\n",
    "        \n",
    "        while j >= 0 and arr[j] > key:\n",
    "            arr[j + 1] = arr[j]\n",
    "            j -= 1\n",
    "        \n",
    "        arr[j + 1] = key\n",
    "    \n",
    "    return arr"
   ]
  },
  {
   "cell_type": "code",
   "execution_count": 1088,
   "id": "37995402-51d9-4a64-9968-daa5c657b303",
   "metadata": {},
   "outputs": [],
   "source": [
    "def insertion_sort_descending(arr):\n",
    "    for i in range(1, len(arr)):\n",
    "        key = arr[i]\n",
    "        j = i - 1\n",
    "        \n",
    "        # Изменяем условие на сравнение для сортировки по убыванию\n",
    "        while j >= 0 and arr[j] < key:\n",
    "            arr[j + 1] = arr[j]\n",
    "            j -= 1\n",
    "        \n",
    "        arr[j + 1] = key\n",
    "    \n",
    "    return arr"
   ]
  },
  {
   "cell_type": "code",
   "execution_count": 1091,
   "id": "bee2c183-6d12-4d2e-9abd-37797daea439",
   "metadata": {},
   "outputs": [
    {
     "name": "stdout",
     "output_type": "stream",
     "text": [
      "Before sorting:\n",
      "[5, 2, 9, 1, 5, 6]\n",
      "After sorting:\n",
      "[9, 6, 5, 5, 2, 1]\n"
     ]
    }
   ],
   "source": [
    "# Пример использования\n",
    "numbers = [5, 2, 9, 1, 5, 6]\n",
    "\n",
    "print(\"Before sorting:\")\n",
    "print(numbers)\n",
    "\n",
    "sorted_numbers = insertion_sort_descending(numbers)\n",
    "\n",
    "print(\"After sorting:\")\n",
    "print(sorted_numbers)"
   ]
  },
  {
   "cell_type": "markdown",
   "id": "eb10f8b9-c531-451a-864b-8bf4f493b64c",
   "metadata": {},
   "source": [
    "№21 Написать метод класса «Заказ», который сортирует список заказов по дате с помощью алгоритма быстрой сортировки. Метод должен изменять исходный список."
   ]
  },
  {
   "cell_type": "code",
   "execution_count": 1092,
   "id": "919236f5-eb7d-4cf9-9079-6fd74598b100",
   "metadata": {},
   "outputs": [],
   "source": [
    "# реализация алгоритма быстрой сортировки\n",
    "def quick_sort(arr):\n",
    "    if len(arr) <= 1:\n",
    "        return arr\n",
    "    else:\n",
    "        pivot = arr[0]\n",
    "        left = []\n",
    "        right = []\n",
    "        \n",
    "        for i in range(1, len(arr)):\n",
    "            if arr[i] < pivot:\n",
    "                left.append(arr[i])\n",
    "            else:\n",
    "                right.append(arr[i])\n",
    "        \n",
    "        return quick_sort(left) + [pivot] + quick_sort(right)"
   ]
  },
  {
   "cell_type": "code",
   "execution_count": 1094,
   "id": "82c7cf12-d756-4868-85c3-38d12feb3c41",
   "metadata": {},
   "outputs": [],
   "source": [
    "from datetime import datetime\n",
    "\n",
    "class Order:\n",
    "    def __init__(self, order_id, date):\n",
    "        self.order_id = order_id\n",
    "        self.date = date\n",
    "\n",
    "    def __repr__(self):\n",
    "        return f\"Order(order_id={self.order_id}, date={self.date})\"\n",
    "\n",
    "    @classmethod\n",
    "    def quick_sort_by_date(cls, orders):\n",
    "        def _quick_sort_helper(arr, low, high):\n",
    "            if low < high:\n",
    "                pivot_index = partition(arr, low, high)\n",
    "                _quick_sort_helper(arr, low, pivot_index - 1)\n",
    "                _quick_sort_helper(arr, pivot_index + 1, high)\n",
    "        \n",
    "        def partition(arr, low, high):\n",
    "            pivot = arr[high].date\n",
    "            i = low - 1\n",
    "            \n",
    "            for j in range(low, high):\n",
    "                if arr[j].date < pivot:\n",
    "                    i += 1\n",
    "                    arr[i], arr[j] = arr[j], arr[i]\n",
    "            \n",
    "            arr[i + 1], arr[high] = arr[high], arr[i + 1]\n",
    "            \n",
    "            return i + 1\n",
    "        \n",
    "        for order in orders:\n",
    "            order.date = datetime.strptime(order.date, \"%Y-%m-%d %H:%M:%S\")\n",
    "\n",
    "        _quick_sort_helper(orders, 0, len(orders) - 1)"
   ]
  },
  {
   "cell_type": "code",
   "execution_count": 1097,
   "id": "e42ff73a-bd22-4f6e-8de1-a32056937a76",
   "metadata": {},
   "outputs": [
    {
     "name": "stdout",
     "output_type": "stream",
     "text": [
      "Before sorting:\n",
      "[Order(order_id=1, date=2023-06-15 12:00:00), Order(order_id=2, date=2021-01-01 09:00:00), Order(order_id=3, date=2022-12-31 15:30:00), Order(order_id=4, date=2023-06-15 10:45:00), Order(order_id=5, date=2022-06-10 14:20:00)]\n",
      "After sorting:\n",
      "[Order(order_id=2, date=2021-01-01 09:00:00), Order(order_id=5, date=2022-06-10 14:20:00), Order(order_id=3, date=2022-12-31 15:30:00), Order(order_id=4, date=2023-06-15 10:45:00), Order(order_id=1, date=2023-06-15 12:00:00)]\n"
     ]
    }
   ],
   "source": [
    "# Пример использования\n",
    "order1 = Order(1, \"2023-06-15 12:00:00\")\n",
    "order2 = Order(2, \"2021-01-01 09:00:00\")\n",
    "order3 = Order(3, \"2022-12-31 15:30:00\")\n",
    "order4 = Order(4, \"2023-06-15 10:45:00\")\n",
    "order5 = Order(5, \"2022-06-10 14:20:00\")\n",
    "\n",
    "orders = [order1, order2, order3, order4, order5]\n",
    "\n",
    "print(\"Before sorting:\")\n",
    "print(orders)\n",
    "\n",
    "Order.quick_sort_by_date(orders)\n",
    "\n",
    "print(\"After sorting:\")\n",
    "print(orders)"
   ]
  },
  {
   "cell_type": "code",
   "execution_count": 1098,
   "id": "04d2ded6-a2dc-40f6-be6a-9397fbdc9704",
   "metadata": {},
   "outputs": [],
   "source": [
    "import time\n",
    "\n",
    "class Sorting:\n",
    "\n",
    "    # простая обменная сортировка\n",
    "    @staticmethod\n",
    "    def bubble_sort(arr, reverse=False):\n",
    "        n = len(arr)\n",
    "        for i in range(n):\n",
    "            for j in range(n - i - 1):\n",
    "                if not reverse:\n",
    "                    if arr[j] > arr[j + 1]:\n",
    "                        arr[j], arr[j + 1] = arr[j + 1], arr[j]\n",
    "                else:\n",
    "                    if arr[j] < arr[j + 1]:\n",
    "                        arr[j], arr[j + 1] = arr[j + 1], arr[j]\n",
    "        return arr\n",
    "\n",
    "    # шейкерная сортировка\n",
    "    @staticmethod\n",
    "    def cocktail_sort(arr, reverse=False):\n",
    "        n = len(arr)\n",
    "        start = 0\n",
    "        end = n - 1\n",
    "        swapped = True\n",
    "        while swapped:\n",
    "            swapped = False\n",
    "            for i in range(start, end):\n",
    "                if (not reverse and arr[i] > arr[i + 1]) or (reverse and arr[i] < arr[i + 1]):\n",
    "                    arr[i], arr[i + 1] = arr[i + 1], arr[i]\n",
    "                    swapped = True\n",
    "            if not swapped:\n",
    "                break\n",
    "            swapped = False\n",
    "            end = end - 1\n",
    "            for i in range(end - 1, start - 1, -1):\n",
    "                if (not reverse and arr[i] > arr[i + 1]) or (reverse and arr[i] < arr[i + 1]):\n",
    "                    arr[i], arr[i + 1] = arr[i + 1], arr[i]\n",
    "                    swapped = True\n",
    "            start = start + 1\n",
    "        return arr\n",
    "\n",
    "    # сортировка расчёской\n",
    "    @staticmethod\n",
    "    def comb_sort(arr, reverse=False):\n",
    "        n = len(arr)\n",
    "        gap = n\n",
    "        shrink = 1.3\n",
    "        swapped = True\n",
    "        while swapped:\n",
    "            gap = int(gap/shrink)\n",
    "            if gap < 1:\n",
    "                gap = 1\n",
    "            i = 0\n",
    "            swapped = False\n",
    "            while i+gap < n:\n",
    "                if (not reverse and arr[i] > arr[i+gap]) or (reverse and arr[i] < arr[i+gap]):\n",
    "                    arr[i], arr[i+gap] = arr[i+gap], arr[i]\n",
    "                    swapped = True\n",
    "                i += 1\n",
    "        return arr\n",
    "\n",
    "    # сортировка выбором\n",
    "    @staticmethod\n",
    "    def selection_sort(arr, reverse=False):\n",
    "        n = len(arr)\n",
    "        for i in range(n):\n",
    "            min_idx = i\n",
    "            for j in range(i + 1, n):\n",
    "                if reverse:\n",
    "                    if arr[j] > arr[min_idx]:\n",
    "                        min_idx = j\n",
    "                else:\n",
    "                    if arr[j] < arr[min_idx]:\n",
    "                        min_idx = j\n",
    "            arr[i], arr[min_idx] = arr[min_idx], arr[i]\n",
    "        return arr\n",
    "\n",
    "    # сортировка включением\n",
    "    @staticmethod\n",
    "    def insertion_sort(arr, reverse=False):\n",
    "        for i in range(1, len(arr)):\n",
    "            key = arr[i]\n",
    "            j = i - 1\n",
    "            while j >= 0 and ((not reverse and arr[j] > key) or (reverse and arr[j] < key)):\n",
    "                arr[j + 1] = arr[j]\n",
    "                j -= 1\n",
    "            arr[j + 1] = key\n",
    "        return arr\n",
    "\n",
    "    # быстрая сортировка\n",
    "    @staticmethod\n",
    "    def quick_sort(arr, reverse=False):\n",
    "        if len(arr) <= 1:\n",
    "            return arr\n",
    "        else:\n",
    "            pivot = arr[0]\n",
    "            left = []\n",
    "            right = []\n",
    "            for i in range(1, len(arr)):\n",
    "                if arr[i] < pivot:\n",
    "                    left.append(arr[i])\n",
    "                else:\n",
    "                    right.append(arr[i])\n",
    "            if reverse:\n",
    "                return Sorting.quick_sort(right, reverse=True) + [pivot] + Sorting.quick_sort(left, reverse=True)\n",
    "            else:\n",
    "                return Sorting.quick_sort(left) + [pivot] + Sorting.quick_sort(right)\n",
    "\n",
    "    # сортировка Шелла\n",
    "    @staticmethod\n",
    "    def shell_sort(arr, reverse=False):\n",
    "        gap = len(arr) // 2\n",
    "        while gap > 0:\n",
    "            for i in range(gap, len(arr)):\n",
    "                temp = arr[i]\n",
    "                j = i\n",
    "                while j >= gap and ((not reverse and arr[j - gap] > temp) or (reverse and arr[j - gap] < temp)):\n",
    "                    arr[j] = arr[j - gap]\n",
    "                    j -= gap\n",
    "                arr[j] = temp\n",
    "            gap //= 2\n",
    "        return arr\n",
    "\n",
    "    # сортировка слиянием\n",
    "    @staticmethod\n",
    "    def merge_sort(arr, reverse=False):\n",
    "        if len(arr) <= 1:\n",
    "            return arr\n",
    "\n",
    "        mid = len(arr) // 2\n",
    "        left_half = arr[:mid]\n",
    "        right_half = arr[mid:]\n",
    "\n",
    "        left_half = Sorting.merge_sort(left_half, reverse=reverse)\n",
    "        right_half = Sorting.merge_sort(right_half, reverse=reverse)\n",
    "\n",
    "        return Sorting.merge(left_half, right_half, reverse=reverse)\n",
    "\n",
    "    # вспомогательная функция для сортировки слиянием\n",
    "    @staticmethod\n",
    "    def merge(left_half, right_half, reverse=False):\n",
    "        result = []\n",
    "        i = 0\n",
    "        j = 0\n",
    "        while i < len(left_half) and j < len(right_half):\n",
    "            if not reverse:\n",
    "                if left_half[i] <= right_half[j]:\n",
    "                    result.append(left_half[i])\n",
    "                    i += 1\n",
    "                else:\n",
    "                    result.append(right_half[j])\n",
    "                    j += 1\n",
    "            elif reverse:\n",
    "                if left_half[i] >= right_half[j]:\n",
    "                    result.append(left_half[i])\n",
    "                    i += 1\n",
    "                else:\n",
    "                    result.append(right_half[j])\n",
    "                    j += 1\n",
    "        result += left_half[i:]\n",
    "        result += right_half[j:]\n",
    "        return result\n",
    "\n",
    "    # декоратор, вычисляющий время выполнения функции и выводящий его на экран\n",
    "    def measure_time(func):\n",
    "        def wrapper(*args, **kwargs):\n",
    "            start = time.time()\n",
    "            result = func(*args, **kwargs)\n",
    "            end = time.time()\n",
    "            print(f\"\\nВремя выполнения {tuple(kwargs.items())[0][1]}_sort: {end - start:.6f} сек.\")\n",
    "            return result\n",
    "        return wrapper\n",
    "\n",
    "    @staticmethod\n",
    "    @measure_time\n",
    "    def sort(arr, method='bubble', reverse=False):\n",
    "        if method == 'bubble':\n",
    "            return Sorting.bubble_sort(arr, reverse)\n",
    "        elif method == 'cocktail':\n",
    "            return Sorting.cocktail_sort(arr, reverse)\n",
    "        elif method == 'comb':\n",
    "            return Sorting.comb_sort(arr, reverse)\n",
    "        elif method == 'selection':\n",
    "            return Sorting.selection_sort(arr, reverse)\n",
    "        elif method == 'insertion':\n",
    "            return Sorting.insertion_sort(arr, reverse)\n",
    "        elif method == 'quick':\n",
    "            return Sorting.quick_sort(arr, reverse)\n",
    "        elif method == 'shell':\n",
    "            return Sorting.shell_sort(arr, reverse)\n",
    "        elif method == 'merge':\n",
    "            return Sorting.merge_sort(arr, reverse)"
   ]
  },
  {
   "cell_type": "markdown",
   "id": "9944f041-cf3a-4ede-8437-312c8a2605df",
   "metadata": {
    "jp-MarkdownHeadingCollapsed": true
   },
   "source": [
    "# Циклический двусвязный список"
   ]
  },
  {
   "cell_type": "code",
   "execution_count": 1100,
   "id": "d04fb024-895b-45dc-8951-e0e9ba839d47",
   "metadata": {},
   "outputs": [],
   "source": [
    "class Node:\n",
    "    def __init__(self, data=None):\n",
    "        self.data = data\n",
    "        self.prev = None\n",
    "        self.next = None\n",
    "\n",
    "class CircularDoublyLinkedList:\n",
    "    def __init__(self):\n",
    "        self.head = None\n",
    "        self.tail = None\n",
    "\n",
    "    def append(self, data):\n",
    "        new_node = Node(data)\n",
    "        if self.head is None:\n",
    "            self.head = new_node\n",
    "            self.tail = new_node\n",
    "            new_node.prev = self.tail\n",
    "            new_node.next = self.head\n",
    "        else:\n",
    "            new_node.prev = self.tail\n",
    "            new_node.next = self.head\n",
    "            self.tail.next = new_node\n",
    "            self.head.prev = new_node\n",
    "            self.tail = new_node\n",
    "\n",
    "    def prepend(self, data):\n",
    "        new_node = Node(data)\n",
    "        if self.head is None:\n",
    "            self.head = new_node\n",
    "            self.tail = new_node\n",
    "            new_node.prev = self.tail\n",
    "            new_node.next = self.head\n",
    "        else:\n",
    "            new_node.prev = self.tail\n",
    "            new_node.next = self.head\n",
    "            self.head.prev = new_node\n",
    "            self.tail.next = new_node\n",
    "            self.head = new_node\n",
    "\n",
    "    def delete(self, key):\n",
    "        current_node = self.head\n",
    "        while current_node:\n",
    "            if current_node.data == key:\n",
    "                if current_node == self.head:\n",
    "                    self.head = current_node.next\n",
    "                    self.tail.next = self.head\n",
    "                    self.head.prev = self.tail\n",
    "                elif current_node == self.tail:\n",
    "                    self.tail = current_node.prev\n",
    "                    self.head.prev = self.tail\n",
    "                    self.tail.next = self.head\n",
    "                else:\n",
    "                    current_node.prev.next = current_node.next\n",
    "                    current_node.next.prev = current_node.prev\n",
    "                return\n",
    "            current_node = current_node.next\n",
    "\n",
    "    def __len__(self):\n",
    "        count = 0\n",
    "        current_node = self.head\n",
    "        while current_node:\n",
    "            count += 1\n",
    "            current_node = current_node.next\n",
    "            if current_node == self.head:\n",
    "                break\n",
    "        return count\n",
    "\n",
    "    def __str__(self):\n",
    "        cdllist_str = \"\"\n",
    "        current_node = self.head\n",
    "        while current_node:\n",
    "            cdllist_str += str(current_node.data) + \" ⇄ \"\n",
    "            current_node = current_node.next\n",
    "            if current_node == self.head:\n",
    "                break\n",
    "        return \" ⇄ \" + cdllist_str"
   ]
  },
  {
   "cell_type": "markdown",
   "id": "45951e96-00f0-430b-8089-719b4e392b02",
   "metadata": {
    "jp-MarkdownHeadingCollapsed": true
   },
   "source": [
    "# Двоичная куча"
   ]
  },
  {
   "cell_type": "code",
   "execution_count": 1101,
   "id": "9e7ecc99-cecb-477c-93b2-e0e94567e993",
   "metadata": {},
   "outputs": [],
   "source": [
    "import math\n",
    "\n",
    "# реализация класса двоичной кучи\n",
    "class BinaryHeap:\n",
    "    def __init__(self):\n",
    "        self.heapList = [0]\n",
    "        self.currentSize = 0\n",
    "\n",
    "    def percUp(self, i):\n",
    "        while i // 2 > 0:\n",
    "            if self.heapList[i] < self.heapList[i // 2]:\n",
    "                tmp = self.heapList[i // 2]\n",
    "                self.heapList[i // 2] = self.heapList[i]\n",
    "                self.heapList[i] = tmp\n",
    "            i //= 2\n",
    "\n",
    "    def insert(self, k):\n",
    "        self.heapList.append(k)\n",
    "        self.currentSize = self.currentSize + 1\n",
    "        self.percUp(self.currentSize)\n",
    "\n",
    "    def percDown(self, i):\n",
    "        while (i * 2) <= self.currentSize:\n",
    "            mc = self.minChild(i)\n",
    "            if self.heapList[i] > self.heapList[mc]:\n",
    "                tmp = self.heapList[i]\n",
    "                self.heapList[i] = self.heapList[mc]\n",
    "                self.heapList[mc] = tmp\n",
    "            i = mc\n",
    "\n",
    "    def minChild(self, i):\n",
    "        if i * 2 + 1 > self.currentSize:\n",
    "            return i * 2\n",
    "        else:\n",
    "            if self.heapList[i*2] < self.heapList[i*2+1]:\n",
    "                return i * 2\n",
    "            else:\n",
    "                return i * 2 + 1\n",
    "\n",
    "    def delMin(self):\n",
    "        retval = self.heapList[1]\n",
    "        self.heapList[1] = self.heapList[self.currentSize]\n",
    "        self.currentSize = self.currentSize - 1\n",
    "        self.heapList.pop()\n",
    "        self.percDown(1)\n",
    "        return retval\n",
    "\n",
    "    def buildHeap(self, alist):\n",
    "        i = len(alist) // 2\n",
    "        self.currentSize = len(alist)\n",
    "        self.heapList = [0] + alist[:]\n",
    "        while (i > 0):\n",
    "            self.percDown(i)\n",
    "            i -= 1\n",
    "\n",
    "    def __str__(self):\n",
    "        if not self.currentSize:\n",
    "            return f'Двоичная куча пуста'\n",
    "        else:\n",
    "            heap_str = \"\"\n",
    "            height = int(math.log(self.currentSize, 2)) + 1\n",
    "            for i in range(0, height):\n",
    "                for j in range(2**i, min(2**(i+1), self.currentSize+1)):\n",
    "                    heap_str += str(self.heapList[j]) + \" \"\n",
    "                heap_str += \"\\n\"\n",
    "            return heap_str.strip()"
   ]
  },
  {
   "cell_type": "code",
   "execution_count": 1102,
   "id": "38ca5481-dbf2-4f7b-ad97-8700093d85f4",
   "metadata": {},
   "outputs": [],
   "source": [
    "# реализация класса очереди с приоритетом\n",
    "class PriorityQueue:\n",
    "    def __init__(self):\n",
    "        self.heap = BinaryHeap()\n",
    "\n",
    "    def enqueue(self, item, priority):\n",
    "        self.heap.insert((priority, item))\n",
    "\n",
    "    def dequeue(self):\n",
    "        return self.heap.delMin()[1]\n",
    "\n",
    "    def __str__(self):\n",
    "        return self.heap.__str__()"
   ]
  },
  {
   "cell_type": "code",
   "execution_count": null,
   "id": "1f849f79-3f4b-48e8-85ac-bb25d67d49e5",
   "metadata": {},
   "outputs": [],
   "source": []
  }
 ],
 "metadata": {
  "kernelspec": {
   "display_name": "Python 3 (ipykernel)",
   "language": "python",
   "name": "python3"
  },
  "language_info": {
   "codemirror_mode": {
    "name": "ipython",
    "version": 3
   },
   "file_extension": ".py",
   "mimetype": "text/x-python",
   "name": "python",
   "nbconvert_exporter": "python",
   "pygments_lexer": "ipython3",
   "version": "3.10.6"
  }
 },
 "nbformat": 4,
 "nbformat_minor": 5
}
